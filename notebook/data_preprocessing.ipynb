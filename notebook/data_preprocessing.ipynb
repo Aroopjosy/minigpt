{
 "cells": [
  {
   "cell_type": "code",
   "execution_count": 1,
   "id": "0cbcbe07-38c8-40e8-ae03-0527ddbf3f52",
   "metadata": {},
   "outputs": [],
   "source": [
    "# import urllib.request\n",
    "# url = (\"https://raw.githubusercontent.com/rasbt/\"\n",
    "# \"LLMs-from-scratch/main/ch02/01_main-chapter-code/\"\n",
    "# \"the-verdict.txt\")\n",
    "# file_path = \"the-verdict.txt\"\n",
    "# urllib.request.urlretrieve(url, file_path)"
   ]
  },
  {
   "cell_type": "code",
   "execution_count": 2,
   "id": "f203b22f-d3b3-4be5-a0b9-c177ae875e08",
   "metadata": {},
   "outputs": [
    {
     "name": "stdout",
     "output_type": "stream",
     "text": [
      "Total number of character: 20479\n",
      "I HAD always thought Jack Gisburn rather a cheap genius--though a good fellow enough--so it was no \n"
     ]
    }
   ],
   "source": [
    "with open(\"the-verdict.txt\", \"r\", encoding=\"utf-8\") as f:\n",
    "    raw_text = f.read()\n",
    "    print(\"Total number of character:\", len(raw_text))\n",
    "    print(raw_text[:99])"
   ]
  },
  {
   "cell_type": "code",
   "execution_count": 3,
   "id": "e1a1e1b6-053c-46c1-86fb-959fe0b1a98e",
   "metadata": {},
   "outputs": [
    {
     "name": "stdout",
     "output_type": "stream",
     "text": [
      "['Hello,', ' ', 'world.', ' ', 'This,', ' ', 'is', ' ', 'a', ' ', 'test.']\n"
     ]
    }
   ],
   "source": [
    "import re\n",
    "text = \"Hello, world. This, is a test.\"\n",
    "result = re.split(r'(\\s)', text)\n",
    "print(result)"
   ]
  },
  {
   "cell_type": "code",
   "execution_count": 4,
   "id": "c9fb907d-82b2-445a-b4f2-2b78bcdd885a",
   "metadata": {},
   "outputs": [
    {
     "name": "stdout",
     "output_type": "stream",
     "text": [
      "['Hello', ',', '', ' ', 'world', '.', '', ' ', 'This', ',', '', ' ', 'is', ' ', 'a', ' ', 'test', '.', '']\n"
     ]
    }
   ],
   "source": [
    "result = re.split(r'([,.]|\\s)', text)\n",
    "print(result)"
   ]
  },
  {
   "cell_type": "code",
   "execution_count": 5,
   "id": "80f943c4-3834-4136-a4e8-762a12fb9984",
   "metadata": {},
   "outputs": [
    {
     "name": "stdout",
     "output_type": "stream",
     "text": [
      "['Hello', ',', 'world', '.', 'This', ',', 'is', 'a', 'test', '.']\n"
     ]
    }
   ],
   "source": [
    "result = [item for item in result if item.strip()]\n",
    "print(result)"
   ]
  },
  {
   "cell_type": "code",
   "execution_count": 6,
   "id": "e6d734e2-26cd-4f68-b4bf-8f073ae8ecf5",
   "metadata": {},
   "outputs": [
    {
     "name": "stdout",
     "output_type": "stream",
     "text": [
      "['Hello', ',', 'world', '.', 'Is', 'this', '--', 'a', 'test', '?']\n"
     ]
    }
   ],
   "source": [
    "text = \"Hello, world. Is this-- a test?\"\n",
    "result = re.split(r'([,.:;?_!\"()\\']|--|\\s)', text)\n",
    "result = [item.strip() for item in result if item.strip()]\n",
    "print(result)"
   ]
  },
  {
   "cell_type": "code",
   "execution_count": 7,
   "id": "bb549a58-0fb9-479c-a11f-2e7605ccffe1",
   "metadata": {},
   "outputs": [
    {
     "name": "stdout",
     "output_type": "stream",
     "text": [
      "4690\n"
     ]
    }
   ],
   "source": [
    "preprocessed = re.split(r'([,.:;?_!\"()\\']|--|\\s)', raw_text)\n",
    "preprocessed = [item.strip() for item in preprocessed if item.strip()]\n",
    "print(len(preprocessed))"
   ]
  },
  {
   "cell_type": "code",
   "execution_count": 8,
   "id": "c81f7617-a537-496e-af80-319284759c49",
   "metadata": {},
   "outputs": [
    {
     "name": "stdout",
     "output_type": "stream",
     "text": [
      "['I', 'HAD', 'always', 'thought', 'Jack', 'Gisburn', 'rather', 'a', 'cheap', 'genius', '--', 'though', 'a', 'good', 'fellow', 'enough', '--', 'so', 'it', 'was', 'no', 'great', 'surprise', 'to', 'me', 'to', 'hear', 'that', ',', 'in']\n"
     ]
    }
   ],
   "source": [
    "print(preprocessed[:30])"
   ]
  },
  {
   "cell_type": "code",
   "execution_count": 9,
   "id": "7e74a210-0116-46db-bfc7-ec45cc5ea3e4",
   "metadata": {},
   "outputs": [
    {
     "name": "stdout",
     "output_type": "stream",
     "text": [
      "1130\n"
     ]
    }
   ],
   "source": [
    "all_words = sorted(set(preprocessed))\n",
    "vocab_size = len(all_words)\n",
    "print(vocab_size)"
   ]
  },
  {
   "cell_type": "code",
   "execution_count": 10,
   "id": "9aa68121-9bbe-4105-959f-ad1814e3a913",
   "metadata": {},
   "outputs": [
    {
     "name": "stdout",
     "output_type": "stream",
     "text": [
      "['!', '\"', \"'\", '(', ')', ',', '--', '.', ':', ';', '?', 'A', 'Ah', 'Among', 'And', 'Are', 'Arrt', 'As', 'At', 'Be', 'Begin', 'Burlington', 'But', 'By', 'Carlo', 'Chicago', 'Claude', 'Come', 'Croft', 'Destroyed', 'Devonshire', 'Don', 'Dubarry', 'Emperors', 'Florence', 'For', 'Gallery', 'Gideon', 'Gisburn', 'Gisburns', 'Grafton', 'Greek', 'Grindle', 'Grindles', 'HAD', 'Had', 'Hang', 'Has', 'He', 'Her', 'Hermia', 'His', 'How', 'I', 'If', 'In', 'It', 'Jack', 'Jove', 'Just', 'Lord', 'Made', 'Miss', 'Money', 'Monte', 'Moon-dancers', 'Mr', 'Mrs', 'My', 'Never', 'No', 'Now', 'Nutley', 'Of', 'Oh', 'On', 'Once', 'Only', 'Or', 'Perhaps', 'Poor', 'Professional', 'Renaissance', 'Rickham', 'Riviera', 'Rome', 'Russian', 'Sevres', 'She', 'Stroud', 'Strouds', 'Suddenly', 'That', 'The', 'Then', 'There', 'They', 'This', 'Those', 'Though']\n"
     ]
    }
   ],
   "source": [
    "print(all_words[:100])"
   ]
  },
  {
   "cell_type": "code",
   "execution_count": 11,
   "id": "a7149aef-b69b-4b7c-bf13-db6bcac582a7",
   "metadata": {},
   "outputs": [
    {
     "name": "stdout",
     "output_type": "stream",
     "text": [
      "('!', 0)\n",
      "('\"', 1)\n",
      "(\"'\", 2)\n",
      "('(', 3)\n",
      "(')', 4)\n",
      "(',', 5)\n",
      "('--', 6)\n",
      "('.', 7)\n",
      "(':', 8)\n",
      "(';', 9)\n",
      "('?', 10)\n",
      "('A', 11)\n",
      "('Ah', 12)\n",
      "('Among', 13)\n",
      "('And', 14)\n",
      "('Are', 15)\n",
      "('Arrt', 16)\n",
      "('As', 17)\n",
      "('At', 18)\n",
      "('Be', 19)\n",
      "('Begin', 20)\n",
      "('Burlington', 21)\n",
      "('But', 22)\n",
      "('By', 23)\n",
      "('Carlo', 24)\n",
      "('Chicago', 25)\n",
      "('Claude', 26)\n",
      "('Come', 27)\n",
      "('Croft', 28)\n",
      "('Destroyed', 29)\n",
      "('Devonshire', 30)\n",
      "('Don', 31)\n",
      "('Dubarry', 32)\n",
      "('Emperors', 33)\n",
      "('Florence', 34)\n",
      "('For', 35)\n",
      "('Gallery', 36)\n",
      "('Gideon', 37)\n",
      "('Gisburn', 38)\n",
      "('Gisburns', 39)\n",
      "('Grafton', 40)\n",
      "('Greek', 41)\n",
      "('Grindle', 42)\n",
      "('Grindles', 43)\n",
      "('HAD', 44)\n",
      "('Had', 45)\n",
      "('Hang', 46)\n",
      "('Has', 47)\n",
      "('He', 48)\n",
      "('Her', 49)\n",
      "('Hermia', 50)\n"
     ]
    }
   ],
   "source": [
    "vocab = {token:integer for integer,token in enumerate(all_words)}\n",
    "for i, item in enumerate(vocab.items()):\n",
    "    print(item)\n",
    "    if i >= 50:\n",
    "        break"
   ]
  },
  {
   "cell_type": "code",
   "execution_count": 12,
   "id": "a5ee371c-36ef-4ef0-b638-84f387686d59",
   "metadata": {},
   "outputs": [],
   "source": [
    "# Create Tokenizer class \n",
    "class SimpleTokenizerV1:\n",
    "    def __init__(self, vocab):\n",
    "        self.str_to_int = vocab\n",
    "        self.int_to_str = {i:s for s,i in vocab.items()}\n",
    "    def encode(self, text):\n",
    "        preprocessed = re.split(r'([,.?_!\"()\\']|--|\\s)', text)\n",
    "        preprocessed = [\n",
    "        item.strip() for item in preprocessed if item.strip()\n",
    "        ]\n",
    "        ids = [self.str_to_int[s] for s in preprocessed]\n",
    "        return ids\n",
    "    def decode(self, ids):\n",
    "        text = \" \".join([self.int_to_str[i] for i in ids])\n",
    "        text = re.sub(r'\\s+([,.?!\"()\\'])', r'\\1', text)\n",
    "        return text"
   ]
  },
  {
   "cell_type": "code",
   "execution_count": 13,
   "id": "26a908e3-b569-4c67-853c-e0a798b1aa1f",
   "metadata": {},
   "outputs": [
    {
     "name": "stdout",
     "output_type": "stream",
     "text": [
      "[1, 56, 2, 850, 988, 602, 533, 746, 5, 1126, 596, 5, 1, 67, 7, 38, 851, 1108, 754, 793, 7]\n"
     ]
    }
   ],
   "source": [
    "tokenizer = SimpleTokenizerV1(vocab)\n",
    "text = \"\"\"\"It's the last he painted, you know,\"\n",
    "Mrs. Gisburn said with pardonable pride.\"\"\"\n",
    "ids = tokenizer.encode(text)\n",
    "print(ids)"
   ]
  },
  {
   "cell_type": "code",
   "execution_count": 14,
   "id": "75a41e05-3f0f-4051-9306-875958e56978",
   "metadata": {},
   "outputs": [
    {
     "name": "stdout",
     "output_type": "stream",
     "text": [
      "\" It' s the last he painted, you know,\" Mrs. Gisburn said with pardonable pride.\n"
     ]
    }
   ],
   "source": [
    "print(tokenizer.decode(ids))"
   ]
  },
  {
   "cell_type": "code",
   "execution_count": 15,
   "id": "4ee162a9-8012-4a2c-8d38-bfd850600481",
   "metadata": {},
   "outputs": [],
   "source": [
    "text = \"Hello, do you like tea?\"\n",
    "# print(tokenizer.encode(text))"
   ]
  },
  {
   "cell_type": "code",
   "execution_count": 16,
   "id": "1d1e398a-97a6-495b-871e-8ce670db6a65",
   "metadata": {},
   "outputs": [
    {
     "name": "stdout",
     "output_type": "stream",
     "text": [
      "1132\n"
     ]
    }
   ],
   "source": [
    "all_tokens = sorted(list(set(preprocessed)))\n",
    "all_tokens.extend([\"<|endoftext|>\", \"<|unk|>\"])\n",
    "vocab = {token:integer for integer,token in enumerate(all_tokens)}\n",
    "print(len(vocab.items()))"
   ]
  },
  {
   "cell_type": "code",
   "execution_count": 17,
   "id": "0c64bbca-62f7-44a1-a414-02cd360db0fa",
   "metadata": {},
   "outputs": [
    {
     "name": "stdout",
     "output_type": "stream",
     "text": [
      "('younger', 1127)\n",
      "('your', 1128)\n",
      "('yourself', 1129)\n",
      "('<|endoftext|>', 1130)\n",
      "('<|unk|>', 1131)\n"
     ]
    }
   ],
   "source": [
    "for i, item in enumerate(list(vocab.items())[-5:]):\n",
    "    print(item)"
   ]
  },
  {
   "cell_type": "code",
   "execution_count": 18,
   "id": "9df98237-c066-42a2-81f1-26ba4f9efeea",
   "metadata": {},
   "outputs": [],
   "source": [
    "class SimpleTokenizerV2:\n",
    "    def __init__(self, vocab):\n",
    "        self.str_to_int = vocab\n",
    "        self.int_to_str = { i:s for s,i in vocab.items()}\n",
    "        \n",
    "    def encode(self, text):\n",
    "        preprocessed = re.split(r'([,.:;?_!\"()\\']|--|\\s)', text)\n",
    "        preprocessed = [\n",
    "        item.strip() for item in preprocessed if item.strip()\n",
    "        ]\n",
    "        preprocessed = [item if item in self.str_to_int\n",
    "        else \"<|unk|>\" for item in preprocessed]\n",
    "        ids = [self.str_to_int[s] for s in preprocessed]\n",
    "        return ids\n",
    "    def decode(self, ids):\n",
    "        text = \" \".join([self.int_to_str[i] for i in ids])\n",
    "        text = re.sub(r'\\s+([,.:;?!\"()\\'])', r'\\1', text)\n",
    "        return text"
   ]
  },
  {
   "cell_type": "code",
   "execution_count": 19,
   "id": "0138f130-d443-4bf7-a25a-25f74b4b520c",
   "metadata": {},
   "outputs": [
    {
     "name": "stdout",
     "output_type": "stream",
     "text": [
      "Hello, do you like tea? <|endoftext|> In the sunlit terraces of the palace.\n"
     ]
    }
   ],
   "source": [
    "text1 = \"Hello, do you like tea?\"\n",
    "text2 = \"In the sunlit terraces of the palace.\"\n",
    "text = \" <|endoftext|> \".join((text1, text2))\n",
    "print(text)"
   ]
  },
  {
   "cell_type": "code",
   "execution_count": 20,
   "id": "70a9f237-ceae-48e5-bec7-3afb2328e7a5",
   "metadata": {},
   "outputs": [
    {
     "name": "stdout",
     "output_type": "stream",
     "text": [
      "[1131, 5, 355, 1126, 628, 975, 10, 1130, 55, 988, 956, 984, 722, 988, 1131, 7]\n"
     ]
    }
   ],
   "source": [
    "tokenizer = SimpleTokenizerV2(vocab)\n",
    "print(tokenizer.encode(text))"
   ]
  },
  {
   "cell_type": "code",
   "execution_count": 21,
   "id": "816d1d09-0c81-471e-9f2d-8dfeadca6f41",
   "metadata": {},
   "outputs": [
    {
     "name": "stdout",
     "output_type": "stream",
     "text": [
      "<|unk|>, do you like tea? <|endoftext|> In the sunlit terraces of the <|unk|>.\n"
     ]
    }
   ],
   "source": [
    "print(tokenizer.decode(tokenizer.encode(text)))"
   ]
  },
  {
   "cell_type": "code",
   "execution_count": 22,
   "id": "a859fbba-3d8c-4831-be21-6188dfedead9",
   "metadata": {},
   "outputs": [
    {
     "name": "stdout",
     "output_type": "stream",
     "text": [
      "tiktoken version: 0.9.0\n"
     ]
    }
   ],
   "source": [
    "from importlib.metadata import version\n",
    "import tiktoken\n",
    "print(\"tiktoken version:\", version(\"tiktoken\"))"
   ]
  },
  {
   "cell_type": "code",
   "execution_count": 23,
   "id": "2fa31400-d075-436d-87e7-42402b0ab7b1",
   "metadata": {},
   "outputs": [
    {
     "name": "stdout",
     "output_type": "stream",
     "text": [
      "0.9.0\n"
     ]
    }
   ],
   "source": [
    "print(tiktoken.__version__)"
   ]
  },
  {
   "cell_type": "code",
   "execution_count": 24,
   "id": "4d096a04-3eea-4102-b7db-7572342b4d03",
   "metadata": {},
   "outputs": [],
   "source": [
    "tokenizer = tiktoken.get_encoding('gpt2')"
   ]
  },
  {
   "cell_type": "code",
   "execution_count": 25,
   "id": "0cf948ba-1ef1-4d7b-aae2-a25ab2ba12cb",
   "metadata": {},
   "outputs": [
    {
     "name": "stdout",
     "output_type": "stream",
     "text": [
      "[15496, 11, 466, 345, 588, 8887, 30, 220, 50256, 554, 262, 4252, 18250, 8812, 2114, 1659, 617, 34680, 27271, 13]\n"
     ]
    }
   ],
   "source": [
    "text = (\n",
    "\"Hello, do you like tea? <|endoftext|> In the sunlit terraces\"\n",
    "\"of someunknownPlace.\"\n",
    ")\n",
    "integers = tokenizer.encode(text, allowed_special={\"<|endoftext|>\"})\n",
    "print(integers)"
   ]
  },
  {
   "cell_type": "code",
   "execution_count": 26,
   "id": "39e0d0c6-93aa-4501-b33d-c58f31e0786a",
   "metadata": {},
   "outputs": [
    {
     "name": "stdout",
     "output_type": "stream",
     "text": [
      "Hello, do you like tea? <|endoftext|> In the sunlit terracesof someunknownPlace.\n"
     ]
    }
   ],
   "source": [
    "strings = tokenizer.decode(integers)\n",
    "print(strings)"
   ]
  },
  {
   "cell_type": "code",
   "execution_count": 27,
   "id": "7e3d9d86-f2d8-4023-af68-9d60375650ca",
   "metadata": {},
   "outputs": [
    {
     "name": "stdout",
     "output_type": "stream",
     "text": [
      "5145\n"
     ]
    }
   ],
   "source": [
    "with open(\"the-verdict.txt\", \"r\", encoding=\"utf-8\") as f:\n",
    "    raw_text = f.read()\n",
    "enc_text = tokenizer.encode(raw_text)\n",
    "print(len(enc_text))"
   ]
  },
  {
   "cell_type": "code",
   "execution_count": 28,
   "id": "ad3d1331-b55d-4007-8914-064a01f08e3f",
   "metadata": {},
   "outputs": [],
   "source": [
    "enc_sample = enc_text[50:]"
   ]
  },
  {
   "cell_type": "code",
   "execution_count": 29,
   "id": "cd2d97cb-fa5c-4fc1-b56b-2f7652cbcfe4",
   "metadata": {},
   "outputs": [
    {
     "name": "stdout",
     "output_type": "stream",
     "text": [
      "[40, 367, 2885, 1464, 1807, 3619, 402, 271, 10899, 2138, 257, 7026, 15632, 438, 2016, 257, 922, 5891, 1576, 438, 568, 340, 373, 645, 1049, 5975, 284, 502, 284, 3285, 326, 11, 287, 262, 6001, 286, 465, 13476, 11, 339, 550, 5710, 465, 12036, 11, 6405, 257, 5527, 27075, 11]\n"
     ]
    }
   ],
   "source": [
    "print(enc_text[:50])"
   ]
  },
  {
   "cell_type": "code",
   "execution_count": 30,
   "id": "e75de4c6-e8bd-4dc1-891c-59cba800f134",
   "metadata": {},
   "outputs": [
    {
     "data": {
      "text/plain": [
       "'I HAD always thought Jack Gisburn rather a cheap genius--though a good fellow enough--so it was no great surprise to me to hear that, in the height of his glory, he had dropped his painting, married a rich widow,'"
      ]
     },
     "execution_count": 30,
     "metadata": {},
     "output_type": "execute_result"
    }
   ],
   "source": [
    "tokenizer.decode(enc_text[:50])"
   ]
  },
  {
   "cell_type": "code",
   "execution_count": 31,
   "id": "896c7b3d-4508-4512-9af2-5cdbaad613e4",
   "metadata": {},
   "outputs": [
    {
     "name": "stdout",
     "output_type": "stream",
     "text": [
      "x: [290, 4920, 2241, 287]\n",
      "y:      [4920, 2241, 287, 257]\n"
     ]
    }
   ],
   "source": [
    "context_size = 4\n",
    "x = enc_sample[:context_size]\n",
    "y = enc_sample[1:context_size+1]\n",
    "print(f\"x: {x}\")\n",
    "print(f\"y:      {y}\")"
   ]
  },
  {
   "cell_type": "code",
   "execution_count": 32,
   "id": "8f5ca120-df7b-4b3d-8007-794208f8cac6",
   "metadata": {},
   "outputs": [],
   "source": [
    "# for id in range(1, context_size+1):\n",
    "#     x = enc_sample[:id]\n",
    "#     y = enc_sample[id]\n",
    "#     print(f\"x = {x} y = {y}\")"
   ]
  },
  {
   "cell_type": "code",
   "execution_count": 33,
   "id": "85e83c3c-7d16-4945-ac42-28e5657194ff",
   "metadata": {},
   "outputs": [
    {
     "name": "stdout",
     "output_type": "stream",
     "text": [
      "[290] ----> 4920\n",
      "[290, 4920] ----> 2241\n",
      "[290, 4920, 2241] ----> 287\n",
      "[290, 4920, 2241, 287] ----> 257\n"
     ]
    }
   ],
   "source": [
    "for i in range(1, context_size+1):\n",
    "    context = enc_sample[:i]\n",
    "    desired = enc_sample[i]\n",
    "    print(context, \"---->\", desired)"
   ]
  },
  {
   "cell_type": "code",
   "execution_count": 34,
   "id": "6e11b730-73be-49f3-8724-1c06417a242b",
   "metadata": {},
   "outputs": [
    {
     "name": "stdout",
     "output_type": "stream",
     "text": [
      " and ---->  established\n",
      " and established ---->  himself\n",
      " and established himself ---->  in\n",
      " and established himself in ---->  a\n"
     ]
    }
   ],
   "source": [
    "for i in range(1, context_size+1):\n",
    "    context = enc_sample[:i]\n",
    "    desired = enc_sample[i]\n",
    "    print(tokenizer.decode(context), \"---->\", tokenizer.decode([desired]))"
   ]
  },
  {
   "cell_type": "code",
   "execution_count": 35,
   "id": "add579af-f2e7-4f82-81fa-94f2114afc3c",
   "metadata": {},
   "outputs": [],
   "source": [
    "import torch\n",
    "import numpy as np\n",
    "from torch.utils.data import Dataset, DataLoader\n",
    "class GPTDatasetV1(Dataset):\n",
    "    def __init__(self, txt, tokenizer, max_length, stride):\n",
    "        self.input_ids = []\n",
    "        self.target_ids = []\n",
    "        token_ids = tokenizer.encode(txt)\n",
    "        for i in range(0, len(token_ids) - max_length, stride):\n",
    "            input_chunk = token_ids[i:i + max_length]\n",
    "            target_chunk = token_ids[i + 1: i + max_length + 1]\n",
    "            self.input_ids.append(torch.tensor(input_chunk))\n",
    "            self.target_ids.append(torch.tensor(target_chunk))\n",
    "    def __len__(self):\n",
    "        return len(self.input_ids)\n",
    "        \n",
    "    def __getitem__(self, idx):\n",
    "        return self.input_ids[idx], self.target_ids[idx]\n",
    "        "
   ]
  },
  {
   "cell_type": "code",
   "execution_count": 36,
   "id": "5d6de6a0-1ef7-4c03-bf8c-fa1fd9e904b4",
   "metadata": {},
   "outputs": [],
   "source": [
    "def create_dataloader_v1(txt, batch_size=4, max_length=256,\n",
    "    stride=128, shuffle=True, drop_last=True,\n",
    "    num_workers=0):\n",
    "    tokenizer = tiktoken.get_encoding(\"gpt2\")\n",
    "    dataset = GPTDatasetV1(txt, tokenizer, max_length, stride)\n",
    "    dataloader = DataLoader(\n",
    "    dataset,\n",
    "    batch_size=batch_size,\n",
    "    shuffle=shuffle,\n",
    "    drop_last=drop_last,\n",
    "    num_workers=num_workers\n",
    "    )\n",
    "    return dataloader"
   ]
  },
  {
   "cell_type": "code",
   "execution_count": 37,
   "id": "a02c23a5-8036-43ee-b878-dae88152116f",
   "metadata": {},
   "outputs": [
    {
     "name": "stdout",
     "output_type": "stream",
     "text": [
      "[tensor([[  40,  367, 2885, 1464]]), tensor([[ 367, 2885, 1464, 1807]])]\n"
     ]
    }
   ],
   "source": [
    "with open(\"the-verdict.txt\", \"r\", encoding=\"utf-8\") as f:\n",
    "    raw_text = f.read()\n",
    "dataloader = create_dataloader_v1(\n",
    "raw_text, batch_size=1, max_length=4, stride=1, shuffle=False)\n",
    "data_iter = iter(dataloader)\n",
    "first_batch = next(data_iter)\n",
    "print(first_batch)"
   ]
  },
  {
   "cell_type": "code",
   "execution_count": 38,
   "id": "b851925b-4890-48e7-8309-97485ec807fa",
   "metadata": {},
   "outputs": [
    {
     "name": "stdout",
     "output_type": "stream",
     "text": [
      "[tensor([[ 367, 2885, 1464, 1807]]), tensor([[2885, 1464, 1807, 3619]])]\n"
     ]
    }
   ],
   "source": [
    "print(next(data_iter))"
   ]
  },
  {
   "cell_type": "code",
   "execution_count": 39,
   "id": "58c6df7c-e8d9-4343-9a1b-20d7848b7bb0",
   "metadata": {},
   "outputs": [
    {
     "name": "stdout",
     "output_type": "stream",
     "text": [
      "Inputs:\n",
      " tensor([[   40,   367,  2885,  1464],\n",
      "        [ 1807,  3619,   402,   271],\n",
      "        [10899,  2138,   257,  7026],\n",
      "        [15632,   438,  2016,   257],\n",
      "        [  922,  5891,  1576,   438],\n",
      "        [  568,   340,   373,   645],\n",
      "        [ 1049,  5975,   284,   502],\n",
      "        [  284,  3285,   326,    11]])\n",
      "\n",
      "Targets:\n",
      " tensor([[  367,  2885,  1464,  1807],\n",
      "        [ 3619,   402,   271, 10899],\n",
      "        [ 2138,   257,  7026, 15632],\n",
      "        [  438,  2016,   257,   922],\n",
      "        [ 5891,  1576,   438,   568],\n",
      "        [  340,   373,   645,  1049],\n",
      "        [ 5975,   284,   502,   284],\n",
      "        [ 3285,   326,    11,   287]])\n"
     ]
    }
   ],
   "source": [
    "dataloader = create_dataloader_v1(\n",
    "raw_text, batch_size=8, max_length=4, stride=4,\n",
    "shuffle=False\n",
    ")\n",
    "data_iter = iter(dataloader)\n",
    "inputs, targets = next(data_iter)\n",
    "print(\"Inputs:\\n\", inputs)\n",
    "print(\"\\nTargets:\\n\", targets)"
   ]
  },
  {
   "cell_type": "code",
   "execution_count": 40,
   "id": "5a35f55a-e804-4738-9c31-8fb97afebd69",
   "metadata": {},
   "outputs": [],
   "source": [
    "input_ids = torch.tensor([2, 3, 5, 1])"
   ]
  },
  {
   "cell_type": "code",
   "execution_count": 41,
   "id": "6d09ddd4-f74d-4d27-8155-f8026c5062dd",
   "metadata": {},
   "outputs": [
    {
     "name": "stdout",
     "output_type": "stream",
     "text": [
      "Parameter containing:\n",
      "tensor([[ 0.3374, -0.1778, -0.1690],\n",
      "        [ 0.9178,  1.5810,  1.3010],\n",
      "        [ 1.2753, -0.2010, -0.1606],\n",
      "        [-0.4015,  0.9666, -1.1481],\n",
      "        [-1.1589,  0.3255, -0.6315],\n",
      "        [-2.8400, -0.7849, -1.4096]], requires_grad=True)\n"
     ]
    }
   ],
   "source": [
    "vocab_size = 6\n",
    "output_dim = 3\n",
    "\n",
    "torch.manual_seed(123)\n",
    "embedding_layer = torch.nn.Embedding(vocab_size, output_dim)\n",
    "print(embedding_layer.weight)"
   ]
  },
  {
   "cell_type": "code",
   "execution_count": 42,
   "id": "c2882484-6bac-42c6-9b01-ec387523aa1d",
   "metadata": {},
   "outputs": [
    {
     "name": "stdout",
     "output_type": "stream",
     "text": [
      "tensor([[-0.4015,  0.9666, -1.1481]], grad_fn=<EmbeddingBackward0>)\n"
     ]
    }
   ],
   "source": [
    "print(embedding_layer(torch.tensor([3])))"
   ]
  },
  {
   "cell_type": "code",
   "execution_count": 43,
   "id": "be6740dc-0159-4148-8f13-11e19a2d321f",
   "metadata": {},
   "outputs": [],
   "source": [
    "vocab_size = 50257\n",
    "output_dim = 256\n",
    "token_embedding_layer = torch.nn.Embedding(vocab_size, output_dim)"
   ]
  },
  {
   "cell_type": "code",
   "execution_count": 44,
   "id": "f07dac5a-b354-4d3f-8404-432eb30c5b62",
   "metadata": {},
   "outputs": [
    {
     "name": "stdout",
     "output_type": "stream",
     "text": [
      "Token IDs:\n",
      " tensor([[   40,   367,  2885,  1464],\n",
      "        [ 1807,  3619,   402,   271],\n",
      "        [10899,  2138,   257,  7026],\n",
      "        [15632,   438,  2016,   257],\n",
      "        [  922,  5891,  1576,   438],\n",
      "        [  568,   340,   373,   645],\n",
      "        [ 1049,  5975,   284,   502],\n",
      "        [  284,  3285,   326,    11]])\n",
      "\n",
      "Inputs shape:\n",
      " torch.Size([8, 4])\n"
     ]
    }
   ],
   "source": [
    "max_length = 4\n",
    "dataloader = create_dataloader_v1(\n",
    "raw_text, batch_size=8, max_length=max_length,\n",
    "stride=max_length, shuffle=False\n",
    ")\n",
    "data_iter = iter(dataloader)\n",
    "inputs, targets = next(data_iter)\n",
    "print(\"Token IDs:\\n\", inputs)\n",
    "print(\"\\nInputs shape:\\n\", inputs.shape)"
   ]
  },
  {
   "cell_type": "code",
   "execution_count": 45,
   "id": "fe9986a9-8a38-45a9-8f6a-633ec341ee29",
   "metadata": {},
   "outputs": [
    {
     "name": "stdout",
     "output_type": "stream",
     "text": [
      "torch.Size([8, 4, 256])\n"
     ]
    }
   ],
   "source": [
    "token_embeddings = token_embedding_layer(inputs)\n",
    "print(token_embeddings.shape)"
   ]
  },
  {
   "cell_type": "code",
   "execution_count": 46,
   "id": "9b988d34-f66f-4853-a0e7-20e2ab8ac450",
   "metadata": {},
   "outputs": [
    {
     "name": "stdout",
     "output_type": "stream",
     "text": [
      "torch.Size([4, 256])\n"
     ]
    }
   ],
   "source": [
    "context_length = max_length\n",
    "pos_embedding_layer = torch.nn.Embedding(context_length, output_dim)\n",
    "pos_embeddings = pos_embedding_layer(torch.arange(context_length))\n",
    "print(pos_embeddings.shape)"
   ]
  },
  {
   "cell_type": "code",
   "execution_count": 47,
   "id": "a1780b36-4e29-4d51-a7a5-8747ca7c58bf",
   "metadata": {},
   "outputs": [
    {
     "name": "stdout",
     "output_type": "stream",
     "text": [
      "tensor([[ 0.4913,  1.1239,  1.4588,  ..., -0.3995, -1.8735, -0.1445],\n",
      "        [ 0.4481,  0.2536, -0.2655,  ...,  0.4997, -1.1991, -1.1844],\n",
      "        [-0.2507, -0.0546,  0.6687,  ...,  0.9618,  2.3737, -0.0528],\n",
      "        [ 0.9457,  0.8657,  1.6191,  ..., -0.4544, -0.7460,  0.3483]],\n",
      "       grad_fn=<SelectBackward0>)\n"
     ]
    }
   ],
   "source": [
    "print(token_embeddings[0])"
   ]
  },
  {
   "cell_type": "code",
   "execution_count": 48,
   "id": "f3683671-c7ab-4c80-8c39-cc789b6bedb5",
   "metadata": {},
   "outputs": [
    {
     "name": "stdout",
     "output_type": "stream",
     "text": [
      "torch.Size([8, 4, 256])\n"
     ]
    }
   ],
   "source": [
    "input_embeddings = token_embeddings + pos_embeddings\n",
    "print(input_embeddings.shape)"
   ]
  },
  {
   "cell_type": "code",
   "execution_count": 49,
   "id": "2097e03f-1806-4277-b984-946ae81660d0",
   "metadata": {},
   "outputs": [],
   "source": [
    "import torch\n",
    "inputs = torch.tensor(\n",
    "[[0.43, 0.15, 0.89], # Your\n",
    "[0.55, 0.87, 0.66], # journey\n",
    "[0.57, 0.85, 0.64], # starts\n",
    "[0.22, 0.58, 0.33], # with\n",
    "[0.77, 0.25, 0.10], # one\n",
    "[0.05, 0.80, 0.55]] # step\n",
    ")"
   ]
  },
  {
   "cell_type": "code",
   "execution_count": 50,
   "id": "a8d647db-2cf5-4d21-b658-b05a9675d8cf",
   "metadata": {},
   "outputs": [
    {
     "name": "stdout",
     "output_type": "stream",
     "text": [
      "tensor([0.9544, 1.4950, 1.4754, 0.8434, 0.7070, 1.0865])\n"
     ]
    }
   ],
   "source": [
    "query = inputs[1]\n",
    "attn_scores_2 = torch.empty(inputs.shape[0])\n",
    "for i, x_i in enumerate(inputs):\n",
    "    attn_scores_2[i] = torch.dot(x_i, query)\n",
    "print(attn_scores_2)"
   ]
  },
  {
   "cell_type": "code",
   "execution_count": 51,
   "id": "91ef3dce-659f-4ca7-b495-0e1c3320f8dc",
   "metadata": {},
   "outputs": [
    {
     "data": {
      "text/plain": [
       "3"
      ]
     },
     "execution_count": 51,
     "metadata": {},
     "output_type": "execute_result"
    }
   ],
   "source": [
    "query.shape[0]"
   ]
  },
  {
   "cell_type": "code",
   "execution_count": 52,
   "id": "8f07dd33-48b8-4186-a988-781e6b57d7b2",
   "metadata": {},
   "outputs": [
    {
     "name": "stdout",
     "output_type": "stream",
     "text": [
      "Attention weights: tensor([0.1455, 0.2278, 0.2249, 0.1285, 0.1077, 0.1656])\n",
      "Sum: tensor(1.0000)\n"
     ]
    }
   ],
   "source": [
    "attn_weights_2_tmp = attn_scores_2 / attn_scores_2.sum()\n",
    "print(\"Attention weights:\", attn_weights_2_tmp)\n",
    "print(\"Sum:\", attn_weights_2_tmp.sum())"
   ]
  },
  {
   "cell_type": "code",
   "execution_count": 53,
   "id": "b2cf476b-054b-40b0-8431-8e51db0637f5",
   "metadata": {},
   "outputs": [
    {
     "name": "stdout",
     "output_type": "stream",
     "text": [
      "Attention weights: tensor([0.1385, 0.2379, 0.2333, 0.1240, 0.1082, 0.1581])\n",
      "Sum: tensor(1.)\n"
     ]
    }
   ],
   "source": [
    "def softmax_naive(x):\n",
    "    return torch.exp(x) / torch.exp(x).sum(dim=0)\n",
    "attn_weights_2_naive = softmax_naive(attn_scores_2)\n",
    "print(\"Attention weights:\", attn_weights_2_naive)\n",
    "print(\"Sum:\", attn_weights_2_naive.sum())"
   ]
  },
  {
   "cell_type": "code",
   "execution_count": 54,
   "id": "57417b34-1bd5-46f9-a7a7-5e6bb3fb2d1d",
   "metadata": {},
   "outputs": [
    {
     "name": "stdout",
     "output_type": "stream",
     "text": [
      "Attention weights: tensor([0.1385, 0.2379, 0.2333, 0.1240, 0.1082, 0.1581])\n",
      "Sum: tensor(1.)\n"
     ]
    }
   ],
   "source": [
    "attn_weights_2 = torch.softmax(attn_scores_2, dim=0)\n",
    "print(\"Attention weights:\", attn_weights_2)\n",
    "print(\"Sum:\", attn_weights_2.sum())"
   ]
  },
  {
   "cell_type": "code",
   "execution_count": 55,
   "id": "5481b266-77d0-4565-8ab5-6fc66353ed9f",
   "metadata": {},
   "outputs": [
    {
     "name": "stdout",
     "output_type": "stream",
     "text": [
      "tensor([0.4419, 0.6515, 0.5683])\n"
     ]
    }
   ],
   "source": [
    "query = inputs[2]\n",
    "context_vec_2 = torch.zeros(query.shape)\n",
    "for i,x_i in enumerate(inputs):\n",
    "    context_vec_2 += attn_weights_2[i]*x_i\n",
    "print(context_vec_2)"
   ]
  },
  {
   "cell_type": "code",
   "execution_count": 56,
   "id": "5068c0cc-4a32-4ec2-bb5f-340610408e0f",
   "metadata": {},
   "outputs": [
    {
     "name": "stdout",
     "output_type": "stream",
     "text": [
      "tensor([[0.9995, 0.9544, 0.9422, 0.4753, 0.4576, 0.6310],\n",
      "        [0.9544, 1.4950, 1.4754, 0.8434, 0.7070, 1.0865],\n",
      "        [0.9422, 1.4754, 1.4570, 0.8296, 0.7154, 1.0605],\n",
      "        [0.4753, 0.8434, 0.8296, 0.4937, 0.3474, 0.6565],\n",
      "        [0.4576, 0.7070, 0.7154, 0.3474, 0.6654, 0.2935],\n",
      "        [0.6310, 1.0865, 1.0605, 0.6565, 0.2935, 0.9450]])\n"
     ]
    }
   ],
   "source": [
    "attn_scores = torch.empty(6, 6)\n",
    "for i, x_i in enumerate(inputs):\n",
    "    for j, x_j in enumerate(inputs):\n",
    "        attn_scores[i, j] = torch.dot(x_i, x_j)\n",
    "print(attn_scores)"
   ]
  },
  {
   "cell_type": "code",
   "execution_count": 57,
   "id": "0d71a30e-7d0d-4379-9373-5785e7a588b2",
   "metadata": {},
   "outputs": [
    {
     "name": "stdout",
     "output_type": "stream",
     "text": [
      "tensor([[0.9995, 0.9544, 0.9422, 0.4753, 0.4576, 0.6310],\n",
      "        [0.9544, 1.4950, 1.4754, 0.8434, 0.7070, 1.0865],\n",
      "        [0.9422, 1.4754, 1.4570, 0.8296, 0.7154, 1.0605],\n",
      "        [0.4753, 0.8434, 0.8296, 0.4937, 0.3474, 0.6565],\n",
      "        [0.4576, 0.7070, 0.7154, 0.3474, 0.6654, 0.2935],\n",
      "        [0.6310, 1.0865, 1.0605, 0.6565, 0.2935, 0.9450]])\n"
     ]
    }
   ],
   "source": [
    "attn_scores = inputs @ inputs.T\n",
    "print(attn_scores)"
   ]
  },
  {
   "cell_type": "code",
   "execution_count": 58,
   "id": "a93589e2-5ed5-43d6-bbb2-63247ef10ae5",
   "metadata": {},
   "outputs": [
    {
     "name": "stdout",
     "output_type": "stream",
     "text": [
      "tensor([[0.2098, 0.2006, 0.1981, 0.1242, 0.1220, 0.1452],\n",
      "        [0.1385, 0.2379, 0.2333, 0.1240, 0.1082, 0.1581],\n",
      "        [0.1390, 0.2369, 0.2326, 0.1242, 0.1108, 0.1565],\n",
      "        [0.1435, 0.2074, 0.2046, 0.1462, 0.1263, 0.1720],\n",
      "        [0.1526, 0.1958, 0.1975, 0.1367, 0.1879, 0.1295],\n",
      "        [0.1385, 0.2184, 0.2128, 0.1420, 0.0988, 0.1896]])\n"
     ]
    }
   ],
   "source": [
    "attn_weights = torch.softmax(attn_scores, dim=-1)\n",
    "print(attn_weights)"
   ]
  },
  {
   "cell_type": "code",
   "execution_count": 59,
   "id": "aa8c8fe6-1c82-4c41-9773-9c7a478dba1f",
   "metadata": {},
   "outputs": [
    {
     "name": "stdout",
     "output_type": "stream",
     "text": [
      "Row 2 sum: 1.0\n",
      "All row sums: tensor([1.0000, 1.0000, 1.0000, 1.0000, 1.0000, 1.0000])\n"
     ]
    }
   ],
   "source": [
    "row_2_sum = sum([0.1385, 0.2379, 0.2333, 0.1240, 0.1082, 0.1581])\n",
    "print(\"Row 2 sum:\", row_2_sum)\n",
    "print(\"All row sums:\", attn_weights.sum(dim=-1))"
   ]
  },
  {
   "cell_type": "code",
   "execution_count": 60,
   "id": "beb68526-478b-4504-adbc-1aa2bda57b81",
   "metadata": {},
   "outputs": [
    {
     "data": {
      "text/plain": [
       "tensor([[0.4300, 0.1500, 0.8900],\n",
       "        [0.5500, 0.8700, 0.6600],\n",
       "        [0.5700, 0.8500, 0.6400],\n",
       "        [0.2200, 0.5800, 0.3300],\n",
       "        [0.7700, 0.2500, 0.1000],\n",
       "        [0.0500, 0.8000, 0.5500]])"
      ]
     },
     "execution_count": 60,
     "metadata": {},
     "output_type": "execute_result"
    }
   ],
   "source": [
    "inputs"
   ]
  },
  {
   "cell_type": "code",
   "execution_count": 61,
   "id": "025c828a-44cb-40e1-924b-28d599229d7e",
   "metadata": {},
   "outputs": [
    {
     "name": "stdout",
     "output_type": "stream",
     "text": [
      "tensor([[0.4421, 0.5931, 0.5790],\n",
      "        [0.4419, 0.6515, 0.5683],\n",
      "        [0.4431, 0.6496, 0.5671],\n",
      "        [0.4304, 0.6298, 0.5510],\n",
      "        [0.4671, 0.5910, 0.5266],\n",
      "        [0.4177, 0.6503, 0.5645]])\n"
     ]
    }
   ],
   "source": [
    "all_context_vecs = attn_weights @ inputs\n",
    "print(all_context_vecs)"
   ]
  },
  {
   "cell_type": "code",
   "execution_count": 62,
   "id": "05f18706-2c66-4046-884e-218825c328be",
   "metadata": {},
   "outputs": [
    {
     "name": "stdout",
     "output_type": "stream",
     "text": [
      "Previous 2nd context vector: tensor([0.4419, 0.6515, 0.5683])\n"
     ]
    }
   ],
   "source": [
    "print(\"Previous 2nd context vector:\", context_vec_2)"
   ]
  },
  {
   "cell_type": "code",
   "execution_count": 63,
   "id": "b2e63e8e-ada0-4f22-88fa-03750d46ebb6",
   "metadata": {},
   "outputs": [],
   "source": [
    "x_2 = inputs[1]\n",
    "d_in = inputs.shape[1]\n",
    "d_out = 2\n",
    "\n",
    "torch.manual_seed(123)\n",
    "W_query = torch.nn.Parameter(torch.rand(d_in, d_out), requires_grad=False)\n",
    "W_key= torch.nn.Parameter(torch.rand(d_in, d_out), requires_grad=False)\n",
    "W_value = torch.nn.Parameter(torch.rand(d_in, d_out), requires_grad=False)"
   ]
  },
  {
   "cell_type": "code",
   "execution_count": 64,
   "id": "2ea8115f-96f2-48ee-95d5-485dcfff4d43",
   "metadata": {},
   "outputs": [
    {
     "name": "stdout",
     "output_type": "stream",
     "text": [
      "tensor([0.4306, 1.4551])\n"
     ]
    }
   ],
   "source": [
    "query_2 = x_2 @ W_query\n",
    "key_2 = x_2 @ W_key\n",
    "value_2 = x_2 @ W_value\n",
    "print(query_2)"
   ]
  },
  {
   "cell_type": "code",
   "execution_count": 65,
   "id": "679644c4-f313-4e9a-8b84-028e96c5ca3e",
   "metadata": {},
   "outputs": [
    {
     "name": "stdout",
     "output_type": "stream",
     "text": [
      "keys.shape: torch.Size([6, 2])\n",
      "values.shape: torch.Size([6, 2])\n"
     ]
    }
   ],
   "source": [
    "keys = inputs @ W_key\n",
    "values = inputs @ W_value\n",
    "print(\"keys.shape:\", keys.shape)\n",
    "print(\"values.shape:\", values.shape)"
   ]
  },
  {
   "cell_type": "code",
   "execution_count": 66,
   "id": "a73b478e-b140-446f-841b-5fd9540c037a",
   "metadata": {},
   "outputs": [
    {
     "name": "stdout",
     "output_type": "stream",
     "text": [
      "tensor(1.8524)\n"
     ]
    }
   ],
   "source": [
    "keys_2 = keys[1]\n",
    "attn_score_22 = query_2.dot(keys_2)\n",
    "print(attn_score_22)"
   ]
  },
  {
   "cell_type": "code",
   "execution_count": 67,
   "id": "1d447a24-611e-4b99-997f-fbe3f07a9c0a",
   "metadata": {},
   "outputs": [
    {
     "name": "stdout",
     "output_type": "stream",
     "text": [
      "tensor([1.2705, 1.8524, 1.8111, 1.0795, 0.5577, 1.5440])\n"
     ]
    }
   ],
   "source": [
    "attn_scores_2 = query_2 @ keys.T\n",
    "print(attn_scores_2)"
   ]
  },
  {
   "cell_type": "code",
   "execution_count": 68,
   "id": "8d5feab5-83d0-4b8b-babb-7bd454fbbcdc",
   "metadata": {},
   "outputs": [
    {
     "name": "stdout",
     "output_type": "stream",
     "text": [
      "tensor([0.1500, 0.2264, 0.2199, 0.1311, 0.0906, 0.1820])\n"
     ]
    }
   ],
   "source": [
    "d_k = keys.shape[-1]\n",
    "attn_weights_2 = torch.softmax(attn_scores_2 / d_k**0.5, dim=-1)\n",
    "print(attn_weights_2)"
   ]
  },
  {
   "cell_type": "code",
   "execution_count": 69,
   "id": "104a2818-d391-4abf-8e1c-6f0201276c94",
   "metadata": {},
   "outputs": [
    {
     "data": {
      "text/plain": [
       "2"
      ]
     },
     "execution_count": 69,
     "metadata": {},
     "output_type": "execute_result"
    }
   ],
   "source": [
    "keys.shape[-1]"
   ]
  },
  {
   "cell_type": "code",
   "execution_count": 70,
   "id": "5d3a7680-a613-4018-86cb-bd43eda54a10",
   "metadata": {},
   "outputs": [
    {
     "name": "stdout",
     "output_type": "stream",
     "text": [
      "tensor([0.3061, 0.8210])\n"
     ]
    }
   ],
   "source": [
    "context_vec_2 = attn_weights_2 @ values\n",
    "print(context_vec_2)"
   ]
  },
  {
   "cell_type": "code",
   "execution_count": 71,
   "id": "1b2cd115-6ba2-4e34-aa5c-62dd16825bd4",
   "metadata": {},
   "outputs": [],
   "source": [
    "# Self attention snippet \n",
    "import torch.nn as nn\n",
    "class SelfAttention_v1(nn.Module):\n",
    "    def __init__(self, d_in, d_out):\n",
    "        super().__init__()\n",
    "        self.W_query = nn.Parameter(torch.rand(d_in, d_out))\n",
    "        self.W_key = nn.Parameter(torch.rand(d_in, d_out))\n",
    "        self.W_value = nn.Parameter(torch.rand(d_in, d_out))\n",
    "    def forward(self, x):\n",
    "        keys = x @ self.W_key\n",
    "        queries = x @ self.W_query\n",
    "        values = x @ self.W_value\n",
    "        attn_scores = queries @ keys.T # omega\n",
    "        attn_weights = torch.softmax(\n",
    "        attn_scores / keys.shape[-1]**0.5, dim=-1\n",
    "        )\n",
    "        context_vec = attn_weights @ values\n",
    "        return context_vec"
   ]
  },
  {
   "cell_type": "code",
   "execution_count": 72,
   "id": "6c03936f-9a7d-4a17-a670-4c8b398f0bcc",
   "metadata": {},
   "outputs": [
    {
     "name": "stdout",
     "output_type": "stream",
     "text": [
      "tensor([[0.2996, 0.8053],\n",
      "        [0.3061, 0.8210],\n",
      "        [0.3058, 0.8203],\n",
      "        [0.2948, 0.7939],\n",
      "        [0.2927, 0.7891],\n",
      "        [0.2990, 0.8040]], grad_fn=<MmBackward0>)\n"
     ]
    }
   ],
   "source": [
    "torch.manual_seed(123)\n",
    "sa_v1 = SelfAttention_v1(d_in, d_out)\n",
    "print(sa_v1(inputs))"
   ]
  },
  {
   "cell_type": "code",
   "execution_count": 73,
   "id": "b9ece663-b541-4f0d-8cb6-f96063ff8edd",
   "metadata": {},
   "outputs": [],
   "source": [
    "# 2nd modified self attention class \n",
    "\n",
    "class SelfAttention_v2(nn.Module):\n",
    "    def __init__(self, d_in, d_out, qkv_bias=False):\n",
    "        super().__init__()\n",
    "        self.W_query = nn.Linear(d_in, d_out, bias=qkv_bias)\n",
    "        self.W_key = nn.Linear(d_in, d_out, bias=qkv_bias)\n",
    "        self.W_value = nn.Linear(d_in, d_out, bias=qkv_bias)\n",
    "    def forward(self, x):\n",
    "        keys = self.W_key(x)\n",
    "        queries = self.W_query(x)\n",
    "        values = self.W_value(x)\n",
    "        attn_scores = queries @ keys.T\n",
    "        attn_weights = torch.softmax(\n",
    "        attn_scores / keys.shape[-1]**0.5, dim=-1\n",
    "        )\n",
    "        context_vec = attn_weights @ values\n",
    "        return context_vec\n",
    "        "
   ]
  },
  {
   "cell_type": "code",
   "execution_count": 74,
   "id": "d361513b-e83e-4df2-b535-5c51c9314950",
   "metadata": {},
   "outputs": [
    {
     "name": "stdout",
     "output_type": "stream",
     "text": [
      "tensor([[-0.0739,  0.0713],\n",
      "        [-0.0748,  0.0703],\n",
      "        [-0.0749,  0.0702],\n",
      "        [-0.0760,  0.0685],\n",
      "        [-0.0763,  0.0679],\n",
      "        [-0.0754,  0.0693]], grad_fn=<MmBackward0>)\n"
     ]
    }
   ],
   "source": [
    "torch.manual_seed(789)\n",
    "sa_v2 = SelfAttention_v2(d_in, d_out)\n",
    "print(sa_v2(inputs))"
   ]
  },
  {
   "cell_type": "code",
   "execution_count": 75,
   "id": "527ca72a-9e16-4484-b058-968d535c2454",
   "metadata": {},
   "outputs": [
    {
     "name": "stdout",
     "output_type": "stream",
     "text": [
      "tensor([[0.1921, 0.1646, 0.1652, 0.1550, 0.1721, 0.1510],\n",
      "        [0.2041, 0.1659, 0.1662, 0.1496, 0.1665, 0.1477],\n",
      "        [0.2036, 0.1659, 0.1662, 0.1498, 0.1664, 0.1480],\n",
      "        [0.1869, 0.1667, 0.1668, 0.1571, 0.1661, 0.1564],\n",
      "        [0.1830, 0.1669, 0.1670, 0.1588, 0.1658, 0.1585],\n",
      "        [0.1935, 0.1663, 0.1666, 0.1542, 0.1666, 0.1529]],\n",
      "       grad_fn=<SoftmaxBackward0>)\n"
     ]
    }
   ],
   "source": [
    "queries = sa_v2.W_query(inputs)\n",
    "keys = sa_v2.W_key(inputs)\n",
    "attn_scores = queries @ keys.T\n",
    "attn_weights = torch.softmax(attn_scores / keys.shape[-1]**0.5, dim=-1)\n",
    "print(attn_weights)"
   ]
  },
  {
   "cell_type": "code",
   "execution_count": 76,
   "id": "d5b4a2e3-606d-40c9-b7dd-f096620ee02f",
   "metadata": {},
   "outputs": [
    {
     "name": "stdout",
     "output_type": "stream",
     "text": [
      "tensor([[1., 0., 0., 0., 0., 0.],\n",
      "        [1., 1., 0., 0., 0., 0.],\n",
      "        [1., 1., 1., 0., 0., 0.],\n",
      "        [1., 1., 1., 1., 0., 0.],\n",
      "        [1., 1., 1., 1., 1., 0.],\n",
      "        [1., 1., 1., 1., 1., 1.]])\n"
     ]
    }
   ],
   "source": [
    "context_length = attn_scores.shape[0]\n",
    "mask_simple = torch.tril(torch.ones(context_length, context_length))\n",
    "print(mask_simple)"
   ]
  },
  {
   "cell_type": "code",
   "execution_count": 77,
   "id": "099857c6-8627-4b61-883c-07ff9884bb9d",
   "metadata": {},
   "outputs": [
    {
     "name": "stdout",
     "output_type": "stream",
     "text": [
      "tensor([[0.1921, 0.0000, 0.0000, 0.0000, 0.0000, 0.0000],\n",
      "        [0.2041, 0.1659, 0.0000, 0.0000, 0.0000, 0.0000],\n",
      "        [0.2036, 0.1659, 0.1662, 0.0000, 0.0000, 0.0000],\n",
      "        [0.1869, 0.1667, 0.1668, 0.1571, 0.0000, 0.0000],\n",
      "        [0.1830, 0.1669, 0.1670, 0.1588, 0.1658, 0.0000],\n",
      "        [0.1935, 0.1663, 0.1666, 0.1542, 0.1666, 0.1529]],\n",
      "       grad_fn=<MulBackward0>)\n"
     ]
    }
   ],
   "source": [
    "masked_simple = attn_weights*mask_simple\n",
    "print(masked_simple)"
   ]
  },
  {
   "cell_type": "code",
   "execution_count": 78,
   "id": "d92f0f6b-a18e-48b6-8d40-f8e49273b589",
   "metadata": {},
   "outputs": [
    {
     "name": "stdout",
     "output_type": "stream",
     "text": [
      "tensor([[1.0000, 0.0000, 0.0000, 0.0000, 0.0000, 0.0000],\n",
      "        [0.5517, 0.4483, 0.0000, 0.0000, 0.0000, 0.0000],\n",
      "        [0.3800, 0.3097, 0.3103, 0.0000, 0.0000, 0.0000],\n",
      "        [0.2758, 0.2460, 0.2462, 0.2319, 0.0000, 0.0000],\n",
      "        [0.2175, 0.1983, 0.1984, 0.1888, 0.1971, 0.0000],\n",
      "        [0.1935, 0.1663, 0.1666, 0.1542, 0.1666, 0.1529]],\n",
      "       grad_fn=<DivBackward0>)\n"
     ]
    }
   ],
   "source": [
    "row_sums = masked_simple.sum(dim=-1, keepdim=True)\n",
    "masked_simple_norm = masked_simple / row_sums\n",
    "print(masked_simple_norm)"
   ]
  },
  {
   "cell_type": "code",
   "execution_count": 79,
   "id": "cda38513-fe9c-4afc-8fd8-ac3974a725ea",
   "metadata": {},
   "outputs": [
    {
     "name": "stdout",
     "output_type": "stream",
     "text": [
      "tensor([[0., 1., 1., 1., 1., 1.],\n",
      "        [0., 0., 1., 1., 1., 1.],\n",
      "        [0., 0., 0., 1., 1., 1.],\n",
      "        [0., 0., 0., 0., 1., 1.],\n",
      "        [0., 0., 0., 0., 0., 1.],\n",
      "        [0., 0., 0., 0., 0., 0.]])\n",
      "tensor([[0.2899,   -inf,   -inf,   -inf,   -inf,   -inf],\n",
      "        [0.4656, 0.1723,   -inf,   -inf,   -inf,   -inf],\n",
      "        [0.4594, 0.1703, 0.1731,   -inf,   -inf,   -inf],\n",
      "        [0.2642, 0.1024, 0.1036, 0.0186,   -inf,   -inf],\n",
      "        [0.2183, 0.0874, 0.0882, 0.0177, 0.0786,   -inf],\n",
      "        [0.3408, 0.1270, 0.1290, 0.0198, 0.1290, 0.0078]],\n",
      "       grad_fn=<MaskedFillBackward0>)\n"
     ]
    }
   ],
   "source": [
    "mask = torch.triu(torch.ones(context_length, context_length), diagonal=1)\n",
    "print(mask)\n",
    "masked = attn_scores.masked_fill(mask.bool(), -torch.inf)\n",
    "print(masked)"
   ]
  },
  {
   "cell_type": "code",
   "execution_count": 80,
   "id": "7eb20448-d663-4aa2-8126-112064c5957a",
   "metadata": {},
   "outputs": [
    {
     "name": "stdout",
     "output_type": "stream",
     "text": [
      "tensor([[1.0000, 0.0000, 0.0000, 0.0000, 0.0000, 0.0000],\n",
      "        [0.5517, 0.4483, 0.0000, 0.0000, 0.0000, 0.0000],\n",
      "        [0.3800, 0.3097, 0.3103, 0.0000, 0.0000, 0.0000],\n",
      "        [0.2758, 0.2460, 0.2462, 0.2319, 0.0000, 0.0000],\n",
      "        [0.2175, 0.1983, 0.1984, 0.1888, 0.1971, 0.0000],\n",
      "        [0.1935, 0.1663, 0.1666, 0.1542, 0.1666, 0.1529]],\n",
      "       grad_fn=<SoftmaxBackward0>)\n"
     ]
    }
   ],
   "source": [
    "attn_weights = torch.softmax(masked / keys.shape[-1]**0.5, dim=1)\n",
    "print(attn_weights)"
   ]
  },
  {
   "cell_type": "code",
   "execution_count": 81,
   "id": "58538a84-6ce1-4715-85ce-41cee81ad7e4",
   "metadata": {},
   "outputs": [
    {
     "name": "stdout",
     "output_type": "stream",
     "text": [
      "tensor([[2., 2., 2., 2., 2., 2.],\n",
      "        [0., 2., 0., 0., 0., 0.],\n",
      "        [0., 0., 2., 0., 2., 0.],\n",
      "        [2., 2., 0., 0., 0., 2.],\n",
      "        [2., 0., 0., 0., 0., 2.],\n",
      "        [0., 2., 0., 0., 0., 0.]])\n"
     ]
    }
   ],
   "source": [
    "torch.manual_seed(123)\n",
    "dropout = torch.nn.Dropout(0.5)\n",
    "example = torch.ones(6, 6)\n",
    "print(dropout(example))"
   ]
  },
  {
   "cell_type": "code",
   "execution_count": 82,
   "id": "f69362f2-e3bb-4581-b46c-fbc8f913899c",
   "metadata": {},
   "outputs": [
    {
     "name": "stdout",
     "output_type": "stream",
     "text": [
      "tensor([[2.0000, 0.0000, 0.0000, 0.0000, 0.0000, 0.0000],\n",
      "        [0.0000, 0.8966, 0.0000, 0.0000, 0.0000, 0.0000],\n",
      "        [0.0000, 0.0000, 0.6206, 0.0000, 0.0000, 0.0000],\n",
      "        [0.5517, 0.4921, 0.0000, 0.0000, 0.0000, 0.0000],\n",
      "        [0.4350, 0.0000, 0.0000, 0.0000, 0.0000, 0.0000],\n",
      "        [0.0000, 0.3327, 0.0000, 0.0000, 0.0000, 0.0000]],\n",
      "       grad_fn=<MulBackward0>)\n"
     ]
    }
   ],
   "source": [
    "torch.manual_seed(123)\n",
    "print(dropout(attn_weights))"
   ]
  },
  {
   "cell_type": "code",
   "execution_count": 83,
   "id": "94fb4b79-6562-475b-9d5e-0ccf7c92197c",
   "metadata": {},
   "outputs": [
    {
     "name": "stdout",
     "output_type": "stream",
     "text": [
      "torch.Size([2, 6, 3])\n"
     ]
    }
   ],
   "source": [
    "batch = torch.stack((inputs, inputs), dim=0)\n",
    "print(batch.shape)"
   ]
  },
  {
   "cell_type": "code",
   "execution_count": 84,
   "id": "c9036494-ae97-47b1-8762-a3fc8ad1d6e8",
   "metadata": {},
   "outputs": [],
   "source": [
    "# self attention class with causual attention code\n",
    "\n",
    "class CausalAttention(nn.Module):\n",
    "    def __init__(self, d_in, d_out, context_length,\n",
    "    dropout, qkv_bias=False):\n",
    "        super().__init__()\n",
    "        self.d_out = d_out\n",
    "        self.W_query = nn.Linear(d_in, d_out, bias=qkv_bias)\n",
    "        self.W_key = nn.Linear(d_in, d_out, bias=qkv_bias)\n",
    "        self.W_value = nn.Linear(d_in, d_out, bias=qkv_bias)\n",
    "        self.dropout = nn.Dropout(dropout)\n",
    "        self.register_buffer(\n",
    "        'mask',\n",
    "        torch.triu(torch.ones(context_length, context_length),diagonal=1))\n",
    "\n",
    "    def forward(self, x):\n",
    "        b, num_tokens, d_in = x.shape\n",
    "        keys = self.W_key(x)\n",
    "        queries = self.W_query(x)\n",
    "        values = self.W_value(x)\n",
    "        attn_scores = queries @ keys.transpose(1, 2)\n",
    "        attn_scores.masked_fill_(\n",
    "        self.mask.bool()[:num_tokens, :num_tokens], -torch.inf)\n",
    "        attn_weights = torch.softmax(\n",
    "        attn_scores / keys.shape[-1]**0.5, dim=-1)\n",
    "        attn_weights = self.dropout(attn_weights)\n",
    "        context_vec = attn_weights @ values\n",
    "        return context_vec"
   ]
  },
  {
   "cell_type": "code",
   "execution_count": 85,
   "id": "fea2b5e6-d73a-42ca-9ed2-5802896d741a",
   "metadata": {},
   "outputs": [
    {
     "name": "stdout",
     "output_type": "stream",
     "text": [
      "context_vecs.shape: torch.Size([2, 6, 2])\n"
     ]
    }
   ],
   "source": [
    "torch.manual_seed(123)\n",
    "context_length = batch.shape[1]\n",
    "ca = CausalAttention(d_in, d_out, context_length, 0.0)\n",
    "context_vecs = ca(batch)\n",
    "print(\"context_vecs.shape:\", context_vecs.shape)"
   ]
  },
  {
   "cell_type": "code",
   "execution_count": 86,
   "id": "75ad3835-31d0-47ca-ab99-0868a9f11e15",
   "metadata": {},
   "outputs": [],
   "source": [
    "class MultiHeadAttentionWrapper(nn.Module):\n",
    "    def __init__(self, d_in, d_out, context_length,\n",
    "        dropout, num_heads, qkv_bias=False):\n",
    "        super().__init__()\n",
    "        self.heads = nn.ModuleList(\n",
    "        [CausalAttention(\n",
    "        d_in, d_out, context_length, dropout, qkv_bias\n",
    "        )\n",
    "        for _ in range(num_heads)]\n",
    "        )\n",
    "    def forward(self, x):\n",
    "        return torch.cat([head(x) for head in self.heads], dim=-1)"
   ]
  },
  {
   "cell_type": "code",
   "execution_count": 87,
   "id": "41f0b6fa-93ea-44da-829a-d8b2252feffd",
   "metadata": {},
   "outputs": [],
   "source": [
    "torch.manual_seed(123)\n",
    "context_length = batch.shape[1] # This is the number of tokens\n",
    "d_in, d_out = 3, 2"
   ]
  },
  {
   "cell_type": "code",
   "execution_count": 88,
   "id": "81dd5ee6-6ac5-41ee-bbac-1b03ccb0f56d",
   "metadata": {},
   "outputs": [
    {
     "name": "stdout",
     "output_type": "stream",
     "text": [
      "tensor([[[-0.4519,  0.2216,  0.4772,  0.1063],\n",
      "         [-0.5874,  0.0058,  0.5891,  0.3257],\n",
      "         [-0.6300, -0.0632,  0.6202,  0.3860],\n",
      "         [-0.5675, -0.0843,  0.5478,  0.3589],\n",
      "         [-0.5526, -0.0981,  0.5321,  0.3428],\n",
      "         [-0.5299, -0.1081,  0.5077,  0.3493]],\n",
      "\n",
      "        [[-0.4519,  0.2216,  0.4772,  0.1063],\n",
      "         [-0.5874,  0.0058,  0.5891,  0.3257],\n",
      "         [-0.6300, -0.0632,  0.6202,  0.3860],\n",
      "         [-0.5675, -0.0843,  0.5478,  0.3589],\n",
      "         [-0.5526, -0.0981,  0.5321,  0.3428],\n",
      "         [-0.5299, -0.1081,  0.5077,  0.3493]]], grad_fn=<CatBackward0>)\n",
      "context_vecs.shape: torch.Size([2, 6, 4])\n"
     ]
    }
   ],
   "source": [
    "mha = MultiHeadAttentionWrapper(\n",
    "d_in, d_out, context_length, 0.0, num_heads=2\n",
    ")\n",
    "context_vecs = mha(batch)\n",
    "print(context_vecs)\n",
    "print(\"context_vecs.shape:\", context_vecs.shape)"
   ]
  },
  {
   "cell_type": "code",
   "execution_count": 4,
   "id": "bff06a7e-1b60-41f0-b3f1-fe06b7fd1907",
   "metadata": {},
   "outputs": [
    {
     "ename": "NameError",
     "evalue": "name 'nn' is not defined",
     "output_type": "error",
     "traceback": [
      "\u001b[0;31m---------------------------------------------------------------------------\u001b[0m",
      "\u001b[0;31mNameError\u001b[0m                                 Traceback (most recent call last)",
      "\u001b[0;32m/tmp/ipykernel_8352/3570142945.py\u001b[0m in \u001b[0;36m<module>\u001b[0;34m\u001b[0m\n\u001b[1;32m      1\u001b[0m \u001b[0;31m# import torch.nn as nn\u001b[0m\u001b[0;34m\u001b[0m\u001b[0;34m\u001b[0m\u001b[0;34m\u001b[0m\u001b[0m\n\u001b[1;32m      2\u001b[0m \u001b[0;34m\u001b[0m\u001b[0m\n\u001b[0;32m----> 3\u001b[0;31m \u001b[0;32mclass\u001b[0m \u001b[0mMultiHeadAttention\u001b[0m\u001b[0;34m(\u001b[0m\u001b[0mnn\u001b[0m\u001b[0;34m.\u001b[0m\u001b[0mModule\u001b[0m\u001b[0;34m)\u001b[0m\u001b[0;34m:\u001b[0m\u001b[0;34m\u001b[0m\u001b[0;34m\u001b[0m\u001b[0m\n\u001b[0m\u001b[1;32m      4\u001b[0m     def __init__(self, d_in, d_out,\n\u001b[1;32m      5\u001b[0m         context_length, dropout, num_heads, qkv_bias=False):\n",
      "\u001b[0;31mNameError\u001b[0m: name 'nn' is not defined"
     ]
    }
   ],
   "source": [
    "# import torch.nn as nn\n",
    "\n",
    "class MultiHeadAttention(nn.Module):\n",
    "    def __init__(self, d_in, d_out,\n",
    "        context_length, dropout, num_heads, qkv_bias=False):\n",
    "        \n",
    "        super().__init__()\n",
    "        assert (d_out % num_heads == 0), \\\n",
    "        \"d_out must be divisible by num_heads\"\n",
    "        self.d_out = d_out\n",
    "        self.num_heads = num_heads\n",
    "        self.head_dim = d_out // num_heads\n",
    "        self.W_query = nn.Linear(d_in, d_out, bias=qkv_bias)\n",
    "        self.W_key = nn.Linear(d_in, d_out, bias=qkv_bias)\n",
    "        self.W_value = nn.Linear(d_in, d_out, bias=qkv_bias)\n",
    "        self.out_proj = nn.Linear(d_out, d_out)\n",
    "        self.dropout = nn.Dropout(dropout)\n",
    "        self.register_buffer(\n",
    "        \"mask\",\n",
    "        torch.triu(torch.ones(context_length, context_length),\n",
    "        diagonal=1)\n",
    "        )\n",
    "    def forward(self, x):\n",
    "        \n",
    "        b, num_tokens, d_in = x.shape\n",
    "        keys = self.W_key(x)\n",
    "        queries = self.W_query(x)\n",
    "        values = self.W_value(x)\n",
    "        keys = keys.view(b, num_tokens, self.num_heads, self.head_dim)\n",
    "        values = values.view(b, num_tokens, self.num_heads, self.head_dim)\n",
    "        queries = queries.view(b, num_tokens, self.num_heads, self.head_dim)\n",
    "        keys = keys.transpose(1, 2)\n",
    "        queries = queries.transpose(1, 2)\n",
    "        values = values.transpose(1, 2)\n",
    "        attn_scores = queries @ keys.transpose(2, 3)\n",
    "        mask_bool = self.mask.bool()[:num_tokens, :num_tokens]\n",
    "        attn_scores.masked_fill_(mask_bool, -torch.inf)\n",
    "        attn_weights = torch.softmax(\n",
    "        attn_scores / keys.shape[-1]**0.5, dim=-1)\n",
    "        attn_weights = self.dropout(attn_weights)\n",
    "        context_vec = (attn_weights @ values).transpose(1, 2)\n",
    "        context_vec = context_vec.contiguous().view(\n",
    "        b, num_tokens, self.d_out\n",
    "        )\n",
    "        context_vec = self.out_proj(context_vec)\n",
    "        return context_vec"
   ]
  },
  {
   "cell_type": "code",
   "execution_count": 90,
   "id": "8ef4ec1b-7828-4010-bb2c-03a78e496973",
   "metadata": {},
   "outputs": [],
   "source": [
    "a = torch.tensor([[[[0.2745, 0.6584, 0.2775, 0.8573],\n",
    "                    [0.8993, 0.0390, 0.9268, 0.7388],\n",
    "                    [0.7179, 0.7058, 0.9156, 0.4340]],\n",
    "                   \n",
    "                    [[0.0772, 0.3565, 0.1479, 0.5331],\n",
    "                    [0.4066, 0.2318, 0.4545, 0.9737],\n",
    "                    [0.4606, 0.5159, 0.4220, 0.5786]]]])"
   ]
  },
  {
   "cell_type": "code",
   "execution_count": 91,
   "id": "b8022449-b6b4-4583-92df-d977499ba3a4",
   "metadata": {},
   "outputs": [
    {
     "data": {
      "text/plain": [
       "torch.Size([1, 2, 3, 4])"
      ]
     },
     "execution_count": 91,
     "metadata": {},
     "output_type": "execute_result"
    }
   ],
   "source": [
    "a.shape"
   ]
  },
  {
   "cell_type": "code",
   "execution_count": 92,
   "id": "b1be3a80-fe6c-44f6-89a6-96ad89ae5bad",
   "metadata": {},
   "outputs": [
    {
     "name": "stdout",
     "output_type": "stream",
     "text": [
      "tensor([[[[1.3208, 1.1631, 1.2879],\n",
      "          [1.1631, 2.2150, 1.8424],\n",
      "          [1.2879, 1.8424, 2.0402]],\n",
      "\n",
      "         [[0.4391, 0.7003, 0.5903],\n",
      "          [0.7003, 1.3737, 1.0620],\n",
      "          [0.5903, 1.0620, 0.9912]]]])\n"
     ]
    }
   ],
   "source": [
    "print(a @ a.transpose(2, 3))"
   ]
  },
  {
   "cell_type": "code",
   "execution_count": 93,
   "id": "c04be45c-5a01-4433-89df-b337d27356b4",
   "metadata": {},
   "outputs": [
    {
     "name": "stdout",
     "output_type": "stream",
     "text": [
      "First head:\n",
      " tensor([[1.3208, 1.1631, 1.2879],\n",
      "        [1.1631, 2.2150, 1.8424],\n",
      "        [1.2879, 1.8424, 2.0402]])\n",
      "\n",
      "Second head:\n",
      " tensor([[0.4391, 0.7003, 0.5903],\n",
      "        [0.7003, 1.3737, 1.0620],\n",
      "        [0.5903, 1.0620, 0.9912]])\n"
     ]
    }
   ],
   "source": [
    "first_head = a[0, 0, :, :]\n",
    "first_res = first_head @ first_head.T\n",
    "print(\"First head:\\n\", first_res)\n",
    "second_head = a[0, 1, :, :]\n",
    "second_res = second_head @ second_head.T\n",
    "print(\"\\nSecond head:\\n\", second_res)"
   ]
  },
  {
   "cell_type": "code",
   "execution_count": 94,
   "id": "d65a87df-b768-4ec0-b2c6-23f39b2d0db2",
   "metadata": {},
   "outputs": [
    {
     "name": "stdout",
     "output_type": "stream",
     "text": [
      "tensor([[[0.3190, 0.4858],\n",
      "         [0.2943, 0.3897],\n",
      "         [0.2856, 0.3593],\n",
      "         [0.2693, 0.3873],\n",
      "         [0.2639, 0.3928],\n",
      "         [0.2575, 0.4028]],\n",
      "\n",
      "        [[0.3190, 0.4858],\n",
      "         [0.2943, 0.3897],\n",
      "         [0.2856, 0.3593],\n",
      "         [0.2693, 0.3873],\n",
      "         [0.2639, 0.3928],\n",
      "         [0.2575, 0.4028]]], grad_fn=<ViewBackward0>)\n",
      "context_vecs.shape: torch.Size([2, 6, 2])\n"
     ]
    }
   ],
   "source": [
    "torch.manual_seed(123)\n",
    "batch_size, context_length, d_in = batch.shape\n",
    "d_out = 2\n",
    "mha = MultiHeadAttention(d_in, d_out, context_length, 0.0, num_heads=2)\n",
    "context_vecs = mha(batch)\n",
    "print(context_vecs)\n",
    "print(\"context_vecs.shape:\", context_vecs.shape)"
   ]
  },
  {
   "cell_type": "code",
   "execution_count": 95,
   "id": "17457cec-5a8a-478a-a964-adf54f498272",
   "metadata": {},
   "outputs": [],
   "source": [
    "GPT_CONFIG_124M = {\n",
    "\"vocab_size\": 50257,\n",
    "\"context_length\": 256,\n",
    "\"emb_dim\": 768,\n",
    "\"n_heads\": 12,\n",
    "\"n_layers\": 12,\n",
    "\"drop_rate\": 0.1,\n",
    "\"qkv_bias\": False\n",
    "}"
   ]
  },
  {
   "cell_type": "code",
   "execution_count": 96,
   "id": "deac1804-d23d-4221-8f74-15332ca8baa1",
   "metadata": {},
   "outputs": [],
   "source": [
    "# GPT2 code \n",
    "\n",
    "import torch\n",
    "import torch.nn as nn\n",
    "class DummyGPTModel(nn.Module):\n",
    "    def __init__(self, cfg):\n",
    "        super().__init__()\n",
    "        self.tok_emb = nn.Embedding(cfg[\"vocab_size\"], cfg[\"emb_dim\"])\n",
    "        self.pos_emb = nn.Embedding(cfg[\"context_length\"], cfg[\"emb_dim\"])\n",
    "        self.drop_emb = nn.Dropout(cfg[\"drop_rate\"])\n",
    "        self.trf_blocks = nn.Sequential(\n",
    "                    *[DummyTransformerBlock(cfg)\n",
    "                    for _ in range(cfg[\"n_layers\"])]\n",
    "        )\n",
    "        self.final_norm = DummyLayerNorm(cfg[\"emb_dim\"])\n",
    "        self.out_head = nn.Linear(\n",
    "        cfg[\"emb_dim\"], cfg[\"vocab_size\"], bias=False\n",
    "        )\n",
    "    def forward(self, in_idx):\n",
    "        batch_size, seq_len = in_idx.shape\n",
    "        tok_embeds = self.tok_emb(in_idx)\n",
    "        pos_embeds = self.pos_emb(\n",
    "        torch.arange(seq_len, device=in_idx.device)\n",
    "        )\n",
    "        x = tok_embeds + pos_embeds\n",
    "        x = self.drop_emb(x)\n",
    "        x = self.trf_blocks(x)\n",
    "        x = self.final_norm(x)\n",
    "        logits = self.out_head(x)\n",
    "        return logits\n",
    "\n",
    "\n",
    "class DummyTransformerBlock(nn.Module):\n",
    "    def __init__(self, cfg):\n",
    "        super().__init__()\n",
    "        \n",
    "    def forward(self, x):\n",
    "        return x\n",
    "        \n",
    "class DummyLayerNorm(nn.Module):\n",
    "    def __init__(self, normalized_shape, eps=1e-5):\n",
    "        super().__init__()\n",
    "        \n",
    "    def forward(self, x):\n",
    "        return x\n",
    "        "
   ]
  },
  {
   "cell_type": "code",
   "execution_count": 97,
   "id": "a1f6b805-9a2a-42da-a82a-0753f8b86037",
   "metadata": {},
   "outputs": [
    {
     "name": "stdout",
     "output_type": "stream",
     "text": [
      "tensor([[6109, 3626, 6100,  345],\n",
      "        [6109, 1110, 6622,  257]])\n"
     ]
    }
   ],
   "source": [
    "import tiktoken\n",
    "tokenizer = tiktoken.get_encoding(\"gpt2\")\n",
    "batch = []\n",
    "txt1 = \"Every effort moves you\"\n",
    "txt2 = \"Every day holds a\"\n",
    "batch.append(torch.tensor(tokenizer.encode(txt1)))\n",
    "batch.append(torch.tensor(tokenizer.encode(txt2)))\n",
    "batch = torch.stack(batch, dim=0)\n",
    "print(batch)"
   ]
  },
  {
   "cell_type": "code",
   "execution_count": 98,
   "id": "dff06e4a-181e-4fc2-9581-17a99c91c032",
   "metadata": {},
   "outputs": [
    {
     "name": "stdout",
     "output_type": "stream",
     "text": [
      "Output shape: torch.Size([2, 4, 50257])\n",
      "tensor([[[ 0.6442,  0.4002, -0.6301,  ..., -1.7908,  1.7656,  0.7682],\n",
      "         [ 0.4882, -1.3109, -1.0632,  ..., -0.3465,  0.5326, -0.2410],\n",
      "         [-0.2399,  1.1010,  0.5612,  ..., -0.1098, -0.0362, -1.2148],\n",
      "         [-1.0398, -0.0377,  1.6094,  ..., -1.7665, -1.2933, -1.6788]],\n",
      "\n",
      "        [[ 0.9140,  0.5402, -0.9668,  ..., -1.1724,  1.3664,  0.5812],\n",
      "         [-0.5798, -0.3736, -1.2043,  ..., -1.7816,  0.4513,  0.0474],\n",
      "         [ 0.1278, -0.4755, -0.8627,  ..., -0.6784,  0.1200, -0.3627],\n",
      "         [-1.0198,  1.5377,  1.0421,  ..., -0.9028, -0.9430, -0.5627]]],\n",
      "       grad_fn=<UnsafeViewBackward0>)\n"
     ]
    }
   ],
   "source": [
    "torch.manual_seed(123)\n",
    "model = DummyGPTModel(GPT_CONFIG_124M)\n",
    "logits = model(batch)\n",
    "print(\"Output shape:\", logits.shape)\n",
    "print(logits)"
   ]
  },
  {
   "cell_type": "code",
   "execution_count": 99,
   "id": "5347bba7-608d-49bd-ad79-4d98df02f59a",
   "metadata": {},
   "outputs": [
    {
     "name": "stdout",
     "output_type": "stream",
     "text": [
      "tensor([[0.2260, 0.3470, 0.0000, 0.2216, 0.0000, 0.0000],\n",
      "        [0.2133, 0.2394, 0.0000, 0.5198, 0.3297, 0.0000]],\n",
      "       grad_fn=<ReluBackward0>)\n"
     ]
    }
   ],
   "source": [
    "torch.manual_seed(123)\n",
    "batch_example = torch.randn(2, 5)\n",
    "layer = nn.Sequential(nn.Linear(5, 6), nn.ReLU())\n",
    "out = layer(batch_example)\n",
    "print(out)"
   ]
  },
  {
   "cell_type": "code",
   "execution_count": 100,
   "id": "73f32418-be45-4f9b-bbac-969a7f562420",
   "metadata": {},
   "outputs": [
    {
     "name": "stdout",
     "output_type": "stream",
     "text": [
      "batch shape : torch.Size([2, 5])\n",
      "batch data : tensor([[-0.1115,  0.1204, -0.3696, -0.2404, -1.1969],\n",
      "        [ 0.2093, -0.9724, -0.7550,  0.3239, -0.1085]])\n"
     ]
    }
   ],
   "source": [
    "print('batch shape :', batch_example.shape)\n",
    "print('batch data :', batch_example)"
   ]
  },
  {
   "cell_type": "code",
   "execution_count": 101,
   "id": "8be0f394-e412-42e5-8f7e-2a4fc57cb083",
   "metadata": {},
   "outputs": [
    {
     "data": {
      "text/plain": [
       "Sequential(\n",
       "  (0): Linear(in_features=5, out_features=6, bias=True)\n",
       "  (1): ReLU()\n",
       ")"
      ]
     },
     "execution_count": 101,
     "metadata": {},
     "output_type": "execute_result"
    }
   ],
   "source": [
    "layer"
   ]
  },
  {
   "cell_type": "code",
   "execution_count": 102,
   "id": "fde7dab1-8bed-4f4f-bf10-bd6cb7dab4e1",
   "metadata": {},
   "outputs": [
    {
     "data": {
      "text/plain": [
       "tensor(0.1324, grad_fn=<DivBackward0>)"
      ]
     },
     "execution_count": 102,
     "metadata": {},
     "output_type": "execute_result"
    }
   ],
   "source": [
    "torch.sum(out[0]) / 6"
   ]
  },
  {
   "cell_type": "code",
   "execution_count": 103,
   "id": "800b999e-ea1a-463b-b054-15505952b5c9",
   "metadata": {},
   "outputs": [
    {
     "name": "stdout",
     "output_type": "stream",
     "text": [
      "Mean:\n",
      " tensor([[0.1324],\n",
      "        [0.2170]], grad_fn=<MeanBackward1>)\n",
      "Variance:\n",
      " tensor([[0.0231],\n",
      "        [0.0398]], grad_fn=<VarBackward0>)\n"
     ]
    }
   ],
   "source": [
    "mean = out.mean(dim=-1, keepdim=True)\n",
    "var = out.var(dim=-1, keepdim=True)\n",
    "print(\"Mean:\\n\", mean)\n",
    "print(\"Variance:\\n\", var)"
   ]
  },
  {
   "cell_type": "code",
   "execution_count": 104,
   "id": "8b5fef2a-aa4d-4c40-b1c7-cdf9a890b86b",
   "metadata": {},
   "outputs": [
    {
     "name": "stdout",
     "output_type": "stream",
     "text": [
      "Normalized layer outputs:\n",
      " tensor([[ 0.6159,  1.4126, -0.8719,  0.5872, -0.8719, -0.8719],\n",
      "        [-0.0189,  0.1121, -1.0876,  1.5173,  0.5647, -1.0876]],\n",
      "       grad_fn=<DivBackward0>)\n",
      "Mean:\n",
      " tensor([[9.9341e-09],\n",
      "        [1.9868e-08]], grad_fn=<MeanBackward1>)\n",
      "Variance:\n",
      " tensor([[1.0000],\n",
      "        [1.0000]], grad_fn=<VarBackward0>)\n"
     ]
    }
   ],
   "source": [
    "out_norm = (out - mean) / torch.sqrt(var)\n",
    "mean = out_norm.mean(dim=-1, keepdim=True)\n",
    "var = out_norm.var(dim=-1, keepdim=True)\n",
    "print(\"Normalized layer outputs:\\n\", out_norm)\n",
    "print(\"Mean:\\n\", mean)\n",
    "print(\"Variance:\\n\", var)"
   ]
  },
  {
   "cell_type": "code",
   "execution_count": 105,
   "id": "0020a632-a4da-499a-a29e-7a5319f1e3c5",
   "metadata": {},
   "outputs": [
    {
     "name": "stdout",
     "output_type": "stream",
     "text": [
      "Mean:\n",
      " tensor([[    0.0000],\n",
      "        [    0.0000]], grad_fn=<MeanBackward1>)\n",
      "Variance:\n",
      " tensor([[1.0000],\n",
      "        [1.0000]], grad_fn=<VarBackward0>)\n"
     ]
    }
   ],
   "source": [
    "torch.set_printoptions(sci_mode=False)\n",
    "print(\"Mean:\\n\", mean)\n",
    "print(\"Variance:\\n\", var)"
   ]
  },
  {
   "cell_type": "code",
   "execution_count": 106,
   "id": "9aa07fd5-902b-4ec6-a687-bafd577169fd",
   "metadata": {},
   "outputs": [],
   "source": [
    "class LayerNorm(nn.Module):\n",
    "    def __init__(self, emb_dim):\n",
    "        super().__init__()\n",
    "        self.eps = 1e-5\n",
    "        self.scale = nn.Parameter(torch.ones(emb_dim))\n",
    "        self.shift = nn.Parameter(torch.zeros(emb_dim))\n",
    "    def forward(self, x):\n",
    "        mean = x.mean(dim=-1, keepdim=True)\n",
    "        var = x.var(dim=-1, keepdim=True, unbiased=False)\n",
    "        norm_x = (x - mean) / torch.sqrt(var + self.eps)\n",
    "        return self.scale * norm_x + self.shift"
   ]
  },
  {
   "cell_type": "code",
   "execution_count": 107,
   "id": "81c29b51-52c5-41d7-baaf-128b7c3bbcff",
   "metadata": {},
   "outputs": [
    {
     "name": "stdout",
     "output_type": "stream",
     "text": [
      "Mean:\n",
      " tensor([[    -0.0000],\n",
      "        [     0.0000]], grad_fn=<MeanBackward1>)\n",
      "Variance:\n",
      " tensor([[1.0000],\n",
      "        [1.0000]], grad_fn=<VarBackward0>)\n"
     ]
    }
   ],
   "source": [
    "ln = LayerNorm(emb_dim=5)\n",
    "out_ln = ln(batch_example)\n",
    "mean = out_ln.mean(dim=-1, keepdim=True)\n",
    "var = out_ln.var(dim=-1, unbiased=False, keepdim=True)\n",
    "print(\"Mean:\\n\", mean)\n",
    "print(\"Variance:\\n\", var)"
   ]
  },
  {
   "cell_type": "code",
   "execution_count": 108,
   "id": "23922f11-649d-4788-b4ce-db6ac578705c",
   "metadata": {},
   "outputs": [],
   "source": [
    "class GELU(nn.Module):\n",
    "    def __init__(self):\n",
    "        super().__init__()\n",
    "    def forward(self, x):\n",
    "        return 0.5 * x * (1 + torch.tanh(\n",
    "        torch.sqrt(torch.tensor(2.0 / torch.pi)) *\n",
    "        (x + 0.044715 * torch.pow(x, 3))\n",
    "        ))"
   ]
  },
  {
   "cell_type": "code",
   "execution_count": 110,
   "id": "c98390fe-2c16-4b9f-b7e4-f95b8ebb6df7",
   "metadata": {},
   "outputs": [
    {
     "data": {
      "image/png": "[encoded data removed]",
      "text/plain": [
       "<Figure size 800x300 with 2 Axes>"
      ]
     },
     "metadata": {},
     "output_type": "display_data"
    }
   ],
   "source": [
    "import matplotlib.pyplot as plt\n",
    "gelu, relu = GELU(), nn.ReLU()\n",
    "x = torch.linspace(-3, 3, 100)\n",
    "y_gelu, y_relu = gelu(x), relu(x)\n",
    "plt.figure(figsize=(8, 3))\n",
    "for i, (y, label) in enumerate(zip([y_gelu, y_relu], [\"GELU\", \"ReLU\"]), 1):\n",
    "    plt.subplot(1, 2, i)\n",
    "    plt.plot(x, y)\n",
    "    plt.title(f\"{label} activation function\")\n",
    "    plt.xlabel(\"x\")\n",
    "    plt.ylabel(f\"{label}(x)\")\n",
    "    plt.grid(True)\n",
    "plt.tight_layout()\n",
    "plt.show()"
   ]
  },
  {
   "cell_type": "code",
   "execution_count": 111,
   "id": "f7ded1b6-33ac-43b6-83f2-9d210afb9cce",
   "metadata": {},
   "outputs": [],
   "source": [
    "class FeedForward(nn.Module):\n",
    "    def __init__(self, cfg):\n",
    "        super().__init__()\n",
    "        self.layers = nn.Sequential(\n",
    "        nn.Linear(cfg[\"emb_dim\"], 4 * cfg[\"emb_dim\"]),\n",
    "        GELU(),\n",
    "        nn.Linear(4 * cfg[\"emb_dim\"], cfg[\"emb_dim\"]),\n",
    "        )\n",
    "    def forward(self, x):\n",
    "        return self.layers(x)"
   ]
  },
  {
   "cell_type": "code",
   "execution_count": 112,
   "id": "5fed5705-79a1-4891-bf14-de57069fa30c",
   "metadata": {},
   "outputs": [
    {
     "data": {
      "text/plain": [
       "tensor([[3, 6, 0],\n",
       "        [5, 0, 5]])"
      ]
     },
     "execution_count": 112,
     "metadata": {},
     "output_type": "execute_result"
    }
   ],
   "source": [
    "a = torch.randint(10, (2,3))\n",
    "a"
   ]
  },
  {
   "cell_type": "code",
   "execution_count": 113,
   "id": "8e899d21-958c-413d-b8a5-d80d12966a0a",
   "metadata": {},
   "outputs": [
    {
     "data": {
      "text/plain": [
       "tensor([ 9, 10])"
      ]
     },
     "execution_count": 113,
     "metadata": {},
     "output_type": "execute_result"
    }
   ],
   "source": [
    "torch.sum(a, dim=-1)"
   ]
  },
  {
   "cell_type": "code",
   "execution_count": 114,
   "id": "6d6282c7-977b-4bce-8bea-098f2f6cba38",
   "metadata": {},
   "outputs": [],
   "source": [
    "class LayerNorm(nn.Module):\n",
    "    def __init__(self, emb_dim):\n",
    "        super().__init__()\n",
    "        self.eps = 1e-5\n",
    "        self.scale = nn.Parameter(torch.ones(emb_dim))\n",
    "        self.shift = nn.Parameter(torch.zeros(emb_dim))\n",
    "    def forward(self, x):\n",
    "        mean = x.mean(dim=-1, keepdim=True)\n",
    "        var = x.var(dim=-1, keepdim=True, unbiased=False)\n",
    "        norm_x = (x - mean) / torch.sqrt(var + self.eps)\n",
    "        return self.scale * norm_x + self.shift"
   ]
  },
  {
   "cell_type": "code",
   "execution_count": 115,
   "id": "604601aa-878a-4a33-a7f5-4a243990828e",
   "metadata": {},
   "outputs": [
    {
     "name": "stdout",
     "output_type": "stream",
     "text": [
      "Mean:\n",
      " tensor([[    -0.0000],\n",
      "        [     0.0000]], grad_fn=<MeanBackward1>)\n",
      "Variance:\n",
      " tensor([[1.0000],\n",
      "        [1.0000]], grad_fn=<VarBackward0>)\n"
     ]
    }
   ],
   "source": [
    "ln = LayerNorm(emb_dim=5)\n",
    "out_ln = ln(batch_example)\n",
    "mean = out_ln.mean(dim=1, keepdim=True)\n",
    "var = out_ln.var(dim=-1, unbiased=False, keepdim=True)\n",
    "print(\"Mean:\\n\", mean)\n",
    "print(\"Variance:\\n\", var)"
   ]
  },
  {
   "cell_type": "code",
   "execution_count": 116,
   "id": "ae6eb60a-7edd-450d-a5b4-9c991cff234b",
   "metadata": {},
   "outputs": [
    {
     "data": {
      "text/plain": [
       "torch.Size([2, 5])"
      ]
     },
     "execution_count": 116,
     "metadata": {},
     "output_type": "execute_result"
    }
   ],
   "source": [
    "out_ln.shape"
   ]
  },
  {
   "cell_type": "code",
   "execution_count": 117,
   "id": "1119d2aa-2a8b-46e1-b665-59c4d3fe8098",
   "metadata": {},
   "outputs": [
    {
     "data": {
      "text/plain": [
       "tensor([[ 0.5528,  1.0693, -0.0223,  0.2656, -1.8654],\n",
       "        [ 0.9087, -1.3767, -0.9564,  1.1304,  0.2940]], grad_fn=<AddBackward0>)"
      ]
     },
     "execution_count": 117,
     "metadata": {},
     "output_type": "execute_result"
    }
   ],
   "source": [
    "out_ln"
   ]
  },
  {
   "cell_type": "code",
   "execution_count": 118,
   "id": "660e4e25-9120-42de-89bb-f770cd01627d",
   "metadata": {},
   "outputs": [
    {
     "name": "stdout",
     "output_type": "stream",
     "text": [
      "torch.Size([2, 3, 768])\n"
     ]
    }
   ],
   "source": [
    "ffn = FeedForward(GPT_CONFIG_124M)\n",
    "x = torch.rand(2, 3, 768)\n",
    "out = ffn(x)\n",
    "print(out.shape)"
   ]
  },
  {
   "cell_type": "code",
   "execution_count": 119,
   "id": "c669d25b-401e-4623-9e82-1fd881f12a8f",
   "metadata": {},
   "outputs": [],
   "source": [
    "class ExampleDeepNeuralNetwork(nn.Module):\n",
    "    def __init__(self, layer_sizes, use_shortcut):\n",
    "        super().__init__()\n",
    "        self.use_shortcut = use_shortcut\n",
    "        \n",
    "        self.layers = nn.ModuleList([\n",
    "                    nn.Sequential(nn.Linear(layer_sizes[0], layer_sizes[1]),\n",
    "                        GELU()),\n",
    "                        nn.Sequential(nn.Linear(layer_sizes[1], layer_sizes[2]),\n",
    "                        GELU()),\n",
    "                        nn.Sequential(nn.Linear(layer_sizes[2], layer_sizes[3]),\n",
    "                        GELU()),\n",
    "                        nn.Sequential(nn.Linear(layer_sizes[3], layer_sizes[4]),\n",
    "                        GELU()),\n",
    "                        nn.Sequential(nn.Linear(layer_sizes[4], layer_sizes[5]),\n",
    "                        GELU())\n",
    "                        ])        \n",
    "    def forward(self, x):\n",
    "        for layer in self.layers:\n",
    "            layer_output = layer(x)\n",
    "            if self.use_shortcut and x.shape == layer_output.shape:\n",
    "                x = x + layer_output\n",
    "            else:\n",
    "                x = layer_output\n",
    "        return x"
   ]
  },
  {
   "cell_type": "code",
   "execution_count": 120,
   "id": "37631503-0caa-4e93-9085-0db548908e68",
   "metadata": {},
   "outputs": [],
   "source": [
    "layer_sizes = [3, 3, 3, 3, 3, 1]\n",
    "sample_input = torch.tensor([[1., 0., -1.]])\n",
    "torch.manual_seed(123)\n",
    "model_without_shortcut = ExampleDeepNeuralNetwork(\n",
    "                            layer_sizes, use_shortcut=False\n",
    "                        )"
   ]
  },
  {
   "cell_type": "code",
   "execution_count": 121,
   "id": "e5912ce3-9c1e-40f8-ae31-a15eab390e85",
   "metadata": {},
   "outputs": [],
   "source": [
    "def print_gradients(model, x):\n",
    "    output = model(x)\n",
    "    target = torch.tensor([[0.]])\n",
    "    loss = nn.MSELoss()\n",
    "    loss = loss(output, target)\n",
    "    loss.backward()\n",
    "    for name, param in model.named_parameters():\n",
    "        # print(param)\n",
    "        if 'weight' in name:\n",
    "            print(f\"{name} has gradient mean of {param.grad.abs().mean().item()}\")"
   ]
  },
  {
   "cell_type": "code",
   "execution_count": 122,
   "id": "0ab77255-0b36-4e05-a334-88770f84a7be",
   "metadata": {},
   "outputs": [
    {
     "name": "stdout",
     "output_type": "stream",
     "text": [
      "layers.0.0.weight has gradient mean of 0.00020173584925942123\n",
      "layers.1.0.weight has gradient mean of 0.00012011159560643137\n",
      "layers.2.0.weight has gradient mean of 0.0007152040489017963\n",
      "layers.3.0.weight has gradient mean of 0.0013988736318424344\n",
      "layers.4.0.weight has gradient mean of 0.005049645435065031\n"
     ]
    }
   ],
   "source": [
    "print_gradients(model_without_shortcut, sample_input)"
   ]
  },
  {
   "cell_type": "code",
   "execution_count": 123,
   "id": "f73d0edf-67a2-4846-990a-382e507b3d27",
   "metadata": {},
   "outputs": [
    {
     "name": "stdout",
     "output_type": "stream",
     "text": [
      "layers.0.0.weight has gradient mean of 0.22169792652130127\n",
      "layers.1.0.weight has gradient mean of 0.20694108307361603\n",
      "layers.2.0.weight has gradient mean of 0.3289699852466583\n",
      "layers.3.0.weight has gradient mean of 0.2665732204914093\n",
      "layers.4.0.weight has gradient mean of 1.3258541822433472\n"
     ]
    }
   ],
   "source": [
    "torch.manual_seed(123)\n",
    "model_with_shortcut = ExampleDeepNeuralNetwork(\n",
    "layer_sizes, use_shortcut=True\n",
    ")\n",
    "print_gradients(model_with_shortcut, sample_input)"
   ]
  },
  {
   "cell_type": "code",
   "execution_count": 124,
   "id": "ffdffb49-77e3-4d70-aaf4-431673b2eb43",
   "metadata": {},
   "outputs": [],
   "source": [
    "# transformer Block\n",
    "class TransformerBlock(nn.Module):\n",
    "    def __init__(self, cfg):\n",
    "        super().__init__()\n",
    "        self.att = MultiHeadAttention(\n",
    "        d_in=cfg[\"emb_dim\"],\n",
    "        d_out=cfg[\"emb_dim\"],\n",
    "        context_length=cfg[\"context_length\"],\n",
    "        num_heads=cfg[\"n_heads\"],\n",
    "        dropout=cfg[\"drop_rate\"],\n",
    "        qkv_bias=cfg[\"qkv_bias\"])\n",
    "        self.ff = FeedForward(cfg)\n",
    "        self.norm1 = LayerNorm(cfg[\"emb_dim\"])\n",
    "        self.norm2 = LayerNorm(cfg[\"emb_dim\"])\n",
    "        self.drop_shortcut = nn.Dropout(cfg[\"drop_rate\"])\n",
    "\n",
    "    def forward(self, x):\n",
    "        shortcut = x\n",
    "        x = self.norm1(x)\n",
    "        x = self.att(x)\n",
    "        x = self.drop_shortcut(x)\n",
    "        x = x + shortcut\n",
    "        shortcut = x\n",
    "        x = self.norm2(x)\n",
    "        x = self.ff(x)\n",
    "        x = self.drop_shortcut(x)\n",
    "        x = x + shortcut\n",
    "        return x"
   ]
  },
  {
   "cell_type": "code",
   "execution_count": 125,
   "id": "342ae07c-4862-4a6c-ac92-88457f132c1e",
   "metadata": {},
   "outputs": [
    {
     "name": "stdout",
     "output_type": "stream",
     "text": [
      "Input shape: torch.Size([2, 4, 768])\n",
      "Output shape: torch.Size([2, 4, 768])\n"
     ]
    }
   ],
   "source": [
    "torch.manual_seed(123)\n",
    "x = torch.rand(2, 4, 768)\n",
    "block = TransformerBlock(GPT_CONFIG_124M)\n",
    "output = block(x)\n",
    "print(\"Input shape:\", x.shape)\n",
    "print(\"Output shape:\", output.shape)"
   ]
  },
  {
   "cell_type": "code",
   "execution_count": 126,
   "id": "fc8c81ef-5b4a-4c87-bc65-53d3ab2d2062",
   "metadata": {},
   "outputs": [],
   "source": [
    "# GPT-2 model\n",
    "class GPTModel(nn.Module):\n",
    "    def __init__(self, cfg):\n",
    "        super().__init__()\n",
    "        self.tok_emb = nn.Embedding(cfg[\"vocab_size\"], cfg[\"emb_dim\"])\n",
    "        self.pos_emb = nn.Embedding(cfg[\"context_length\"], cfg[\"emb_dim\"])\n",
    "        self.drop_emb = nn.Dropout(cfg[\"drop_rate\"])\n",
    "        self.trf_blocks = nn.Sequential(\n",
    "        *[TransformerBlock(cfg) for _ in range(cfg[\"n_layers\"])])\n",
    "        self.final_norm = LayerNorm(cfg[\"emb_dim\"])\n",
    "        self.out_head = nn.Linear(\n",
    "        cfg[\"emb_dim\"], cfg[\"vocab_size\"], bias=False\n",
    "        )\n",
    "    def forward(self, in_idx):\n",
    "        batch_size, seq_len = in_idx.shape\n",
    "        tok_embeds = self.tok_emb(in_idx)\n",
    "        pos_embeds = self.pos_emb(torch.arange(seq_len, device=in_idx.device))\n",
    "        x = tok_embeds + pos_embeds\n",
    "        x = self.drop_emb(x)\n",
    "        x = self.trf_blocks(x)\n",
    "        x = self.final_norm(x)\n",
    "        logits = self.out_head(x)\n",
    "        return logits"
   ]
  },
  {
   "cell_type": "code",
   "execution_count": 127,
   "id": "22ced93e-7cac-41a5-8169-3e8be903451e",
   "metadata": {},
   "outputs": [
    {
     "name": "stdout",
     "output_type": "stream",
     "text": [
      "Input batch:\n",
      " tensor([[6109, 3626, 6100,  345],\n",
      "        [6109, 1110, 6622,  257]])\n",
      "\n",
      "Output shape: torch.Size([2, 4, 50257])\n",
      "tensor([[[-0.4708,  0.5737, -0.5967,  ...,  0.2019, -0.5665,  0.1800],\n",
      "         [-0.3895, -0.1978, -0.8885,  ...,  0.2242, -1.2341,  0.1752],\n",
      "         [ 0.6973, -0.3432, -0.6080,  ...,  0.3747, -0.6967,  0.1088],\n",
      "         [-0.2962, -0.6957, -1.1371,  ...,  0.3579,  0.3058, -0.2915]],\n",
      "\n",
      "        [[-0.1514,  0.3329, -0.9740,  ..., -0.1368, -0.6974, -0.1851],\n",
      "         [-0.4894, -0.3492, -0.9759,  ...,  0.2951, -0.3396,  0.2109],\n",
      "         [ 0.5082, -0.1425,  0.2549,  ...,  0.1618,  0.1304, -0.3092],\n",
      "         [-0.4146, -0.0514, -0.5187,  ..., -0.1869, -0.1303, -0.4969]]],\n",
      "       grad_fn=<UnsafeViewBackward0>)\n"
     ]
    }
   ],
   "source": [
    "torch.manual_seed(123)\n",
    "model = GPTModel(GPT_CONFIG_124M)\n",
    "out = model(batch)\n",
    "print(\"Input batch:\\n\", batch)\n",
    "print(\"\\nOutput shape:\", out.shape)\n",
    "print(out)"
   ]
  },
  {
   "cell_type": "code",
   "execution_count": 128,
   "id": "f773c309-373d-4f0f-8c2b-8dff6b87e8fe",
   "metadata": {},
   "outputs": [
    {
     "name": "stdout",
     "output_type": "stream",
     "text": [
      "Total number of parameters: 162,419,712\n"
     ]
    }
   ],
   "source": [
    "total_params = sum(p.numel() for p in model.parameters())\n",
    "print(f\"Total number of parameters: {total_params:,}\")"
   ]
  },
  {
   "cell_type": "code",
   "execution_count": 129,
   "id": "77f192b1-8fb1-4b17-bbbe-1d35941fa65f",
   "metadata": {},
   "outputs": [
    {
     "data": {
      "text/plain": [
       "<generator object Module.parameters at 0x74680c18fe60>"
      ]
     },
     "execution_count": 129,
     "metadata": {},
     "output_type": "execute_result"
    }
   ],
   "source": [
    "model.parameters()"
   ]
  },
  {
   "cell_type": "code",
   "execution_count": 130,
   "id": "e9de5dc7-6e68-42c9-9757-6d562ce1bc38",
   "metadata": {},
   "outputs": [
    {
     "name": "stdout",
     "output_type": "stream",
     "text": [
      "Token embedding layer shape: torch.Size([50257, 768])\n",
      "Output layer shape: torch.Size([50257, 768])\n"
     ]
    }
   ],
   "source": [
    "print(\"Token embedding layer shape:\", model.tok_emb.weight.shape)\n",
    "print(\"Output layer shape:\", model.out_head.weight.shape)"
   ]
  },
  {
   "cell_type": "code",
   "execution_count": 131,
   "id": "d665de43-6ec7-4456-a04c-820c29ef03f7",
   "metadata": {},
   "outputs": [
    {
     "name": "stdout",
     "output_type": "stream",
     "text": [
      "Number of trainable parameters considering weight tying: 123,822,336\n"
     ]
    }
   ],
   "source": [
    "total_params_gpt2 = (\n",
    "total_params - sum(p.numel()\n",
    "for p in model.out_head.parameters())\n",
    ")\n",
    "print(f\"Number of trainable parameters \"\n",
    "f\"considering weight tying: {total_params_gpt2:,}\"\n",
    ")"
   ]
  },
  {
   "cell_type": "code",
   "execution_count": 132,
   "id": "b282846d-c721-4303-ab4f-48417b5e0feb",
   "metadata": {},
   "outputs": [
    {
     "name": "stdout",
     "output_type": "stream",
     "text": [
      "Total size of the model: 619.58 MB\n"
     ]
    }
   ],
   "source": [
    "total_size_bytes = total_params * 4\n",
    "total_size_mb = total_size_bytes / (1024 * 1024)\n",
    "print(f\"Total size of the model: {total_size_mb:.2f} MB\")"
   ]
  },
  {
   "cell_type": "code",
   "execution_count": 133,
   "id": "54f31366-d603-4139-9b32-dc198cd90c97",
   "metadata": {},
   "outputs": [],
   "source": [
    "def generate_text_simple(model, idx, max_new_tokens, context_size):\n",
    "    for _ in range(max_new_tokens):\n",
    "        idx_cond = idx[:, -context_size:]\n",
    "        print(idx_cond)\n",
    "        with torch.no_grad():\n",
    "            logits = model(idx_cond)\n",
    "        logits = logits[:, -1, :]\n",
    "        probas = torch.softmax(logits, dim=-1)\n",
    "        idx_next = torch.argmax(probas, dim=-1, keepdim=True)\n",
    "        idx = torch.cat((idx, idx_next), dim=1)\n",
    "    return idx"
   ]
  },
  {
   "cell_type": "code",
   "execution_count": 134,
   "id": "0c05a2d6-0a3e-436a-865e-05e8dec391ce",
   "metadata": {},
   "outputs": [
    {
     "name": "stdout",
     "output_type": "stream",
     "text": [
      "encoded: [15496, 11, 314, 716]\n",
      "encoded_tensor.shape: torch.Size([1, 4])\n",
      "tensor([[15496,    11,   314,   716]])\n"
     ]
    }
   ],
   "source": [
    "start_context = \"Hello, I am\"\n",
    "encoded = tokenizer.encode(start_context)\n",
    "print(\"encoded:\", encoded)\n",
    "encoded_tensor = torch.tensor(encoded).unsqueeze(0)\n",
    "print(\"encoded_tensor.shape:\", encoded_tensor.shape)\n",
    "print(encoded_tensor)"
   ]
  },
  {
   "cell_type": "code",
   "execution_count": 135,
   "id": "5b29368d-e050-4d78-81d4-c28efde1deae",
   "metadata": {},
   "outputs": [
    {
     "name": "stdout",
     "output_type": "stream",
     "text": [
      "tensor([[15496,    11,   314,   716]])\n",
      "tensor([[15496,    11,   314,   716, 13240]])\n",
      "tensor([[15496,    11,   314,   716, 13240, 11381]])\n",
      "tensor([[15496,    11,   314,   716, 13240, 11381,  4307]])\n",
      "tensor([[15496,    11,   314,   716, 13240, 11381,  4307,  7640]])\n",
      "tensor([[15496,    11,   314,   716, 13240, 11381,  4307,  7640, 16620]])\n",
      "Output: tensor([[15496,    11,   314,   716, 13240, 11381,  4307,  7640, 16620, 34991]])\n",
      "Output length: 10\n"
     ]
    }
   ],
   "source": [
    "model.eval()\n",
    "out = generate_text_simple(\n",
    "model=model,\n",
    "idx=encoded_tensor,\n",
    "max_new_tokens=6,\n",
    "context_size=GPT_CONFIG_124M[\"context_length\"]\n",
    ")\n",
    "print(\"Output:\", out)\n",
    "print(\"Output length:\", len(out[0]))"
   ]
  },
  {
   "cell_type": "code",
   "execution_count": 136,
   "id": "077b689b-2ff2-4ef5-a4b0-0375399a8aef",
   "metadata": {},
   "outputs": [
    {
     "name": "stdout",
     "output_type": "stream",
     "text": [
      "Hello, I am Laur inhab DistrinetalkQueue\n"
     ]
    }
   ],
   "source": [
    "decoded_text = tokenizer.decode(out.squeeze(0).tolist())\n",
    "print(decoded_text)"
   ]
  },
  {
   "cell_type": "code",
   "execution_count": 137,
   "id": "4d9e07cd-d715-4925-850f-141e6744ede6",
   "metadata": {},
   "outputs": [
    {
     "name": "stdout",
     "output_type": "stream",
     "text": [
      "encoded: [15496, 11, 314, 716]\n",
      "encoded_tensor.shape: torch.Size([1, 4])\n"
     ]
    }
   ],
   "source": [
    "start_context = \"Hello, I am\"\n",
    "encoded = tokenizer.encode(start_context)\n",
    "print(\"encoded:\", encoded)\n",
    "encoded_tensor = torch.tensor(encoded).unsqueeze(0)\n",
    "print(\"encoded_tensor.shape:\", encoded_tensor.shape)"
   ]
  },
  {
   "cell_type": "code",
   "execution_count": 138,
   "id": "666b18a7-a127-4fb7-a7a0-946ab512a4d3",
   "metadata": {},
   "outputs": [],
   "source": [
    "def text_to_token_ids(text, tokenizer):\n",
    "    encoded = tokenizer.encode(text, allowed_special={'<|endoftext|>'})\n",
    "    encoded_tensor = torch.tensor(encoded).unsqueeze(0)\n",
    "    return encoded_tensor"
   ]
  },
  {
   "cell_type": "code",
   "execution_count": 139,
   "id": "ffc95ee7-885e-4d41-8276-e6680dc30890",
   "metadata": {},
   "outputs": [],
   "source": [
    "def token_ids_to_text(token_ids, tokenizer):\n",
    "    flat = token_ids.squeeze(0)\n",
    "    return tokenizer.decode(flat.tolist())"
   ]
  },
  {
   "cell_type": "code",
   "execution_count": 140,
   "id": "7acfd494-d46c-4682-bd09-81f305b128b6",
   "metadata": {},
   "outputs": [],
   "source": [
    "start_context = \"Every effort moves you\"\n",
    "tokenizer = tiktoken.get_encoding(\"gpt2\")"
   ]
  },
  {
   "cell_type": "code",
   "execution_count": 141,
   "id": "0506f123-bad1-4445-adeb-ddb2bec0c595",
   "metadata": {},
   "outputs": [
    {
     "name": "stdout",
     "output_type": "stream",
     "text": [
      "tensor([[6109, 3626, 6100,  345]])\n",
      "tensor([[ 6109,  3626,  6100,   345, 34245]])\n",
      "tensor([[ 6109,  3626,  6100,   345, 34245,  5139]])\n",
      "tensor([[ 6109,  3626,  6100,   345, 34245,  5139,  2492]])\n",
      "tensor([[ 6109,  3626,  6100,   345, 34245,  5139,  2492, 25405]])\n",
      "tensor([[ 6109,  3626,  6100,   345, 34245,  5139,  2492, 25405, 17434]])\n",
      "tensor([[ 6109,  3626,  6100,   345, 34245,  5139,  2492, 25405, 17434, 17853]])\n",
      "tensor([[ 6109,  3626,  6100,   345, 34245,  5139,  2492, 25405, 17434, 17853,\n",
      "          5308]])\n",
      "tensor([[ 6109,  3626,  6100,   345, 34245,  5139,  2492, 25405, 17434, 17853,\n",
      "          5308,  3398]])\n",
      "tensor([[ 6109,  3626,  6100,   345, 34245,  5139,  2492, 25405, 17434, 17853,\n",
      "          5308,  3398, 13174]])\n",
      "Output text:\n",
      " Every effort moves you rentingetic wasnم refres RexMeCHicular stren\n"
     ]
    }
   ],
   "source": [
    "token_ids = generate_text_simple(\n",
    "model=model,\n",
    "idx=text_to_token_ids(start_context, tokenizer),\n",
    "max_new_tokens=10,\n",
    "context_size=GPT_CONFIG_124M[\"context_length\"]\n",
    ")\n",
    "print(\"Output text:\\n\", token_ids_to_text(token_ids, tokenizer))"
   ]
  },
  {
   "cell_type": "code",
   "execution_count": 142,
   "id": "e51597e3-2243-402b-9a4e-d2b9e742913f",
   "metadata": {},
   "outputs": [],
   "source": [
    "inputs = torch.tensor([[16833, 3626, 6100],  # [\"every effort moves\",\n",
    "                        [40, 1107, 588]])   # \"I really like\"]\n",
    "\n"
   ]
  },
  {
   "cell_type": "code",
   "execution_count": 143,
   "id": "51f4f510-63a1-47ec-b045-898c5fabef06",
   "metadata": {},
   "outputs": [],
   "source": [
    "targets = torch.tensor([[3626, 6100, 345 ],   # [\" effort moves you\",\n",
    "                        [1107, 588, 11311]])   # \" really like chocolate\"]\n",
    "                                    \n",
    "                                        "
   ]
  },
  {
   "cell_type": "code",
   "execution_count": 144,
   "id": "c80c9814-c54b-4040-b26e-6c8b64312ae0",
   "metadata": {},
   "outputs": [
    {
     "name": "stdout",
     "output_type": "stream",
     "text": [
      "torch.Size([2, 3, 50257])\n",
      "tensor([[    0.0000,     0.0000,     0.0000,  ...,     0.0000,     0.0000,\n",
      "             0.0000],\n",
      "        [    0.0000,     0.0000,     0.0000,  ...,     0.0000,     0.0000,\n",
      "             0.0000],\n",
      "        [    0.0000,     0.0000,     0.0000,  ...,     0.0000,     0.0000,\n",
      "             0.0000]])\n"
     ]
    }
   ],
   "source": [
    "with torch.no_grad():\n",
    "    logits = model(inputs)\n",
    "probas = torch.softmax(logits, dim=-1)\n",
    "print(probas.shape)\n",
    "print(probas[0])"
   ]
  },
  {
   "cell_type": "code",
   "execution_count": 145,
   "id": "462178d1-917a-4d9e-85cb-eb5bfa49f5bf",
   "metadata": {},
   "outputs": [
    {
     "name": "stdout",
     "output_type": "stream",
     "text": [
      "Token IDs:\n",
      " tensor([[[16657],\n",
      "         [  339],\n",
      "         [42826]],\n",
      "\n",
      "        [[49906],\n",
      "         [29669],\n",
      "         [41751]]])\n"
     ]
    }
   ],
   "source": [
    "token_ids = torch.argmax(probas, dim=-1, keepdim=True)\n",
    "print(\"Token IDs:\\n\", token_ids)"
   ]
  },
  {
   "cell_type": "code",
   "execution_count": 146,
   "id": "8804536a-b617-47f0-a2c0-f4f501c9fb85",
   "metadata": {},
   "outputs": [
    {
     "data": {
      "text/plain": [
       "tensor(    0.0000)"
      ]
     },
     "execution_count": 146,
     "metadata": {},
     "output_type": "execute_result"
    }
   ],
   "source": [
    "probas[0][1][39619] #non zero value predicted token probas"
   ]
  },
  {
   "cell_type": "code",
   "execution_count": 147,
   "id": "d33b2c5a-accd-4654-9d14-ae25f1494e98",
   "metadata": {},
   "outputs": [
    {
     "data": {
      "text/plain": [
       "tensor(    0.0000)"
      ]
     },
     "execution_count": 147,
     "metadata": {},
     "output_type": "execute_result"
    }
   ],
   "source": [
    "#expected or targeted token probas\n",
    "probas[0][1][6100]"
   ]
  },
  {
   "cell_type": "code",
   "execution_count": 148,
   "id": "f8a57755-909f-4f1c-82b7-d00ddf1097ac",
   "metadata": {},
   "outputs": [
    {
     "name": "stdout",
     "output_type": "stream",
     "text": [
      "Targets batch 1:  effort moves you\n",
      "Outputs batch 1:  Armed heNetflix\n"
     ]
    }
   ],
   "source": [
    "print(f\"Targets batch 1: {token_ids_to_text(targets[0], tokenizer)}\")\n",
    "print(f\"Outputs batch 1:\"\n",
    "f\" {token_ids_to_text(token_ids[0].flatten(), tokenizer)}\")"
   ]
  },
  {
   "cell_type": "code",
   "execution_count": 149,
   "id": "1284b657-98b2-4d01-aab6-c4b8a23b7078",
   "metadata": {},
   "outputs": [
    {
     "name": "stdout",
     "output_type": "stream",
     "text": [
      "Targets batch 2:  really like chocolate\n",
      "Outputs batch 2:  pressuring empoweredfaith\n"
     ]
    }
   ],
   "source": [
    "print(f\"Targets batch 2: {token_ids_to_text(targets[1], tokenizer)}\")\n",
    "print(f\"Outputs batch 2:\"\n",
    "f\" {token_ids_to_text(token_ids[1].flatten(), tokenizer)}\")"
   ]
  },
  {
   "cell_type": "code",
   "execution_count": 150,
   "id": "8ca0d502-4841-4395-a09d-48947d34dbd1",
   "metadata": {},
   "outputs": [
    {
     "data": {
      "text/plain": [
       "tensor([[16657],\n",
       "        [  339],\n",
       "        [42826]])"
      ]
     },
     "execution_count": 150,
     "metadata": {},
     "output_type": "execute_result"
    }
   ],
   "source": [
    "token_ids[0]"
   ]
  },
  {
   "cell_type": "code",
   "execution_count": 151,
   "id": "ec1c97fe-4228-47c4-98fb-1a782a53a2b3",
   "metadata": {},
   "outputs": [
    {
     "data": {
      "text/plain": [
       "tensor([16657,   339, 42826])"
      ]
     },
     "execution_count": 151,
     "metadata": {},
     "output_type": "execute_result"
    }
   ],
   "source": [
    "token_ids[0].squeeze(1)"
   ]
  },
  {
   "cell_type": "code",
   "execution_count": 152,
   "id": "cc53517b-f300-46dc-ba78-2b273eb631dd",
   "metadata": {},
   "outputs": [
    {
     "data": {
      "text/plain": [
       "tensor([16657,   339, 42826])"
      ]
     },
     "execution_count": 152,
     "metadata": {},
     "output_type": "execute_result"
    }
   ],
   "source": [
    "token_ids[0].flatten()"
   ]
  },
  {
   "cell_type": "code",
   "execution_count": 153,
   "id": "93d639e7-b7e6-4de6-ac14-d94602fdb40f",
   "metadata": {},
   "outputs": [
    {
     "name": "stdout",
     "output_type": "stream",
     "text": [
      "Text 1: tensor([    0.0001,     0.0000,     0.0000])\n",
      "Text 2: tensor([    0.0000,     0.0001,     0.0000])\n"
     ]
    }
   ],
   "source": [
    "# torch.set_printoptions(sci_mode=True)\n",
    "text_idx = 0\n",
    "target_probas_1 = probas[text_idx, [0, 1, 2], targets[text_idx]]\n",
    "print(\"Text 1:\", target_probas_1)\n",
    "text_idx = 1\n",
    "target_probas_2 = probas[text_idx, [0, 1, 2], targets[text_idx]]\n",
    "print(\"Text 2:\", target_probas_2)"
   ]
  },
  {
   "cell_type": "code",
   "execution_count": 154,
   "id": "aff27526-99cc-4167-99a2-23c595a2665b",
   "metadata": {},
   "outputs": [
    {
     "data": {
      "text/plain": [
       "tensor([[    0.0000,     0.0000,     0.0000,  ...,     0.0000,     0.0000,\n",
       "             0.0000],\n",
       "        [    0.0000,     0.0000,     0.0000,  ...,     0.0000,     0.0000,\n",
       "             0.0000],\n",
       "        [    0.0000,     0.0000,     0.0000,  ...,     0.0000,     0.0001,\n",
       "             0.0000]])"
      ]
     },
     "execution_count": 154,
     "metadata": {},
     "output_type": "execute_result"
    }
   ],
   "source": [
    "probas[text_idx, [0, 1, 2]]"
   ]
  },
  {
   "cell_type": "code",
   "execution_count": null,
   "id": "d67d2461-bd67-416b-a04f-23c8a300ea98",
   "metadata": {},
   "outputs": [],
   "source": []
  },
  {
   "cell_type": "code",
   "execution_count": 155,
   "id": "dbcc3a3c-c1cf-4b19-aef3-6856cca7b831",
   "metadata": {},
   "outputs": [
    {
     "name": "stdout",
     "output_type": "stream",
     "text": [
      "tensor([ -9.5042, -10.3796, -11.3677, -11.4798,  -9.7764, -12.2561])\n"
     ]
    }
   ],
   "source": [
    "log_probas = torch.log(torch.cat((target_probas_1, target_probas_2)))\n",
    "print(log_probas)"
   ]
  },
  {
   "cell_type": "code",
   "execution_count": 156,
   "id": "563aee42-eb0a-48a9-a1e8-6079bd6f9b86",
   "metadata": {},
   "outputs": [
    {
     "data": {
      "text/plain": [
       "tensor([    0.0001,     0.0000,     0.0000,     0.0000,     0.0001,     0.0000])"
      ]
     },
     "execution_count": 156,
     "metadata": {},
     "output_type": "execute_result"
    }
   ],
   "source": [
    "torch.cat((target_probas_1, target_probas_2))"
   ]
  },
  {
   "cell_type": "code",
   "execution_count": 157,
   "id": "ae581f0c-7fbe-43b2-a814-142639b3228b",
   "metadata": {},
   "outputs": [
    {
     "data": {
      "text/plain": [
       "torch.Size([2, 3, 50257])"
      ]
     },
     "execution_count": 157,
     "metadata": {},
     "output_type": "execute_result"
    }
   ],
   "source": [
    "probas.shape"
   ]
  },
  {
   "cell_type": "code",
   "execution_count": 158,
   "id": "38f71c3f-ae4c-46f9-9330-914279e40708",
   "metadata": {},
   "outputs": [
    {
     "name": "stdout",
     "output_type": "stream",
     "text": [
      "tensor(-10.7940)\n"
     ]
    }
   ],
   "source": [
    "avg_log_probas = torch.mean(log_probas)\n",
    "print(avg_log_probas)"
   ]
  },
  {
   "cell_type": "code",
   "execution_count": 159,
   "id": "3d6bad0c-f123-459b-877a-eebbda7ba3dc",
   "metadata": {},
   "outputs": [
    {
     "name": "stdout",
     "output_type": "stream",
     "text": [
      "tensor(10.7940)\n"
     ]
    }
   ],
   "source": [
    "neg_avg_log_probas = avg_log_probas * -1\n",
    "print(neg_avg_log_probas)"
   ]
  },
  {
   "cell_type": "code",
   "execution_count": 160,
   "id": "384ce06e-b35f-4b53-9836-1c02be47a440",
   "metadata": {},
   "outputs": [
    {
     "name": "stdout",
     "output_type": "stream",
     "text": [
      "Logits shape: torch.Size([2, 3, 50257])\n",
      "Targets shape: torch.Size([2, 3])\n"
     ]
    }
   ],
   "source": [
    "print(\"Logits shape:\", logits.shape)\n",
    "print(\"Targets shape:\", targets.shape)"
   ]
  },
  {
   "cell_type": "code",
   "execution_count": 161,
   "id": "16832349-84f4-4b84-9062-fb6d37f61ff6",
   "metadata": {},
   "outputs": [
    {
     "data": {
      "text/plain": [
       "torch.Size([50257])"
      ]
     },
     "execution_count": 161,
     "metadata": {},
     "output_type": "execute_result"
    }
   ],
   "source": [
    "logits[0][0].shape"
   ]
  },
  {
   "cell_type": "code",
   "execution_count": 162,
   "id": "810b4e45-c282-47ed-8d6f-424f5f85a608",
   "metadata": {},
   "outputs": [
    {
     "name": "stdout",
     "output_type": "stream",
     "text": [
      "Flattened logits: torch.Size([6, 50257])\n",
      "Flattened targets: torch.Size([6])\n"
     ]
    }
   ],
   "source": [
    "logits_flat = logits.flatten(0, 1)\n",
    "targets_flat = targets.flatten()\n",
    "print(\"Flattened logits:\", logits_flat.shape)\n",
    "print(\"Flattened targets:\", targets_flat.shape)"
   ]
  },
  {
   "cell_type": "code",
   "execution_count": 163,
   "id": "b78b79f6-0dd1-4f86-aae5-71644fa51f19",
   "metadata": {},
   "outputs": [
    {
     "data": {
      "text/plain": [
       "torch.Size([6, 50257])"
      ]
     },
     "execution_count": 163,
     "metadata": {},
     "output_type": "execute_result"
    }
   ],
   "source": [
    "logits.flatten(0,1).shape"
   ]
  },
  {
   "cell_type": "code",
   "execution_count": 164,
   "id": "e0463610-754f-4c31-88b0-ee669d7e7306",
   "metadata": {},
   "outputs": [
    {
     "data": {
      "text/plain": [
       "tensor(1.4862)"
      ]
     },
     "execution_count": 164,
     "metadata": {},
     "output_type": "execute_result"
    }
   ],
   "source": [
    "logits_flat[0][3626]"
   ]
  },
  {
   "cell_type": "code",
   "execution_count": 165,
   "id": "b18960ea-e564-4e84-9acf-120069919b8d",
   "metadata": {},
   "outputs": [
    {
     "data": {
      "text/plain": [
       "tensor([ 3626,  6100,   345,  1107,   588, 11311])"
      ]
     },
     "execution_count": 165,
     "metadata": {},
     "output_type": "execute_result"
    }
   ],
   "source": [
    "targets_flat"
   ]
  },
  {
   "cell_type": "code",
   "execution_count": 166,
   "id": "75e5ded0-6258-4b9b-8d66-c3e2065666c4",
   "metadata": {},
   "outputs": [
    {
     "name": "stdout",
     "output_type": "stream",
     "text": [
      "tensor(10.7940)\n"
     ]
    }
   ],
   "source": [
    "loss = torch.nn.functional.cross_entropy(logits_flat, targets_flat)\n",
    "print(loss)"
   ]
  },
  {
   "cell_type": "code",
   "execution_count": 167,
   "id": "a4af137d-f5d9-4741-954c-ee5d40c98aa3",
   "metadata": {},
   "outputs": [],
   "source": [
    "probas = torch.tensor([\n",
    "    [[0.1, 0.2, 0.7], [0.3, 0.5, 0.2], [0.4, 0.1, 0.5]],  # batch 0\n",
    "    [[0.8, 0.1, 0.1], [0.2, 0.6, 0.2], [0.5, 0.2, 0.3]]   # batch 1\n",
    "])  # Shape: (2, 3, 3) -> (batch_size=2, num_classes=3, seq_len=3)\n",
    "\n",
    "targets = torch.tensor([\n",
    "    [2, 1, 0],  # batch 0 (true labels at each step)\n",
    "    [1, 2, 0]   # batch 1\n",
    "])\n",
    "\n",
    "text_idx = [0, 1]  # Select both batch samples\n"
   ]
  },
  {
   "cell_type": "code",
   "execution_count": 168,
   "id": "38077e66-53a6-4255-b3b1-aaf1a48da2cc",
   "metadata": {},
   "outputs": [
    {
     "data": {
      "text/plain": [
       "tensor([0.7000, 0.5000, 0.4000])"
      ]
     },
     "execution_count": 168,
     "metadata": {},
     "output_type": "execute_result"
    }
   ],
   "source": [
    "probas[0, [0, 1,2], targets[0]]\n"
   ]
  },
  {
   "cell_type": "code",
   "execution_count": 169,
   "id": "d7709942-0d75-443c-88e2-46efc7e6d47e",
   "metadata": {},
   "outputs": [],
   "source": [
    "file_path = \"the-verdict.txt\"\n",
    "with open(file_path, \"r\", encoding=\"utf-8\") as file:\n",
    "    text_data = file.read()"
   ]
  },
  {
   "cell_type": "code",
   "execution_count": 170,
   "id": "069449cb-4e09-4ebc-954f-ce3bc6b2bcaa",
   "metadata": {},
   "outputs": [
    {
     "name": "stdout",
     "output_type": "stream",
     "text": [
      "Characters: 20479\n",
      "Tokens: 5145\n"
     ]
    }
   ],
   "source": [
    "total_characters = len(text_data)\n",
    "total_tokens = len(tokenizer.encode(text_data))\n",
    "print(\"Characters:\", total_characters)\n",
    "print(\"Tokens:\", total_tokens)"
   ]
  },
  {
   "cell_type": "code",
   "execution_count": 171,
   "id": "5535faf6-be8d-4d2a-9661-781b0089cf56",
   "metadata": {},
   "outputs": [],
   "source": [
    "train_ratio = 0.90\n",
    "split_idx = int(train_ratio * len(text_data))\n",
    "train_data = text_data[:split_idx]\n",
    "val_data = text_data[split_idx:]"
   ]
  },
  {
   "cell_type": "code",
   "execution_count": 172,
   "id": "f62250b4-f67b-436c-a593-4eb213148e9c",
   "metadata": {},
   "outputs": [
    {
     "data": {
      "text/plain": [
       "(18431, 2048)"
      ]
     },
     "execution_count": 172,
     "metadata": {},
     "output_type": "execute_result"
    }
   ],
   "source": [
    "len(train_data), len(val_data)"
   ]
  },
  {
   "cell_type": "code",
   "execution_count": null,
   "id": "a86aea23-ac28-4f7d-8fab-7ca353e6db88",
   "metadata": {},
   "outputs": [],
   "source": []
  },
  {
   "cell_type": "code",
   "execution_count": 173,
   "id": "5b2ef5ec-9cf9-42fc-b79a-7b36bd84c4b7",
   "metadata": {},
   "outputs": [],
   "source": [
    "torch.manual_seed(123)\n",
    "train_loader = create_dataloader_v1(\n",
    "                train_data,\n",
    "                batch_size=2,\n",
    "                max_length=GPT_CONFIG_124M[\"context_length\"],\n",
    "                stride=GPT_CONFIG_124M[\"context_length\"],\n",
    "                drop_last=True,\n",
    "                shuffle=True,\n",
    "                num_workers=0\n",
    ")\n",
    "val_loader = create_dataloader_v1(\n",
    "                val_data,\n",
    "                batch_size=2,\n",
    "                max_length=GPT_CONFIG_124M[\"context_length\"],\n",
    "                stride=GPT_CONFIG_124M[\"context_length\"],\n",
    "                drop_last=False,\n",
    "                shuffle=False,\n",
    "                num_workers=0\n",
    ")"
   ]
  },
  {
   "cell_type": "code",
   "execution_count": 174,
   "id": "3c6d89f4-0657-4e20-9a02-b4cb39d29442",
   "metadata": {},
   "outputs": [
    {
     "name": "stdout",
     "output_type": "stream",
     "text": [
      "Train loader:\n",
      "torch.Size([2, 256]) torch.Size([2, 256])\n",
      "torch.Size([2, 256]) torch.Size([2, 256])\n",
      "torch.Size([2, 256]) torch.Size([2, 256])\n",
      "torch.Size([2, 256]) torch.Size([2, 256])\n",
      "torch.Size([2, 256]) torch.Size([2, 256])\n",
      "torch.Size([2, 256]) torch.Size([2, 256])\n",
      "torch.Size([2, 256]) torch.Size([2, 256])\n",
      "torch.Size([2, 256]) torch.Size([2, 256])\n",
      "torch.Size([2, 256]) torch.Size([2, 256])\n",
      "\n",
      "Validation loader:\n",
      "torch.Size([2, 256]) torch.Size([2, 256])\n"
     ]
    }
   ],
   "source": [
    "print(\"Train loader:\")\n",
    "for x, y in train_loader:\n",
    "    print(x.shape, y.shape)\n",
    "print(\"\\nValidation loader:\")\n",
    "for x, y in val_loader:\n",
    "    print(x.shape, y.shape)"
   ]
  },
  {
   "cell_type": "code",
   "execution_count": 175,
   "id": "225a360a-da90-48a5-83a4-3972544fb296",
   "metadata": {},
   "outputs": [],
   "source": [
    "# # Get the first batch\n",
    "# for batch in train_loader:\n",
    "#     input_data, target_data = batch  # Unpack the batch\n",
    "#     print(\"Input:\\n\", input_data)\n",
    "#     print(\"Target:\\n\", target_data)\n",
    "#     break  # Stop after the first batch\n"
   ]
  },
  {
   "cell_type": "code",
   "execution_count": 176,
   "id": "f63773a8-b1c0-4cc2-9601-a67650a868ba",
   "metadata": {},
   "outputs": [
    {
     "data": {
      "text/plain": [
       "<torch.utils.data.dataloader.DataLoader at 0x74680c2cb5c0>"
      ]
     },
     "execution_count": 176,
     "metadata": {},
     "output_type": "execute_result"
    }
   ],
   "source": [
    "val_loader"
   ]
  },
  {
   "cell_type": "code",
   "execution_count": 177,
   "id": "e6e154d1-6cea-411b-9548-3fc10713db30",
   "metadata": {},
   "outputs": [],
   "source": [
    "def calc_loss_batch(input_batch, target_batch, model, device):\n",
    "    input_batch = input_batch.to(device)\n",
    "    target_batch = target_batch.to(device)\n",
    "    logits = model(input_batch)\n",
    "    loss = torch.nn.functional.cross_entropy(\n",
    "    logits.flatten(0, 1), target_batch.flatten()\n",
    "    )\n",
    "    return loss"
   ]
  },
  {
   "cell_type": "code",
   "execution_count": 178,
   "id": "25f1c2c7-abd2-4a5c-a17e-7261eebcf0fd",
   "metadata": {},
   "outputs": [
    {
     "data": {
      "text/plain": [
       "torch.Size([6, 50257])"
      ]
     },
     "execution_count": 178,
     "metadata": {},
     "output_type": "execute_result"
    }
   ],
   "source": [
    "logits.flatten(0, 1).shape"
   ]
  },
  {
   "cell_type": "code",
   "execution_count": 179,
   "id": "105e1314-0d20-42f1-b26b-411dd8ebdae0",
   "metadata": {},
   "outputs": [],
   "source": [
    "def calc_loss_loader(data_loader, model, device, num_batches=None):\n",
    "    total_loss = 0.\n",
    "    if len(data_loader) == 0:\n",
    "        return float(\"nan\")\n",
    "    \n",
    "    elif num_batches is None:\n",
    "        num_batches = len(data_loader)\n",
    "    else:\n",
    "        num_batches = min(num_batches, len(data_loader))\n",
    "    for i, (input_batch, target_batch) in enumerate(data_loader):\n",
    "        \n",
    "        if i < num_batches:\n",
    "            loss = calc_loss_batch(\n",
    "            input_batch, target_batch, model, device\n",
    "            )\n",
    "            total_loss += loss.item()\n",
    "            \n",
    "        else:\n",
    "            break\n",
    "        return total_loss / num_batches"
   ]
  },
  {
   "cell_type": "code",
   "execution_count": 180,
   "id": "07c6f4a6-e263-43ad-a573-b2a3367c85f6",
   "metadata": {},
   "outputs": [
    {
     "name": "stdout",
     "output_type": "stream",
     "text": [
      "Training loss: 1.2197306950887044\n",
      "Validation loss: 10.98110580444336\n"
     ]
    }
   ],
   "source": [
    "device = torch.device(\"cuda\" if torch.cuda.is_available() else \"cpu\")\n",
    "device = torch.device(\"cpu\")\n",
    "\n",
    "model.to(device)\n",
    "with torch.no_grad():\n",
    "    train_loss = calc_loss_loader(train_loader, model, device)\n",
    "    val_loss = calc_loss_loader(val_loader, model, device)\n",
    "print(\"Training loss:\", train_loss)\n",
    "print(\"Validation loss:\", val_loss)"
   ]
  },
  {
   "cell_type": "code",
   "execution_count": 181,
   "id": "d5f978d0-1418-4099-aa9d-891f0160a87f",
   "metadata": {},
   "outputs": [],
   "source": [
    "def train_model_simple(model, train_loader, val_loader,\n",
    "                        optimizer, device, num_epochs,\n",
    "                            eval_freq, eval_iter, start_context, tokenizer):\n",
    "    \n",
    "    train_losses, val_losses, track_tokens_seen = [], [], []\n",
    "    tokens_seen, global_step = 0, -1\n",
    "   \n",
    "    for epoch in range(num_epochs):\n",
    "        model.train()\n",
    "        for input_batch, target_batch in train_loader:\n",
    "            optimizer.zero_grad()\n",
    "            loss = calc_loss_batch(input_batch, target_batch, model, device)\n",
    "            loss.backward()\n",
    "            optimizer.step()\n",
    "            tokens_seen += input_batch.numel()\n",
    "            global_step += 1\n",
    "            if global_step % eval_freq == 0:\n",
    "                train_loss, val_loss = evaluate_model(model, train_loader, val_loader, device, eval_iter)\n",
    "                train_losses.append(train_loss)\n",
    "                val_losses.append(val_loss)\n",
    "                track_tokens_seen.append(tokens_seen)\n",
    "                print(f\"Ep {epoch+1} (Step {global_step:06d}): \"\n",
    "                    f\"Train loss {train_loss:.3f}, \"\n",
    "                    f\"Val loss {val_loss:.3f}\"\n",
    "                )\n",
    "        generate_and_print_sample(model, tokenizer, device, start_context)\n",
    "    return train_losses, val_losses, track_tokens_seen"
   ]
  },
  {
   "cell_type": "code",
   "execution_count": 182,
   "id": "06ef0f50-903f-4917-88b0-6a5170dbb534",
   "metadata": {},
   "outputs": [],
   "source": [
    "def evaluate_model(model, train_loader, val_loader, device, eval_iter):\n",
    "    model.eval()\n",
    "    with torch.no_grad():\n",
    "        train_loss = calc_loss_loader(\n",
    "        train_loader, model, device, num_batches=eval_iter\n",
    "        )\n",
    "        val_loss = calc_loss_loader(\n",
    "        val_loader, model, device, num_batches=eval_iter\n",
    "        )\n",
    "        model.train()\n",
    "    return train_loss, val_loss"
   ]
  },
  {
   "cell_type": "code",
   "execution_count": 183,
   "id": "cff0b263-fb21-4a19-839a-3cd7730973d5",
   "metadata": {},
   "outputs": [],
   "source": [
    "def generate_and_print_sample(model, tokenizer, device, start_context):\n",
    "    model.eval()\n",
    "    context_size = model.pos_emb.weight.shape[0]\n",
    "    encoded = text_to_token_ids(start_context, tokenizer).to(device)\n",
    "    with torch.no_grad():\n",
    "        token_ids = generate_text_simple(\n",
    "        model=model, idx=encoded,\n",
    "        max_new_tokens=50, context_size=context_size\n",
    "        )\n",
    "    decoded_text = token_ids_to_text(token_ids, tokenizer)\n",
    "    print(decoded_text.replace(\"\\n\", \" \"))\n",
    "    model.train()"
   ]
  },
  {
   "cell_type": "code",
   "execution_count": 184,
   "id": "d488a739-52f0-465c-b894-5726e5026edc",
   "metadata": {},
   "outputs": [
    {
     "name": "stdout",
     "output_type": "stream",
     "text": [
      "Ep 1 (Step 000000): Train loss 1.966, Val loss 9.927\n",
      "Ep 1 (Step 000005): Train loss 1.627, Val loss 8.335\n",
      "tensor([[6109, 3626, 6100,  345]])\n",
      "tensor([[6109, 3626, 6100,  345,   11]])\n",
      "tensor([[6109, 3626, 6100,  345,   11,   11]])\n",
      "tensor([[6109, 3626, 6100,  345,   11,   11,   11]])\n",
      "tensor([[6109, 3626, 6100,  345,   11,   11,   11,   11]])\n",
      "tensor([[6109, 3626, 6100,  345,   11,   11,   11,   11,   11]])\n",
      "tensor([[6109, 3626, 6100,  345,   11,   11,   11,   11,   11,   11]])\n",
      "tensor([[6109, 3626, 6100,  345,   11,   11,   11,   11,   11,   11,   11]])\n",
      "tensor([[6109, 3626, 6100,  345,   11,   11,   11,   11,   11,   11,   11,   11]])\n",
      "tensor([[6109, 3626, 6100,  345,   11,   11,   11,   11,   11,   11,   11,   11,\n",
      "           11]])\n",
      "tensor([[6109, 3626, 6100,  345,   11,   11,   11,   11,   11,   11,   11,   11,\n",
      "           11,   11]])\n",
      "tensor([[6109, 3626, 6100,  345,   11,   11,   11,   11,   11,   11,   11,   11,\n",
      "           11,   11,   11]])\n",
      "tensor([[6109, 3626, 6100,  345,   11,   11,   11,   11,   11,   11,   11,   11,\n",
      "           11,   11,   11,   11]])\n",
      "tensor([[6109, 3626, 6100,  345,   11,   11,   11,   11,   11,   11,   11,   11,\n",
      "           11,   11,   11,   11,   13]])\n",
      "tensor([[6109, 3626, 6100,  345,   11,   11,   11,   11,   11,   11,   11,   11,\n",
      "           11,   11,   11,   11,   13,  198]])\n",
      "tensor([[6109, 3626, 6100,  345,   11,   11,   11,   11,   11,   11,   11,   11,\n",
      "           11,   11,   11,   11,   13,  198,  198]])\n",
      "tensor([[6109, 3626, 6100,  345,   11,   11,   11,   11,   11,   11,   11,   11,\n",
      "           11,   11,   11,   11,   13,  198,  198,  198]])\n",
      "tensor([[6109, 3626, 6100,  345,   11,   11,   11,   11,   11,   11,   11,   11,\n",
      "           11,   11,   11,   11,   13,  198,  198,  198,  198]])\n",
      "tensor([[6109, 3626, 6100,  345,   11,   11,   11,   11,   11,   11,   11,   11,\n",
      "           11,   11,   11,   11,   13,  198,  198,  198,  198,  198]])\n",
      "tensor([[6109, 3626, 6100,  345,   11,   11,   11,   11,   11,   11,   11,   11,\n",
      "           11,   11,   11,   11,   13,  198,  198,  198,  198,  198,  198]])\n",
      "tensor([[6109, 3626, 6100,  345,   11,   11,   11,   11,   11,   11,   11,   11,\n",
      "           11,   11,   11,   11,   13,  198,  198,  198,  198,  198,  198,  198]])\n",
      "tensor([[6109, 3626, 6100,  345,   11,   11,   11,   11,   11,   11,   11,   11,\n",
      "           11,   11,   11,   11,   13,  198,  198,  198,  198,  198,  198,  198,\n",
      "          198]])\n",
      "tensor([[6109, 3626, 6100,  345,   11,   11,   11,   11,   11,   11,   11,   11,\n",
      "           11,   11,   11,   11,   13,  198,  198,  198,  198,  198,  198,  198,\n",
      "          198,  198]])\n",
      "tensor([[6109, 3626, 6100,  345,   11,   11,   11,   11,   11,   11,   11,   11,\n",
      "           11,   11,   11,   11,   13,  198,  198,  198,  198,  198,  198,  198,\n",
      "          198,  198,  198]])\n",
      "tensor([[6109, 3626, 6100,  345,   11,   11,   11,   11,   11,   11,   11,   11,\n",
      "           11,   11,   11,   11,   13,  198,  198,  198,  198,  198,  198,  198,\n",
      "          198,  198,  198,  198]])\n",
      "tensor([[6109, 3626, 6100,  345,   11,   11,   11,   11,   11,   11,   11,   11,\n",
      "           11,   11,   11,   11,   13,  198,  198,  198,  198,  198,  198,  198,\n",
      "          198,  198,  198,  198,  198]])\n",
      "tensor([[6109, 3626, 6100,  345,   11,   11,   11,   11,   11,   11,   11,   11,\n",
      "           11,   11,   11,   11,   13,  198,  198,  198,  198,  198,  198,  198,\n",
      "          198,  198,  198,  198,  198,  198]])\n",
      "tensor([[6109, 3626, 6100,  345,   11,   11,   11,   11,   11,   11,   11,   11,\n",
      "           11,   11,   11,   11,   13,  198,  198,  198,  198,  198,  198,  198,\n",
      "          198,  198,  198,  198,  198,  198,  198]])\n",
      "tensor([[6109, 3626, 6100,  345,   11,   11,   11,   11,   11,   11,   11,   11,\n",
      "           11,   11,   11,   11,   13,  198,  198,  198,  198,  198,  198,  198,\n",
      "          198,  198,  198,  198,  198,  198,  198,  198]])\n",
      "tensor([[6109, 3626, 6100,  345,   11,   11,   11,   11,   11,   11,   11,   11,\n",
      "           11,   11,   11,   11,   13,  198,  198,  198,  198,  198,  198,  198,\n",
      "          198,  198,  198,  198,  198,  198,  198,  198,  198]])\n",
      "tensor([[6109, 3626, 6100,  345,   11,   11,   11,   11,   11,   11,   11,   11,\n",
      "           11,   11,   11,   11,   13,  198,  198,  198,  198,  198,  198,  198,\n",
      "          198,  198,  198,  198,  198,  198,  198,  198,  198,  198]])\n",
      "tensor([[6109, 3626, 6100,  345,   11,   11,   11,   11,   11,   11,   11,   11,\n",
      "           11,   11,   11,   11,   13,  198,  198,  198,  198,  198,  198,  198,\n",
      "          198,  198,  198,  198,  198,  198,  198,  198,  198,  198,  198]])\n",
      "tensor([[6109, 3626, 6100,  345,   11,   11,   11,   11,   11,   11,   11,   11,\n",
      "           11,   11,   11,   11,   13,  198,  198,  198,  198,  198,  198,  198,\n",
      "          198,  198,  198,  198,  198,  198,  198,  198,  198,  198,  198,  198]])\n",
      "tensor([[6109, 3626, 6100,  345,   11,   11,   11,   11,   11,   11,   11,   11,\n",
      "           11,   11,   11,   11,   13,  198,  198,  198,  198,  198,  198,  198,\n",
      "          198,  198,  198,  198,  198,  198,  198,  198,  198,  198,  198,  198,\n",
      "          198]])\n",
      "tensor([[6109, 3626, 6100,  345,   11,   11,   11,   11,   11,   11,   11,   11,\n",
      "           11,   11,   11,   11,   13,  198,  198,  198,  198,  198,  198,  198,\n",
      "          198,  198,  198,  198,  198,  198,  198,  198,  198,  198,  198,  198,\n",
      "          198,  198]])\n",
      "tensor([[6109, 3626, 6100,  345,   11,   11,   11,   11,   11,   11,   11,   11,\n",
      "           11,   11,   11,   11,   13,  198,  198,  198,  198,  198,  198,  198,\n",
      "          198,  198,  198,  198,  198,  198,  198,  198,  198,  198,  198,  198,\n",
      "          198,  198,  198]])\n",
      "tensor([[6109, 3626, 6100,  345,   11,   11,   11,   11,   11,   11,   11,   11,\n",
      "           11,   11,   11,   11,   13,  198,  198,  198,  198,  198,  198,  198,\n",
      "          198,  198,  198,  198,  198,  198,  198,  198,  198,  198,  198,  198,\n",
      "          198,  198,  198,  198]])\n",
      "tensor([[6109, 3626, 6100,  345,   11,   11,   11,   11,   11,   11,   11,   11,\n",
      "           11,   11,   11,   11,   13,  198,  198,  198,  198,  198,  198,  198,\n",
      "          198,  198,  198,  198,  198,  198,  198,  198,  198,  198,  198,  198,\n",
      "          198,  198,  198,  198,  198]])\n",
      "tensor([[6109, 3626, 6100,  345,   11,   11,   11,   11,   11,   11,   11,   11,\n",
      "           11,   11,   11,   11,   13,  198,  198,  198,  198,  198,  198,  198,\n",
      "          198,  198,  198,  198,  198,  198,  198,  198,  198,  198,  198,  198,\n",
      "          198,  198,  198,  198,  198,  198]])\n",
      "tensor([[6109, 3626, 6100,  345,   11,   11,   11,   11,   11,   11,   11,   11,\n",
      "           11,   11,   11,   11,   13,  198,  198,  198,  198,  198,  198,  198,\n",
      "          198,  198,  198,  198,  198,  198,  198,  198,  198,  198,  198,  198,\n",
      "          198,  198,  198,  198,  198,  198,  198]])\n",
      "tensor([[6109, 3626, 6100,  345,   11,   11,   11,   11,   11,   11,   11,   11,\n",
      "           11,   11,   11,   11,   13,  198,  198,  198,  198,  198,  198,  198,\n",
      "          198,  198,  198,  198,  198,  198,  198,  198,  198,  198,  198,  198,\n",
      "          198,  198,  198,  198,  198,  198,  198,  198]])\n",
      "tensor([[6109, 3626, 6100,  345,   11,   11,   11,   11,   11,   11,   11,   11,\n",
      "           11,   11,   11,   11,   13,  198,  198,  198,  198,  198,  198,  198,\n",
      "          198,  198,  198,  198,  198,  198,  198,  198,  198,  198,  198,  198,\n",
      "          198,  198,  198,  198,  198,  198,  198,  198,  198]])\n",
      "tensor([[6109, 3626, 6100,  345,   11,   11,   11,   11,   11,   11,   11,   11,\n",
      "           11,   11,   11,   11,   13,  198,  198,  198,  198,  198,  198,  198,\n",
      "          198,  198,  198,  198,  198,  198,  198,  198,  198,  198,  198,  198,\n",
      "          198,  198,  198,  198,  198,  198,  198,  198,  198,  198]])\n",
      "tensor([[6109, 3626, 6100,  345,   11,   11,   11,   11,   11,   11,   11,   11,\n",
      "           11,   11,   11,   11,   13,  198,  198,  198,  198,  198,  198,  198,\n",
      "          198,  198,  198,  198,  198,  198,  198,  198,  198,  198,  198,  198,\n",
      "          198,  198,  198,  198,  198,  198,  198,  198,  198,  198,  198]])\n",
      "tensor([[6109, 3626, 6100,  345,   11,   11,   11,   11,   11,   11,   11,   11,\n",
      "           11,   11,   11,   11,   13,  198,  198,  198,  198,  198,  198,  198,\n",
      "          198,  198,  198,  198,  198,  198,  198,  198,  198,  198,  198,  198,\n",
      "          198,  198,  198,  198,  198,  198,  198,  198,  198,  198,  198,  198]])\n",
      "tensor([[6109, 3626, 6100,  345,   11,   11,   11,   11,   11,   11,   11,   11,\n",
      "           11,   11,   11,   11,   13,  198,  198,  198,  198,  198,  198,  198,\n",
      "          198,  198,  198,  198,  198,  198,  198,  198,  198,  198,  198,  198,\n",
      "          198,  198,  198,  198,  198,  198,  198,  198,  198,  198,  198,  198,\n",
      "          198]])\n",
      "tensor([[6109, 3626, 6100,  345,   11,   11,   11,   11,   11,   11,   11,   11,\n",
      "           11,   11,   11,   11,   13,  198,  198,  198,  198,  198,  198,  198,\n",
      "          198,  198,  198,  198,  198,  198,  198,  198,  198,  198,  198,  198,\n",
      "          198,  198,  198,  198,  198,  198,  198,  198,  198,  198,  198,  198,\n",
      "          198,  198]])\n",
      "tensor([[6109, 3626, 6100,  345,   11,   11,   11,   11,   11,   11,   11,   11,\n",
      "           11,   11,   11,   11,   13,  198,  198,  198,  198,  198,  198,  198,\n",
      "          198,  198,  198,  198,  198,  198,  198,  198,  198,  198,  198,  198,\n",
      "          198,  198,  198,  198,  198,  198,  198,  198,  198,  198,  198,  198,\n",
      "          198,  198,  198]])\n",
      "tensor([[6109, 3626, 6100,  345,   11,   11,   11,   11,   11,   11,   11,   11,\n",
      "           11,   11,   11,   11,   13,  198,  198,  198,  198,  198,  198,  198,\n",
      "          198,  198,  198,  198,  198,  198,  198,  198,  198,  198,  198,  198,\n",
      "          198,  198,  198,  198,  198,  198,  198,  198,  198,  198,  198,  198,\n",
      "          198,  198,  198,  198]])\n",
      "tensor([[6109, 3626, 6100,  345,   11,   11,   11,   11,   11,   11,   11,   11,\n",
      "           11,   11,   11,   11,   13,  198,  198,  198,  198,  198,  198,  198,\n",
      "          198,  198,  198,  198,  198,  198,  198,  198,  198,  198,  198,  198,\n",
      "          198,  198,  198,  198,  198,  198,  198,  198,  198,  198,  198,  198,\n",
      "          198,  198,  198,  198,  198]])\n",
      "Every effort moves you,,,,,,,,,,,,.                                     \n",
      "Ep 2 (Step 000010): Train loss 1.354, Val loss 7.048\n",
      "Ep 2 (Step 000015): Train loss 1.299, Val loss 6.573\n",
      "tensor([[6109, 3626, 6100,  345]])\n",
      "tensor([[6109, 3626, 6100,  345,   11]])\n",
      "tensor([[6109, 3626, 6100,  345,   11,  290]])\n",
      "tensor([[6109, 3626, 6100,  345,   11,  290,   11]])\n",
      "tensor([[6109, 3626, 6100,  345,   11,  290,   11,   11]])\n",
      "tensor([[6109, 3626, 6100,  345,   11,  290,   11,   11,  290]])\n",
      "tensor([[6109, 3626, 6100,  345,   11,  290,   11,   11,  290,   11]])\n",
      "tensor([[6109, 3626, 6100,  345,   11,  290,   11,   11,  290,   11,  290]])\n",
      "tensor([[6109, 3626, 6100,  345,   11,  290,   11,   11,  290,   11,  290,   11]])\n",
      "tensor([[6109, 3626, 6100,  345,   11,  290,   11,   11,  290,   11,  290,   11,\n",
      "           11]])\n",
      "tensor([[6109, 3626, 6100,  345,   11,  290,   11,   11,  290,   11,  290,   11,\n",
      "           11,   11]])\n",
      "tensor([[6109, 3626, 6100,  345,   11,  290,   11,   11,  290,   11,  290,   11,\n",
      "           11,   11,   11]])\n",
      "tensor([[6109, 3626, 6100,  345,   11,  290,   11,   11,  290,   11,  290,   11,\n",
      "           11,   11,   11,   11]])\n",
      "tensor([[6109, 3626, 6100,  345,   11,  290,   11,   11,  290,   11,  290,   11,\n",
      "           11,   11,   11,   11,  290]])\n",
      "tensor([[6109, 3626, 6100,  345,   11,  290,   11,   11,  290,   11,  290,   11,\n",
      "           11,   11,   11,   11,  290,   11]])\n",
      "tensor([[6109, 3626, 6100,  345,   11,  290,   11,   11,  290,   11,  290,   11,\n",
      "           11,   11,   11,   11,  290,   11,  290]])\n",
      "tensor([[6109, 3626, 6100,  345,   11,  290,   11,   11,  290,   11,  290,   11,\n",
      "           11,   11,   11,   11,  290,   11,  290,   11]])\n",
      "tensor([[6109, 3626, 6100,  345,   11,  290,   11,   11,  290,   11,  290,   11,\n",
      "           11,   11,   11,   11,  290,   11,  290,   11,   11]])\n",
      "tensor([[6109, 3626, 6100,  345,   11,  290,   11,   11,  290,   11,  290,   11,\n",
      "           11,   11,   11,   11,  290,   11,  290,   11,   11,   11]])\n",
      "tensor([[6109, 3626, 6100,  345,   11,  290,   11,   11,  290,   11,  290,   11,\n",
      "           11,   11,   11,   11,  290,   11,  290,   11,   11,   11,   11]])\n",
      "tensor([[6109, 3626, 6100,  345,   11,  290,   11,   11,  290,   11,  290,   11,\n",
      "           11,   11,   11,   11,  290,   11,  290,   11,   11,   11,   11,   11]])\n",
      "tensor([[6109, 3626, 6100,  345,   11,  290,   11,   11,  290,   11,  290,   11,\n",
      "           11,   11,   11,   11,  290,   11,  290,   11,   11,   11,   11,   11,\n",
      "           11]])\n",
      "tensor([[6109, 3626, 6100,  345,   11,  290,   11,   11,  290,   11,  290,   11,\n",
      "           11,   11,   11,   11,  290,   11,  290,   11,   11,   11,   11,   11,\n",
      "           11,   11]])\n",
      "tensor([[6109, 3626, 6100,  345,   11,  290,   11,   11,  290,   11,  290,   11,\n",
      "           11,   11,   11,   11,  290,   11,  290,   11,   11,   11,   11,   11,\n",
      "           11,   11,   11]])\n",
      "tensor([[6109, 3626, 6100,  345,   11,  290,   11,   11,  290,   11,  290,   11,\n",
      "           11,   11,   11,   11,  290,   11,  290,   11,   11,   11,   11,   11,\n",
      "           11,   11,   11,   11]])\n",
      "tensor([[6109, 3626, 6100,  345,   11,  290,   11,   11,  290,   11,  290,   11,\n",
      "           11,   11,   11,   11,  290,   11,  290,   11,   11,   11,   11,   11,\n",
      "           11,   11,   11,   11,   11]])\n",
      "tensor([[6109, 3626, 6100,  345,   11,  290,   11,   11,  290,   11,  290,   11,\n",
      "           11,   11,   11,   11,  290,   11,  290,   11,   11,   11,   11,   11,\n",
      "           11,   11,   11,   11,   11,   11]])\n",
      "tensor([[6109, 3626, 6100,  345,   11,  290,   11,   11,  290,   11,  290,   11,\n",
      "           11,   11,   11,   11,  290,   11,  290,   11,   11,   11,   11,   11,\n",
      "           11,   11,   11,   11,   11,   11,   11]])\n",
      "tensor([[6109, 3626, 6100,  345,   11,  290,   11,   11,  290,   11,  290,   11,\n",
      "           11,   11,   11,   11,  290,   11,  290,   11,   11,   11,   11,   11,\n",
      "           11,   11,   11,   11,   11,   11,   11,   11]])\n",
      "tensor([[6109, 3626, 6100,  345,   11,  290,   11,   11,  290,   11,  290,   11,\n",
      "           11,   11,   11,   11,  290,   11,  290,   11,   11,   11,   11,   11,\n",
      "           11,   11,   11,   11,   11,   11,   11,   11,   11]])\n",
      "tensor([[6109, 3626, 6100,  345,   11,  290,   11,   11,  290,   11,  290,   11,\n",
      "           11,   11,   11,   11,  290,   11,  290,   11,   11,   11,   11,   11,\n",
      "           11,   11,   11,   11,   11,   11,   11,   11,   11,  290]])\n",
      "tensor([[6109, 3626, 6100,  345,   11,  290,   11,   11,  290,   11,  290,   11,\n",
      "           11,   11,   11,   11,  290,   11,  290,   11,   11,   11,   11,   11,\n",
      "           11,   11,   11,   11,   11,   11,   11,   11,   11,  290,   11]])\n",
      "tensor([[6109, 3626, 6100,  345,   11,  290,   11,   11,  290,   11,  290,   11,\n",
      "           11,   11,   11,   11,  290,   11,  290,   11,   11,   11,   11,   11,\n",
      "           11,   11,   11,   11,   11,   11,   11,   11,   11,  290,   11,   11]])\n",
      "tensor([[6109, 3626, 6100,  345,   11,  290,   11,   11,  290,   11,  290,   11,\n",
      "           11,   11,   11,   11,  290,   11,  290,   11,   11,   11,   11,   11,\n",
      "           11,   11,   11,   11,   11,   11,   11,   11,   11,  290,   11,   11,\n",
      "           11]])\n",
      "tensor([[6109, 3626, 6100,  345,   11,  290,   11,   11,  290,   11,  290,   11,\n",
      "           11,   11,   11,   11,  290,   11,  290,   11,   11,   11,   11,   11,\n",
      "           11,   11,   11,   11,   11,   11,   11,   11,   11,  290,   11,   11,\n",
      "           11,   11]])\n",
      "tensor([[6109, 3626, 6100,  345,   11,  290,   11,   11,  290,   11,  290,   11,\n",
      "           11,   11,   11,   11,  290,   11,  290,   11,   11,   11,   11,   11,\n",
      "           11,   11,   11,   11,   11,   11,   11,   11,   11,  290,   11,   11,\n",
      "           11,   11,  290]])\n",
      "tensor([[6109, 3626, 6100,  345,   11,  290,   11,   11,  290,   11,  290,   11,\n",
      "           11,   11,   11,   11,  290,   11,  290,   11,   11,   11,   11,   11,\n",
      "           11,   11,   11,   11,   11,   11,   11,   11,   11,  290,   11,   11,\n",
      "           11,   11,  290,   11]])\n",
      "tensor([[6109, 3626, 6100,  345,   11,  290,   11,   11,  290,   11,  290,   11,\n",
      "           11,   11,   11,   11,  290,   11,  290,   11,   11,   11,   11,   11,\n",
      "           11,   11,   11,   11,   11,   11,   11,   11,   11,  290,   11,   11,\n",
      "           11,   11,  290,   11,   11]])\n",
      "tensor([[6109, 3626, 6100,  345,   11,  290,   11,   11,  290,   11,  290,   11,\n",
      "           11,   11,   11,   11,  290,   11,  290,   11,   11,   11,   11,   11,\n",
      "           11,   11,   11,   11,   11,   11,   11,   11,   11,  290,   11,   11,\n",
      "           11,   11,  290,   11,   11,  290]])\n",
      "tensor([[6109, 3626, 6100,  345,   11,  290,   11,   11,  290,   11,  290,   11,\n",
      "           11,   11,   11,   11,  290,   11,  290,   11,   11,   11,   11,   11,\n",
      "           11,   11,   11,   11,   11,   11,   11,   11,   11,  290,   11,   11,\n",
      "           11,   11,  290,   11,   11,  290,   11]])\n",
      "tensor([[6109, 3626, 6100,  345,   11,  290,   11,   11,  290,   11,  290,   11,\n",
      "           11,   11,   11,   11,  290,   11,  290,   11,   11,   11,   11,   11,\n",
      "           11,   11,   11,   11,   11,   11,   11,   11,   11,  290,   11,   11,\n",
      "           11,   11,  290,   11,   11,  290,   11,   11]])\n",
      "tensor([[6109, 3626, 6100,  345,   11,  290,   11,   11,  290,   11,  290,   11,\n",
      "           11,   11,   11,   11,  290,   11,  290,   11,   11,   11,   11,   11,\n",
      "           11,   11,   11,   11,   11,   11,   11,   11,   11,  290,   11,   11,\n",
      "           11,   11,  290,   11,   11,  290,   11,   11,   11]])\n",
      "tensor([[6109, 3626, 6100,  345,   11,  290,   11,   11,  290,   11,  290,   11,\n",
      "           11,   11,   11,   11,  290,   11,  290,   11,   11,   11,   11,   11,\n",
      "           11,   11,   11,   11,   11,   11,   11,   11,   11,  290,   11,   11,\n",
      "           11,   11,  290,   11,   11,  290,   11,   11,   11,   11]])\n",
      "tensor([[6109, 3626, 6100,  345,   11,  290,   11,   11,  290,   11,  290,   11,\n",
      "           11,   11,   11,   11,  290,   11,  290,   11,   11,   11,   11,   11,\n",
      "           11,   11,   11,   11,   11,   11,   11,   11,   11,  290,   11,   11,\n",
      "           11,   11,  290,   11,   11,  290,   11,   11,   11,   11,   11]])\n",
      "tensor([[6109, 3626, 6100,  345,   11,  290,   11,   11,  290,   11,  290,   11,\n",
      "           11,   11,   11,   11,  290,   11,  290,   11,   11,   11,   11,   11,\n",
      "           11,   11,   11,   11,   11,   11,   11,   11,   11,  290,   11,   11,\n",
      "           11,   11,  290,   11,   11,  290,   11,   11,   11,   11,   11,  290]])\n",
      "tensor([[6109, 3626, 6100,  345,   11,  290,   11,   11,  290,   11,  290,   11,\n",
      "           11,   11,   11,   11,  290,   11,  290,   11,   11,   11,   11,   11,\n",
      "           11,   11,   11,   11,   11,   11,   11,   11,   11,  290,   11,   11,\n",
      "           11,   11,  290,   11,   11,  290,   11,   11,   11,   11,   11,  290,\n",
      "           11]])\n",
      "tensor([[6109, 3626, 6100,  345,   11,  290,   11,   11,  290,   11,  290,   11,\n",
      "           11,   11,   11,   11,  290,   11,  290,   11,   11,   11,   11,   11,\n",
      "           11,   11,   11,   11,   11,   11,   11,   11,   11,  290,   11,   11,\n",
      "           11,   11,  290,   11,   11,  290,   11,   11,   11,   11,   11,  290,\n",
      "           11,   11]])\n",
      "tensor([[6109, 3626, 6100,  345,   11,  290,   11,   11,  290,   11,  290,   11,\n",
      "           11,   11,   11,   11,  290,   11,  290,   11,   11,   11,   11,   11,\n",
      "           11,   11,   11,   11,   11,   11,   11,   11,   11,  290,   11,   11,\n",
      "           11,   11,  290,   11,   11,  290,   11,   11,   11,   11,   11,  290,\n",
      "           11,   11,   11]])\n",
      "tensor([[6109, 3626, 6100,  345,   11,  290,   11,   11,  290,   11,  290,   11,\n",
      "           11,   11,   11,   11,  290,   11,  290,   11,   11,   11,   11,   11,\n",
      "           11,   11,   11,   11,   11,   11,   11,   11,   11,  290,   11,   11,\n",
      "           11,   11,  290,   11,   11,  290,   11,   11,   11,   11,   11,  290,\n",
      "           11,   11,   11,   11]])\n",
      "tensor([[6109, 3626, 6100,  345,   11,  290,   11,   11,  290,   11,  290,   11,\n",
      "           11,   11,   11,   11,  290,   11,  290,   11,   11,   11,   11,   11,\n",
      "           11,   11,   11,   11,   11,   11,   11,   11,   11,  290,   11,   11,\n",
      "           11,   11,  290,   11,   11,  290,   11,   11,   11,   11,   11,  290,\n",
      "           11,   11,   11,   11,   11]])\n",
      "Every effort moves you, and,, and, and,,,,, and, and,,,,,,,,,,,,,, and,,,, and,, and,,,,, and,,,,,,\n",
      "Ep 3 (Step 000020): Train loss 1.116, Val loss 6.490\n",
      "Ep 3 (Step 000025): Train loss 0.946, Val loss 6.387\n",
      "tensor([[6109, 3626, 6100,  345]])\n",
      "tensor([[6109, 3626, 6100,  345,   11]])\n",
      "tensor([[6109, 3626, 6100,  345,   11,  290]])\n",
      "tensor([[6109, 3626, 6100,  345,   11,  290,  284]])\n",
      "tensor([[6109, 3626, 6100,  345,   11,  290,  284,  262]])\n",
      "tensor([[6109, 3626, 6100,  345,   11,  290,  284,  262, 4286]])\n",
      "tensor([[6109, 3626, 6100,  345,   11,  290,  284,  262, 4286,   13]])\n",
      "tensor([[6109, 3626, 6100,  345,   11,  290,  284,  262, 4286,   13,  198]])\n",
      "tensor([[6109, 3626, 6100,  345,   11,  290,  284,  262, 4286,   13,  198,  198]])\n",
      "tensor([[6109, 3626, 6100,  345,   11,  290,  284,  262, 4286,   13,  198,  198,\n",
      "          198]])\n",
      "tensor([[6109, 3626, 6100,  345,   11,  290,  284,  262, 4286,   13,  198,  198,\n",
      "          198,  198]])\n",
      "tensor([[6109, 3626, 6100,  345,   11,  290,  284,  262, 4286,   13,  198,  198,\n",
      "          198,  198,  198]])\n",
      "tensor([[6109, 3626, 6100,  345,   11,  290,  284,  262, 4286,   13,  198,  198,\n",
      "          198,  198,  198,  198]])\n",
      "tensor([[6109, 3626, 6100,  345,   11,  290,  284,  262, 4286,   13,  198,  198,\n",
      "          198,  198,  198,  198,  198]])\n",
      "tensor([[6109, 3626, 6100,  345,   11,  290,  284,  262, 4286,   13,  198,  198,\n",
      "          198,  198,  198,  198,  198,  198]])\n",
      "tensor([[6109, 3626, 6100,  345,   11,  290,  284,  262, 4286,   13,  198,  198,\n",
      "          198,  198,  198,  198,  198,  198,  198]])\n",
      "tensor([[6109, 3626, 6100,  345,   11,  290,  284,  262, 4286,   13,  198,  198,\n",
      "          198,  198,  198,  198,  198,  198,  198,  198]])\n",
      "tensor([[6109, 3626, 6100,  345,   11,  290,  284,  262, 4286,   13,  198,  198,\n",
      "          198,  198,  198,  198,  198,  198,  198,  198,  198]])\n",
      "tensor([[6109, 3626, 6100,  345,   11,  290,  284,  262, 4286,   13,  198,  198,\n",
      "          198,  198,  198,  198,  198,  198,  198,  198,  198,  198]])\n",
      "tensor([[6109, 3626, 6100,  345,   11,  290,  284,  262, 4286,   13,  198,  198,\n",
      "          198,  198,  198,  198,  198,  198,  198,  198,  198,  198,  198]])\n",
      "tensor([[6109, 3626, 6100,  345,   11,  290,  284,  262, 4286,   13,  198,  198,\n",
      "          198,  198,  198,  198,  198,  198,  198,  198,  198,  198,  198,  198]])\n",
      "tensor([[6109, 3626, 6100,  345,   11,  290,  284,  262, 4286,   13,  198,  198,\n",
      "          198,  198,  198,  198,  198,  198,  198,  198,  198,  198,  198,  198,\n",
      "          198]])\n",
      "tensor([[6109, 3626, 6100,  345,   11,  290,  284,  262, 4286,   13,  198,  198,\n",
      "          198,  198,  198,  198,  198,  198,  198,  198,  198,  198,  198,  198,\n",
      "          198,  198]])\n",
      "tensor([[6109, 3626, 6100,  345,   11,  290,  284,  262, 4286,   13,  198,  198,\n",
      "          198,  198,  198,  198,  198,  198,  198,  198,  198,  198,  198,  198,\n",
      "          198,  198,  198]])\n",
      "tensor([[6109, 3626, 6100,  345,   11,  290,  284,  262, 4286,   13,  198,  198,\n",
      "          198,  198,  198,  198,  198,  198,  198,  198,  198,  198,  198,  198,\n",
      "          198,  198,  198,  198]])\n",
      "tensor([[6109, 3626, 6100,  345,   11,  290,  284,  262, 4286,   13,  198,  198,\n",
      "          198,  198,  198,  198,  198,  198,  198,  198,  198,  198,  198,  198,\n",
      "          198,  198,  198,  198,  198]])\n",
      "tensor([[6109, 3626, 6100,  345,   11,  290,  284,  262, 4286,   13,  198,  198,\n",
      "          198,  198,  198,  198,  198,  198,  198,  198,  198,  198,  198,  198,\n",
      "          198,  198,  198,  198,  198,  198]])\n",
      "tensor([[6109, 3626, 6100,  345,   11,  290,  284,  262, 4286,   13,  198,  198,\n",
      "          198,  198,  198,  198,  198,  198,  198,  198,  198,  198,  198,  198,\n",
      "          198,  198,  198,  198,  198,  198,  198]])\n",
      "tensor([[6109, 3626, 6100,  345,   11,  290,  284,  262, 4286,   13,  198,  198,\n",
      "          198,  198,  198,  198,  198,  198,  198,  198,  198,  198,  198,  198,\n",
      "          198,  198,  198,  198,  198,  198,  198,  198]])\n",
      "tensor([[6109, 3626, 6100,  345,   11,  290,  284,  262, 4286,   13,  198,  198,\n",
      "          198,  198,  198,  198,  198,  198,  198,  198,  198,  198,  198,  198,\n",
      "          198,  198,  198,  198,  198,  198,  198,  198,    1]])\n",
      "tensor([[6109, 3626, 6100,  345,   11,  290,  284,  262, 4286,   13,  198,  198,\n",
      "          198,  198,  198,  198,  198,  198,  198,  198,  198,  198,  198,  198,\n",
      "          198,  198,  198,  198,  198,  198,  198,  198,    1,   40]])\n",
      "tensor([[6109, 3626, 6100,  345,   11,  290,  284,  262, 4286,   13,  198,  198,\n",
      "          198,  198,  198,  198,  198,  198,  198,  198,  198,  198,  198,  198,\n",
      "          198,  198,  198,  198,  198,  198,  198,  198,    1,   40,   11]])\n",
      "tensor([[6109, 3626, 6100,  345,   11,  290,  284,  262, 4286,   13,  198,  198,\n",
      "          198,  198,  198,  198,  198,  198,  198,  198,  198,  198,  198,  198,\n",
      "          198,  198,  198,  198,  198,  198,  198,  198,    1,   40,   11,  290]])\n",
      "tensor([[6109, 3626, 6100,  345,   11,  290,  284,  262, 4286,   13,  198,  198,\n",
      "          198,  198,  198,  198,  198,  198,  198,  198,  198,  198,  198,  198,\n",
      "          198,  198,  198,  198,  198,  198,  198,  198,    1,   40,   11,  290,\n",
      "          262]])\n",
      "tensor([[6109, 3626, 6100,  345,   11,  290,  284,  262, 4286,   13,  198,  198,\n",
      "          198,  198,  198,  198,  198,  198,  198,  198,  198,  198,  198,  198,\n",
      "          198,  198,  198,  198,  198,  198,  198,  198,    1,   40,   11,  290,\n",
      "          262,  286]])\n",
      "tensor([[6109, 3626, 6100,  345,   11,  290,  284,  262, 4286,   13,  198,  198,\n",
      "          198,  198,  198,  198,  198,  198,  198,  198,  198,  198,  198,  198,\n",
      "          198,  198,  198,  198,  198,  198,  198,  198,    1,   40,   11,  290,\n",
      "          262,  286,  262]])\n",
      "tensor([[6109, 3626, 6100,  345,   11,  290,  284,  262, 4286,   13,  198,  198,\n",
      "          198,  198,  198,  198,  198,  198,  198,  198,  198,  198,  198,  198,\n",
      "          198,  198,  198,  198,  198,  198,  198,  198,    1,   40,   11,  290,\n",
      "          262,  286,  262,  286]])\n",
      "tensor([[6109, 3626, 6100,  345,   11,  290,  284,  262, 4286,   13,  198,  198,\n",
      "          198,  198,  198,  198,  198,  198,  198,  198,  198,  198,  198,  198,\n",
      "          198,  198,  198,  198,  198,  198,  198,  198,    1,   40,   11,  290,\n",
      "          262,  286,  262,  286,  262]])\n",
      "tensor([[6109, 3626, 6100,  345,   11,  290,  284,  262, 4286,   13,  198,  198,\n",
      "          198,  198,  198,  198,  198,  198,  198,  198,  198,  198,  198,  198,\n",
      "          198,  198,  198,  198,  198,  198,  198,  198,    1,   40,   11,  290,\n",
      "          262,  286,  262,  286,  262,  338]])\n",
      "tensor([[6109, 3626, 6100,  345,   11,  290,  284,  262, 4286,   13,  198,  198,\n",
      "          198,  198,  198,  198,  198,  198,  198,  198,  198,  198,  198,  198,\n",
      "          198,  198,  198,  198,  198,  198,  198,  198,    1,   40,   11,  290,\n",
      "          262,  286,  262,  286,  262,  338,  262]])\n",
      "tensor([[ 6109,  3626,  6100,   345,    11,   290,   284,   262,  4286,    13,\n",
      "           198,   198,   198,   198,   198,   198,   198,   198,   198,   198,\n",
      "           198,   198,   198,   198,   198,   198,   198,   198,   198,   198,\n",
      "           198,   198,     1,    40,    11,   290,   262,   286,   262,   286,\n",
      "           262,   338,   262, 15393]])\n",
      "tensor([[ 6109,  3626,  6100,   345,    11,   290,   284,   262,  4286,    13,\n",
      "           198,   198,   198,   198,   198,   198,   198,   198,   198,   198,\n",
      "           198,   198,   198,   198,   198,   198,   198,   198,   198,   198,\n",
      "           198,   198,     1,    40,    11,   290,   262,   286,   262,   286,\n",
      "           262,   338,   262, 15393,    11]])\n",
      "tensor([[ 6109,  3626,  6100,   345,    11,   290,   284,   262,  4286,    13,\n",
      "           198,   198,   198,   198,   198,   198,   198,   198,   198,   198,\n",
      "           198,   198,   198,   198,   198,   198,   198,   198,   198,   198,\n",
      "           198,   198,     1,    40,    11,   290,   262,   286,   262,   286,\n",
      "           262,   338,   262, 15393,    11,   290]])\n",
      "tensor([[ 6109,  3626,  6100,   345,    11,   290,   284,   262,  4286,    13,\n",
      "           198,   198,   198,   198,   198,   198,   198,   198,   198,   198,\n",
      "           198,   198,   198,   198,   198,   198,   198,   198,   198,   198,\n",
      "           198,   198,     1,    40,    11,   290,   262,   286,   262,   286,\n",
      "           262,   338,   262, 15393,    11,   290,    11]])\n",
      "tensor([[ 6109,  3626,  6100,   345,    11,   290,   284,   262,  4286,    13,\n",
      "           198,   198,   198,   198,   198,   198,   198,   198,   198,   198,\n",
      "           198,   198,   198,   198,   198,   198,   198,   198,   198,   198,\n",
      "           198,   198,     1,    40,    11,   290,   262,   286,   262,   286,\n",
      "           262,   338,   262, 15393,    11,   290,    11,   290]])\n",
      "tensor([[ 6109,  3626,  6100,   345,    11,   290,   284,   262,  4286,    13,\n",
      "           198,   198,   198,   198,   198,   198,   198,   198,   198,   198,\n",
      "           198,   198,   198,   198,   198,   198,   198,   198,   198,   198,\n",
      "           198,   198,     1,    40,    11,   290,   262,   286,   262,   286,\n",
      "           262,   338,   262, 15393,    11,   290,    11,   290,   314]])\n",
      "tensor([[ 6109,  3626,  6100,   345,    11,   290,   284,   262,  4286,    13,\n",
      "           198,   198,   198,   198,   198,   198,   198,   198,   198,   198,\n",
      "           198,   198,   198,   198,   198,   198,   198,   198,   198,   198,\n",
      "           198,   198,     1,    40,    11,   290,   262,   286,   262,   286,\n",
      "           262,   338,   262, 15393,    11,   290,    11,   290,   314,   550]])\n",
      "tensor([[ 6109,  3626,  6100,   345,    11,   290,   284,   262,  4286,    13,\n",
      "           198,   198,   198,   198,   198,   198,   198,   198,   198,   198,\n",
      "           198,   198,   198,   198,   198,   198,   198,   198,   198,   198,\n",
      "           198,   198,     1,    40,    11,   290,   262,   286,   262,   286,\n",
      "           262,   338,   262, 15393,    11,   290,    11,   290,   314,   550,\n",
      "           587]])\n",
      "tensor([[ 6109,  3626,  6100,   345,    11,   290,   284,   262,  4286,    13,\n",
      "           198,   198,   198,   198,   198,   198,   198,   198,   198,   198,\n",
      "           198,   198,   198,   198,   198,   198,   198,   198,   198,   198,\n",
      "           198,   198,     1,    40,    11,   290,   262,   286,   262,   286,\n",
      "           262,   338,   262, 15393,    11,   290,    11,   290,   314,   550,\n",
      "           587,    11]])\n",
      "tensor([[ 6109,  3626,  6100,   345,    11,   290,   284,   262,  4286,    13,\n",
      "           198,   198,   198,   198,   198,   198,   198,   198,   198,   198,\n",
      "           198,   198,   198,   198,   198,   198,   198,   198,   198,   198,\n",
      "           198,   198,     1,    40,    11,   290,   262,   286,   262,   286,\n",
      "           262,   338,   262, 15393,    11,   290,    11,   290,   314,   550,\n",
      "           587,    11,   290]])\n",
      "Every effort moves you, and to the picture.                      \"I, and the of the of the's the honour, and, and I had been, and I\n",
      "Ep 4 (Step 000030): Train loss 1.057, Val loss 6.360\n",
      "Ep 4 (Step 000035): Train loss 0.771, Val loss 6.258\n",
      "tensor([[6109, 3626, 6100,  345]])\n",
      "tensor([[6109, 3626, 6100,  345,  286]])\n",
      "tensor([[6109, 3626, 6100,  345,  286,  262]])\n",
      "tensor([[6109, 3626, 6100,  345,  286,  262,  284]])\n",
      "tensor([[6109, 3626, 6100,  345,  286,  262,  284,  262]])\n",
      "tensor([[6109, 3626, 6100,  345,  286,  262,  284,  262, 4286]])\n",
      "tensor([[6109, 3626, 6100,  345,  286,  262,  284,  262, 4286,  438]])\n",
      "tensor([[6109, 3626, 6100,  345,  286,  262,  284,  262, 4286,  438,  292]])\n",
      "tensor([[6109, 3626, 6100,  345,  286,  262,  284,  262, 4286,  438,  292,  286]])\n",
      "tensor([[6109, 3626, 6100,  345,  286,  262,  284,  262, 4286,  438,  292,  286,\n",
      "          262]])\n",
      "tensor([[6109, 3626, 6100,  345,  286,  262,  284,  262, 4286,  438,  292,  286,\n",
      "          262, 4286]])\n",
      "tensor([[6109, 3626, 6100,  345,  286,  262,  284,  262, 4286,  438,  292,  286,\n",
      "          262, 4286,  438]])\n",
      "tensor([[6109, 3626, 6100,  345,  286,  262,  284,  262, 4286,  438,  292,  286,\n",
      "          262, 4286,  438,  292]])\n",
      "tensor([[6109, 3626, 6100,  345,  286,  262,  284,  262, 4286,  438,  292,  286,\n",
      "          262, 4286,  438,  292,  314]])\n",
      "tensor([[6109, 3626, 6100,  345,  286,  262,  284,  262, 4286,  438,  292,  286,\n",
      "          262, 4286,  438,  292,  314,  550]])\n",
      "tensor([[6109, 3626, 6100,  345,  286,  262,  284,  262, 4286,  438,  292,  286,\n",
      "          262, 4286,  438,  292,  314,  550,  587]])\n",
      "tensor([[6109, 3626, 6100,  345,  286,  262,  284,  262, 4286,  438,  292,  286,\n",
      "          262, 4286,  438,  292,  314,  550,  587,  366]])\n",
      "tensor([[6109, 3626, 6100,  345,  286,  262,  284,  262, 4286,  438,  292,  286,\n",
      "          262, 4286,  438,  292,  314,  550,  587,  366,  340]])\n",
      "tensor([[6109, 3626, 6100,  345,  286,  262,  284,  262, 4286,  438,  292,  286,\n",
      "          262, 4286,  438,  292,  314,  550,  587,  366,  340,  373]])\n",
      "tensor([[6109, 3626, 6100,  345,  286,  262,  284,  262, 4286,  438,  292,  286,\n",
      "          262, 4286,  438,  292,  314,  550,  587,  366,  340,  373,  465]])\n",
      "tensor([[6109, 3626, 6100,  345,  286,  262,  284,  262, 4286,  438,  292,  286,\n",
      "          262, 4286,  438,  292,  314,  550,  587,  366,  340,  373,  465,  366]])\n",
      "tensor([[6109, 3626, 6100,  345,  286,  262,  284,  262, 4286,  438,  292,  286,\n",
      "          262, 4286,  438,  292,  314,  550,  587,  366,  340,  373,  465,  366,\n",
      "          314]])\n",
      "tensor([[6109, 3626, 6100,  345,  286,  262,  284,  262, 4286,  438,  292,  286,\n",
      "          262, 4286,  438,  292,  314,  550,  587,  366,  340,  373,  465,  366,\n",
      "          314,  373]])\n",
      "tensor([[6109, 3626, 6100,  345,  286,  262,  284,  262, 4286,  438,  292,  286,\n",
      "          262, 4286,  438,  292,  314,  550,  587,  366,  340,  373,  465,  366,\n",
      "          314,  373,  262]])\n",
      "tensor([[6109, 3626, 6100,  345,  286,  262,  284,  262, 4286,  438,  292,  286,\n",
      "          262, 4286,  438,  292,  314,  550,  587,  366,  340,  373,  465,  366,\n",
      "          314,  373,  262,  198]])\n",
      "tensor([[6109, 3626, 6100,  345,  286,  262,  284,  262, 4286,  438,  292,  286,\n",
      "          262, 4286,  438,  292,  314,  550,  587,  366,  340,  373,  465,  366,\n",
      "          314,  373,  262,  198,  198]])\n",
      "tensor([[6109, 3626, 6100,  345,  286,  262,  284,  262, 4286,  438,  292,  286,\n",
      "          262, 4286,  438,  292,  314,  550,  587,  366,  340,  373,  465,  366,\n",
      "          314,  373,  262,  198,  198,  198]])\n",
      "tensor([[6109, 3626, 6100,  345,  286,  262,  284,  262, 4286,  438,  292,  286,\n",
      "          262, 4286,  438,  292,  314,  550,  587,  366,  340,  373,  465,  366,\n",
      "          314,  373,  262,  198,  198,  198,  198]])\n",
      "tensor([[6109, 3626, 6100,  345,  286,  262,  284,  262, 4286,  438,  292,  286,\n",
      "          262, 4286,  438,  292,  314,  550,  587,  366,  340,  373,  465,  366,\n",
      "          314,  373,  262,  198,  198,  198,  198,  198]])\n",
      "tensor([[6109, 3626, 6100,  345,  286,  262,  284,  262, 4286,  438,  292,  286,\n",
      "          262, 4286,  438,  292,  314,  550,  587,  366,  340,  373,  465,  366,\n",
      "          314,  373,  262,  198,  198,  198,  198,  198,    1]])\n",
      "tensor([[6109, 3626, 6100,  345,  286,  262,  284,  262, 4286,  438,  292,  286,\n",
      "          262, 4286,  438,  292,  314,  550,  587,  366,  340,  373,  465,  366,\n",
      "          314,  373,  262,  198,  198,  198,  198,  198,    1,   40]])\n",
      "tensor([[6109, 3626, 6100,  345,  286,  262,  284,  262, 4286,  438,  292,  286,\n",
      "          262, 4286,  438,  292,  314,  550,  587,  366,  340,  373,  465,  366,\n",
      "          314,  373,  262,  198,  198,  198,  198,  198,    1,   40,  373]])\n",
      "tensor([[6109, 3626, 6100,  345,  286,  262,  284,  262, 4286,  438,  292,  286,\n",
      "          262, 4286,  438,  292,  314,  550,  587,  366,  340,  373,  465,  366,\n",
      "          314,  373,  262,  198,  198,  198,  198,  198,    1,   40,  373,  465]])\n",
      "tensor([[6109, 3626, 6100,  345,  286,  262,  284,  262, 4286,  438,  292,  286,\n",
      "          262, 4286,  438,  292,  314,  550,  587,  366,  340,  373,  465,  366,\n",
      "          314,  373,  262,  198,  198,  198,  198,  198,    1,   40,  373,  465,\n",
      "          314]])\n",
      "tensor([[6109, 3626, 6100,  345,  286,  262,  284,  262, 4286,  438,  292,  286,\n",
      "          262, 4286,  438,  292,  314,  550,  587,  366,  340,  373,  465,  366,\n",
      "          314,  373,  262,  198,  198,  198,  198,  198,    1,   40,  373,  465,\n",
      "          314,  550]])\n",
      "tensor([[6109, 3626, 6100,  345,  286,  262,  284,  262, 4286,  438,  292,  286,\n",
      "          262, 4286,  438,  292,  314,  550,  587,  366,  340,  373,  465,  366,\n",
      "          314,  373,  262,  198,  198,  198,  198,  198,    1,   40,  373,  465,\n",
      "          314,  550,  587]])\n",
      "tensor([[6109, 3626, 6100,  345,  286,  262,  284,  262, 4286,  438,  292,  286,\n",
      "          262, 4286,  438,  292,  314,  550,  587,  366,  340,  373,  465,  366,\n",
      "          314,  373,  262,  198,  198,  198,  198,  198,    1,   40,  373,  465,\n",
      "          314,  550,  587,  262]])\n",
      "tensor([[6109, 3626, 6100,  345,  286,  262,  284,  262, 4286,  438,  292,  286,\n",
      "          262, 4286,  438,  292,  314,  550,  587,  366,  340,  373,  465,  366,\n",
      "          314,  373,  262,  198,  198,  198,  198,  198,    1,   40,  373,  465,\n",
      "          314,  550,  587,  262,  465]])\n",
      "tensor([[6109, 3626, 6100,  345,  286,  262,  284,  262, 4286,  438,  292,  286,\n",
      "          262, 4286,  438,  292,  314,  550,  587,  366,  340,  373,  465,  366,\n",
      "          314,  373,  262,  198,  198,  198,  198,  198,    1,   40,  373,  465,\n",
      "          314,  550,  587,  262,  465, 5986]])\n",
      "tensor([[6109, 3626, 6100,  345,  286,  262,  284,  262, 4286,  438,  292,  286,\n",
      "          262, 4286,  438,  292,  314,  550,  587,  366,  340,  373,  465,  366,\n",
      "          314,  373,  262,  198,  198,  198,  198,  198,    1,   40,  373,  465,\n",
      "          314,  550,  587,  262,  465, 5986,  438]])\n",
      "tensor([[6109, 3626, 6100,  345,  286,  262,  284,  262, 4286,  438,  292,  286,\n",
      "          262, 4286,  438,  292,  314,  550,  587,  366,  340,  373,  465,  366,\n",
      "          314,  373,  262,  198,  198,  198,  198,  198,    1,   40,  373,  465,\n",
      "          314,  550,  587,  262,  465, 5986,  438,  392]])\n",
      "tensor([[6109, 3626, 6100,  345,  286,  262,  284,  262, 4286,  438,  292,  286,\n",
      "          262, 4286,  438,  292,  314,  550,  587,  366,  340,  373,  465,  366,\n",
      "          314,  373,  262,  198,  198,  198,  198,  198,    1,   40,  373,  465,\n",
      "          314,  550,  587,  262,  465, 5986,  438,  392,  340]])\n",
      "tensor([[6109, 3626, 6100,  345,  286,  262,  284,  262, 4286,  438,  292,  286,\n",
      "          262, 4286,  438,  292,  314,  550,  587,  366,  340,  373,  465,  366,\n",
      "          314,  373,  262,  198,  198,  198,  198,  198,    1,   40,  373,  465,\n",
      "          314,  550,  587,  262,  465, 5986,  438,  392,  340,  262]])\n",
      "tensor([[6109, 3626, 6100,  345,  286,  262,  284,  262, 4286,  438,  292,  286,\n",
      "          262, 4286,  438,  292,  314,  550,  587,  366,  340,  373,  465,  366,\n",
      "          314,  373,  262,  198,  198,  198,  198,  198,    1,   40,  373,  465,\n",
      "          314,  550,  587,  262,  465, 5986,  438,  392,  340,  262, 4286]])\n",
      "tensor([[6109, 3626, 6100,  345,  286,  262,  284,  262, 4286,  438,  292,  286,\n",
      "          262, 4286,  438,  292,  314,  550,  587,  366,  340,  373,  465,  366,\n",
      "          314,  373,  262,  198,  198,  198,  198,  198,    1,   40,  373,  465,\n",
      "          314,  550,  587,  262,  465, 5986,  438,  392,  340,  262, 4286,  290]])\n",
      "tensor([[6109, 3626, 6100,  345,  286,  262,  284,  262, 4286,  438,  292,  286,\n",
      "          262, 4286,  438,  292,  314,  550,  587,  366,  340,  373,  465,  366,\n",
      "          314,  373,  262,  198,  198,  198,  198,  198,    1,   40,  373,  465,\n",
      "          314,  550,  587,  262,  465, 5986,  438,  392,  340,  262, 4286,  290,\n",
      "          314]])\n",
      "tensor([[6109, 3626, 6100,  345,  286,  262,  284,  262, 4286,  438,  292,  286,\n",
      "          262, 4286,  438,  292,  314,  550,  587,  366,  340,  373,  465,  366,\n",
      "          314,  373,  262,  198,  198,  198,  198,  198,    1,   40,  373,  465,\n",
      "          314,  550,  587,  262,  465, 5986,  438,  392,  340,  262, 4286,  290,\n",
      "          314,  550]])\n",
      "tensor([[6109, 3626, 6100,  345,  286,  262,  284,  262, 4286,  438,  292,  286,\n",
      "          262, 4286,  438,  292,  314,  550,  587,  366,  340,  373,  465,  366,\n",
      "          314,  373,  262,  198,  198,  198,  198,  198,    1,   40,  373,  465,\n",
      "          314,  550,  587,  262,  465, 5986,  438,  392,  340,  262, 4286,  290,\n",
      "          314,  550,  587]])\n",
      "tensor([[6109, 3626, 6100,  345,  286,  262,  284,  262, 4286,  438,  292,  286,\n",
      "          262, 4286,  438,  292,  314,  550,  587,  366,  340,  373,  465,  366,\n",
      "          314,  373,  262,  198,  198,  198,  198,  198,    1,   40,  373,  465,\n",
      "          314,  550,  587,  262,  465, 5986,  438,  392,  340,  262, 4286,  290,\n",
      "          314,  550,  587,  262]])\n",
      "tensor([[6109, 3626, 6100,  345,  286,  262,  284,  262, 4286,  438,  292,  286,\n",
      "          262, 4286,  438,  292,  314,  550,  587,  366,  340,  373,  465,  366,\n",
      "          314,  373,  262,  198,  198,  198,  198,  198,    1,   40,  373,  465,\n",
      "          314,  550,  587,  262,  465, 5986,  438,  392,  340,  262, 4286,  290,\n",
      "          314,  550,  587,  262, 4286]])\n",
      "Every effort moves you of the to the picture--as of the picture--as I had been \" it was his \" I was the     \"I was his I had been the his pictures--and it the picture and I had been the picture of\n",
      "Ep 5 (Step 000040): Train loss 0.733, Val loss 6.196\n",
      "tensor([[6109, 3626, 6100,  345]])\n",
      "tensor([[6109, 3626, 6100,  345,  760]])\n",
      "tensor([[6109, 3626, 6100,  345,  760,  262]])\n",
      "tensor([[6109, 3626, 6100,  345,  760,  262,  198]])\n",
      "tensor([[6109, 3626, 6100,  345,  760,  262,  198,    1]])\n",
      "tensor([[6109, 3626, 6100,  345,  760,  262,  198,    1, 5812]])\n",
      "tensor([[6109, 3626, 6100,  345,  760,  262,  198,    1, 5812,   11]])\n",
      "tensor([[6109, 3626, 6100,  345,  760,  262,  198,    1, 5812,   11,  290]])\n",
      "tensor([[6109, 3626, 6100,  345,  760,  262,  198,    1, 5812,   11,  290,  339]])\n",
      "tensor([[6109, 3626, 6100,  345,  760,  262,  198,    1, 5812,   11,  290,  339,\n",
      "          373]])\n",
      "tensor([[6109, 3626, 6100,  345,  760,  262,  198,    1, 5812,   11,  290,  339,\n",
      "          373,  407]])\n",
      "tensor([[6109, 3626, 6100,  345,  760,  262,  198,    1, 5812,   11,  290,  339,\n",
      "          373,  407,  262]])\n",
      "tensor([[6109, 3626, 6100,  345,  760,  262,  198,    1, 5812,   11,  290,  339,\n",
      "          373,  407,  262, 1109]])\n",
      "tensor([[6109, 3626, 6100,  345,  760,  262,  198,    1, 5812,   11,  290,  339,\n",
      "          373,  407,  262, 1109,  416]])\n",
      "tensor([[6109, 3626, 6100,  345,  760,  262,  198,    1, 5812,   11,  290,  339,\n",
      "          373,  407,  262, 1109,  416,  465]])\n",
      "tensor([[6109, 3626, 6100,  345,  760,  262,  198,    1, 5812,   11,  290,  339,\n",
      "          373,  407,  262, 1109,  416,  465,  938]])\n",
      "tensor([[6109, 3626, 6100,  345,  760,  262,  198,    1, 5812,   11,  290,  339,\n",
      "          373,  407,  262, 1109,  416,  465,  938, 1573]])\n",
      "tensor([[6109, 3626, 6100,  345,  760,  262,  198,    1, 5812,   11,  290,  339,\n",
      "          373,  407,  262, 1109,  416,  465,  938, 1573,   13]])\n",
      "tensor([[6109, 3626, 6100,  345,  760,  262,  198,    1, 5812,   11,  290,  339,\n",
      "          373,  407,  262, 1109,  416,  465,  938, 1573,   13,  198]])\n",
      "tensor([[6109, 3626, 6100,  345,  760,  262,  198,    1, 5812,   11,  290,  339,\n",
      "          373,  407,  262, 1109,  416,  465,  938, 1573,   13,  198,  198]])\n",
      "tensor([[6109, 3626, 6100,  345,  760,  262,  198,    1, 5812,   11,  290,  339,\n",
      "          373,  407,  262, 1109,  416,  465,  938, 1573,   13,  198,  198,  198]])\n",
      "tensor([[6109, 3626, 6100,  345,  760,  262,  198,    1, 5812,   11,  290,  339,\n",
      "          373,  407,  262, 1109,  416,  465,  938, 1573,   13,  198,  198,  198,\n",
      "          198]])\n",
      "tensor([[6109, 3626, 6100,  345,  760,  262,  198,    1, 5812,   11,  290,  339,\n",
      "          373,  407,  262, 1109,  416,  465,  938, 1573,   13,  198,  198,  198,\n",
      "          198,  198]])\n",
      "tensor([[6109, 3626, 6100,  345,  760,  262,  198,    1, 5812,   11,  290,  339,\n",
      "          373,  407,  262, 1109,  416,  465,  938, 1573,   13,  198,  198,  198,\n",
      "          198,  198,  198]])\n",
      "tensor([[6109, 3626, 6100,  345,  760,  262,  198,    1, 5812,   11,  290,  339,\n",
      "          373,  407,  262, 1109,  416,  465,  938, 1573,   13,  198,  198,  198,\n",
      "          198,  198,  198,  198]])\n",
      "tensor([[6109, 3626, 6100,  345,  760,  262,  198,    1, 5812,   11,  290,  339,\n",
      "          373,  407,  262, 1109,  416,  465,  938, 1573,   13,  198,  198,  198,\n",
      "          198,  198,  198,  198,  198]])\n",
      "tensor([[6109, 3626, 6100,  345,  760,  262,  198,    1, 5812,   11,  290,  339,\n",
      "          373,  407,  262, 1109,  416,  465,  938, 1573,   13,  198,  198,  198,\n",
      "          198,  198,  198,  198,  198,  198]])\n",
      "tensor([[6109, 3626, 6100,  345,  760,  262,  198,    1, 5812,   11,  290,  339,\n",
      "          373,  407,  262, 1109,  416,  465,  938, 1573,   13,  198,  198,  198,\n",
      "          198,  198,  198,  198,  198,  198,    1]])\n",
      "tensor([[6109, 3626, 6100,  345,  760,  262,  198,    1, 5812,   11,  290,  339,\n",
      "          373,  407,  262, 1109,  416,  465,  938, 1573,   13,  198,  198,  198,\n",
      "          198,  198,  198,  198,  198,  198,    1,   40]])\n",
      "tensor([[6109, 3626, 6100,  345,  760,  262,  198,    1, 5812,   11,  290,  339,\n",
      "          373,  407,  262, 1109,  416,  465,  938, 1573,   13,  198,  198,  198,\n",
      "          198,  198,  198,  198,  198,  198,    1,   40,  373]])\n",
      "tensor([[6109, 3626, 6100,  345,  760,  262,  198,    1, 5812,   11,  290,  339,\n",
      "          373,  407,  262, 1109,  416,  465,  938, 1573,   13,  198,  198,  198,\n",
      "          198,  198,  198,  198,  198,  198,    1,   40,  373,   13]])\n",
      "tensor([[6109, 3626, 6100,  345,  760,  262,  198,    1, 5812,   11,  290,  339,\n",
      "          373,  407,  262, 1109,  416,  465,  938, 1573,   13,  198,  198,  198,\n",
      "          198,  198,  198,  198,  198,  198,    1,   40,  373,   13,  198]])\n",
      "tensor([[6109, 3626, 6100,  345,  760,  262,  198,    1, 5812,   11,  290,  339,\n",
      "          373,  407,  262, 1109,  416,  465,  938, 1573,   13,  198,  198,  198,\n",
      "          198,  198,  198,  198,  198,  198,    1,   40,  373,   13,  198,  198]])\n",
      "tensor([[6109, 3626, 6100,  345,  760,  262,  198,    1, 5812,   11,  290,  339,\n",
      "          373,  407,  262, 1109,  416,  465,  938, 1573,   13,  198,  198,  198,\n",
      "          198,  198,  198,  198,  198,  198,    1,   40,  373,   13,  198,  198,\n",
      "          198]])\n",
      "tensor([[6109, 3626, 6100,  345,  760,  262,  198,    1, 5812,   11,  290,  339,\n",
      "          373,  407,  262, 1109,  416,  465,  938, 1573,   13,  198,  198,  198,\n",
      "          198,  198,  198,  198,  198,  198,    1,   40,  373,   13,  198,  198,\n",
      "          198,  198]])\n",
      "tensor([[6109, 3626, 6100,  345,  760,  262,  198,    1, 5812,   11,  290,  339,\n",
      "          373,  407,  262, 1109,  416,  465,  938, 1573,   13,  198,  198,  198,\n",
      "          198,  198,  198,  198,  198,  198,    1,   40,  373,   13,  198,  198,\n",
      "          198,  198,  198]])\n",
      "tensor([[6109, 3626, 6100,  345,  760,  262,  198,    1, 5812,   11,  290,  339,\n",
      "          373,  407,  262, 1109,  416,  465,  938, 1573,   13,  198,  198,  198,\n",
      "          198,  198,  198,  198,  198,  198,    1,   40,  373,   13,  198,  198,\n",
      "          198,  198,  198,  198]])\n",
      "tensor([[6109, 3626, 6100,  345,  760,  262,  198,    1, 5812,   11,  290,  339,\n",
      "          373,  407,  262, 1109,  416,  465,  938, 1573,   13,  198,  198,  198,\n",
      "          198,  198,  198,  198,  198,  198,    1,   40,  373,   13,  198,  198,\n",
      "          198,  198,  198,  198,    1]])\n",
      "tensor([[6109, 3626, 6100,  345,  760,  262,  198,    1, 5812,   11,  290,  339,\n",
      "          373,  407,  262, 1109,  416,  465,  938, 1573,   13,  198,  198,  198,\n",
      "          198,  198,  198,  198,  198,  198,    1,   40,  373,   13,  198,  198,\n",
      "          198,  198,  198,  198,    1, 5812]])\n",
      "tensor([[6109, 3626, 6100,  345,  760,  262,  198,    1, 5812,   11,  290,  339,\n",
      "          373,  407,  262, 1109,  416,  465,  938, 1573,   13,  198,  198,  198,\n",
      "          198,  198,  198,  198,  198,  198,    1,   40,  373,   13,  198,  198,\n",
      "          198,  198,  198,  198,    1, 5812,   11]])\n",
      "tensor([[6109, 3626, 6100,  345,  760,  262,  198,    1, 5812,   11,  290,  339,\n",
      "          373,  407,  262, 1109,  416,  465,  938, 1573,   13,  198,  198,  198,\n",
      "          198,  198,  198,  198,  198,  198,    1,   40,  373,   13,  198,  198,\n",
      "          198,  198,  198,  198,    1, 5812,   11,  314]])\n",
      "tensor([[6109, 3626, 6100,  345,  760,  262,  198,    1, 5812,   11,  290,  339,\n",
      "          373,  407,  262, 1109,  416,  465,  938, 1573,   13,  198,  198,  198,\n",
      "          198,  198,  198,  198,  198,  198,    1,   40,  373,   13,  198,  198,\n",
      "          198,  198,  198,  198,    1, 5812,   11,  314, 2936]])\n",
      "tensor([[6109, 3626, 6100,  345,  760,  262,  198,    1, 5812,   11,  290,  339,\n",
      "          373,  407,  262, 1109,  416,  465,  938, 1573,   13,  198,  198,  198,\n",
      "          198,  198,  198,  198,  198,  198,    1,   40,  373,   13,  198,  198,\n",
      "          198,  198,  198,  198,    1, 5812,   11,  314, 2936,  257]])\n",
      "tensor([[6109, 3626, 6100,  345,  760,  262,  198,    1, 5812,   11,  290,  339,\n",
      "          373,  407,  262, 1109,  416,  465,  938, 1573,   13,  198,  198,  198,\n",
      "          198,  198,  198,  198,  198,  198,    1,   40,  373,   13,  198,  198,\n",
      "          198,  198,  198,  198,    1, 5812,   11,  314, 2936,  257, 1310]])\n",
      "tensor([[6109, 3626, 6100,  345,  760,  262,  198,    1, 5812,   11,  290,  339,\n",
      "          373,  407,  262, 1109,  416,  465,  938, 1573,   13,  198,  198,  198,\n",
      "          198,  198,  198,  198,  198,  198,    1,   40,  373,   13,  198,  198,\n",
      "          198,  198,  198,  198,    1, 5812,   11,  314, 2936,  257, 1310,  257]])\n",
      "tensor([[6109, 3626, 6100,  345,  760,  262,  198,    1, 5812,   11,  290,  339,\n",
      "          373,  407,  262, 1109,  416,  465,  938, 1573,   13,  198,  198,  198,\n",
      "          198,  198,  198,  198,  198,  198,    1,   40,  373,   13,  198,  198,\n",
      "          198,  198,  198,  198,    1, 5812,   11,  314, 2936,  257, 1310,  257,\n",
      "         1310]])\n",
      "tensor([[6109, 3626, 6100,  345,  760,  262,  198,    1, 5812,   11,  290,  339,\n",
      "          373,  407,  262, 1109,  416,  465,  938, 1573,   13,  198,  198,  198,\n",
      "          198,  198,  198,  198,  198,  198,    1,   40,  373,   13,  198,  198,\n",
      "          198,  198,  198,  198,    1, 5812,   11,  314, 2936,  257, 1310,  257,\n",
      "         1310,  262]])\n",
      "tensor([[6109, 3626, 6100,  345,  760,  262,  198,    1, 5812,   11,  290,  339,\n",
      "          373,  407,  262, 1109,  416,  465,  938, 1573,   13,  198,  198,  198,\n",
      "          198,  198,  198,  198,  198,  198,    1,   40,  373,   13,  198,  198,\n",
      "          198,  198,  198,  198,    1, 5812,   11,  314, 2936,  257, 1310,  257,\n",
      "         1310,  262,  198]])\n",
      "tensor([[6109, 3626, 6100,  345,  760,  262,  198,    1, 5812,   11,  290,  339,\n",
      "          373,  407,  262, 1109,  416,  465,  938, 1573,   13,  198,  198,  198,\n",
      "          198,  198,  198,  198,  198,  198,    1,   40,  373,   13,  198,  198,\n",
      "          198,  198,  198,  198,    1, 5812,   11,  314, 2936,  257, 1310,  257,\n",
      "         1310,  262,  198,  198]])\n",
      "tensor([[6109, 3626, 6100,  345,  760,  262,  198,    1, 5812,   11,  290,  339,\n",
      "          373,  407,  262, 1109,  416,  465,  938, 1573,   13,  198,  198,  198,\n",
      "          198,  198,  198,  198,  198,  198,    1,   40,  373,   13,  198,  198,\n",
      "          198,  198,  198,  198,    1, 5812,   11,  314, 2936,  257, 1310,  257,\n",
      "         1310,  262,  198,  198,  198]])\n",
      "Every effort moves you know the \"Oh, and he was not the fact by his last word.         \"I was.      \"Oh, I felt a little a little the    \n",
      "Ep 6 (Step 000045): Train loss 0.720, Val loss 6.139\n",
      "Ep 6 (Step 000050): Train loss 0.477, Val loss 6.112\n",
      "tensor([[6109, 3626, 6100,  345]])\n",
      "tensor([[6109, 3626, 6100,  345,  760]])\n",
      "tensor([[6109, 3626, 6100,  345,  760,   26]])\n",
      "tensor([[6109, 3626, 6100,  345,  760,   26,  290]])\n",
      "tensor([[6109, 3626, 6100,  345,  760,   26,  290,  616]])\n",
      "tensor([[ 6109,  3626,  6100,   345,   760,    26,   290,   616, 13674]])\n",
      "tensor([[ 6109,  3626,  6100,   345,   760,    26,   290,   616, 13674,    11]])\n",
      "tensor([[ 6109,  3626,  6100,   345,   760,    26,   290,   616, 13674,    11,\n",
      "           290]])\n",
      "tensor([[ 6109,  3626,  6100,   345,   760,    26,   290,   616, 13674,    11,\n",
      "           290,   339]])\n",
      "tensor([[ 6109,  3626,  6100,   345,   760,    26,   290,   616, 13674,    11,\n",
      "           290,   339,   373]])\n",
      "tensor([[ 6109,  3626,  6100,   345,   760,    26,   290,   616, 13674,    11,\n",
      "           290,   339,   373,   407]])\n",
      "tensor([[ 6109,  3626,  6100,   345,   760,    26,   290,   616, 13674,    11,\n",
      "           290,   339,   373,   407,   262]])\n",
      "tensor([[ 6109,  3626,  6100,   345,   760,    26,   290,   616, 13674,    11,\n",
      "           290,   339,   373,   407,   262,  1109]])\n",
      "tensor([[ 6109,  3626,  6100,   345,   760,    26,   290,   616, 13674,    11,\n",
      "           290,   339,   373,   407,   262,  1109,   351]])\n",
      "tensor([[ 6109,  3626,  6100,   345,   760,    26,   290,   616, 13674,    11,\n",
      "           290,   339,   373,   407,   262,  1109,   351,   257]])\n",
      "tensor([[ 6109,  3626,  6100,   345,   760,    26,   290,   616, 13674,    11,\n",
      "           290,   339,   373,   407,   262,  1109,   351,   257,  1310]])\n",
      "tensor([[ 6109,  3626,  6100,   345,   760,    26,   290,   616, 13674,    11,\n",
      "           290,   339,   373,   407,   262,  1109,   351,   257,  1310,   286]])\n",
      "tensor([[ 6109,  3626,  6100,   345,   760,    26,   290,   616, 13674,    11,\n",
      "           290,   339,   373,   407,   262,  1109,   351,   257,  1310,   286,\n",
      "           262]])\n",
      "tensor([[ 6109,  3626,  6100,   345,   760,    26,   290,   616, 13674,    11,\n",
      "           290,   339,   373,   407,   262,  1109,   351,   257,  1310,   286,\n",
      "           262,  2156]])\n",
      "tensor([[ 6109,  3626,  6100,   345,   760,    26,   290,   616, 13674,    11,\n",
      "           290,   339,   373,   407,   262,  1109,   351,   257,  1310,   286,\n",
      "           262,  2156,   286]])\n",
      "tensor([[ 6109,  3626,  6100,   345,   760,    26,   290,   616, 13674,    11,\n",
      "           290,   339,   373,   407,   262,  1109,   351,   257,  1310,   286,\n",
      "           262,  2156,   286,   262]])\n",
      "tensor([[ 6109,  3626,  6100,   345,   760,    26,   290,   616, 13674,    11,\n",
      "           290,   339,   373,   407,   262,  1109,   351,   257,  1310,   286,\n",
      "           262,  2156,   286,   262,  1109]])\n",
      "tensor([[ 6109,  3626,  6100,   345,   760,    26,   290,   616, 13674,    11,\n",
      "           290,   339,   373,   407,   262,  1109,   351,   257,  1310,   286,\n",
      "           262,  2156,   286,   262,  1109,   286]])\n",
      "tensor([[ 6109,  3626,  6100,   345,   760,    26,   290,   616, 13674,    11,\n",
      "           290,   339,   373,   407,   262,  1109,   351,   257,  1310,   286,\n",
      "           262,  2156,   286,   262,  1109,   286,   262]])\n",
      "tensor([[ 6109,  3626,  6100,   345,   760,    26,   290,   616, 13674,    11,\n",
      "           290,   339,   373,   407,   262,  1109,   351,   257,  1310,   286,\n",
      "           262,  2156,   286,   262,  1109,   286,   262,  1109]])\n",
      "tensor([[ 6109,  3626,  6100,   345,   760,    26,   290,   616, 13674,    11,\n",
      "           290,   339,   373,   407,   262,  1109,   351,   257,  1310,   286,\n",
      "           262,  2156,   286,   262,  1109,   286,   262,  1109,    11]])\n",
      "tensor([[ 6109,  3626,  6100,   345,   760,    26,   290,   616, 13674,    11,\n",
      "           290,   339,   373,   407,   262,  1109,   351,   257,  1310,   286,\n",
      "           262,  2156,   286,   262,  1109,   286,   262,  1109,    11,   290]])\n",
      "tensor([[ 6109,  3626,  6100,   345,   760,    26,   290,   616, 13674,    11,\n",
      "           290,   339,   373,   407,   262,  1109,   351,   257,  1310,   286,\n",
      "           262,  2156,   286,   262,  1109,   286,   262,  1109,    11,   290,\n",
      "            13]])\n",
      "tensor([[ 6109,  3626,  6100,   345,   760,    26,   290,   616, 13674,    11,\n",
      "           290,   339,   373,   407,   262,  1109,   351,   257,  1310,   286,\n",
      "           262,  2156,   286,   262,  1109,   286,   262,  1109,    11,   290,\n",
      "            13,   198]])\n",
      "tensor([[ 6109,  3626,  6100,   345,   760,    26,   290,   616, 13674,    11,\n",
      "           290,   339,   373,   407,   262,  1109,   351,   257,  1310,   286,\n",
      "           262,  2156,   286,   262,  1109,   286,   262,  1109,    11,   290,\n",
      "            13,   198,   198]])\n",
      "tensor([[ 6109,  3626,  6100,   345,   760,    26,   290,   616, 13674,    11,\n",
      "           290,   339,   373,   407,   262,  1109,   351,   257,  1310,   286,\n",
      "           262,  2156,   286,   262,  1109,   286,   262,  1109,    11,   290,\n",
      "            13,   198,   198,   198]])\n",
      "tensor([[ 6109,  3626,  6100,   345,   760,    26,   290,   616, 13674,    11,\n",
      "           290,   339,   373,   407,   262,  1109,   351,   257,  1310,   286,\n",
      "           262,  2156,   286,   262,  1109,   286,   262,  1109,    11,   290,\n",
      "            13,   198,   198,   198,   198]])\n",
      "tensor([[ 6109,  3626,  6100,   345,   760,    26,   290,   616, 13674,    11,\n",
      "           290,   339,   373,   407,   262,  1109,   351,   257,  1310,   286,\n",
      "           262,  2156,   286,   262,  1109,   286,   262,  1109,    11,   290,\n",
      "            13,   198,   198,   198,   198,   198]])\n",
      "tensor([[ 6109,  3626,  6100,   345,   760,    26,   290,   616, 13674,    11,\n",
      "           290,   339,   373,   407,   262,  1109,   351,   257,  1310,   286,\n",
      "           262,  2156,   286,   262,  1109,   286,   262,  1109,    11,   290,\n",
      "            13,   198,   198,   198,   198,   198,   198]])\n",
      "tensor([[ 6109,  3626,  6100,   345,   760,    26,   290,   616, 13674,    11,\n",
      "           290,   339,   373,   407,   262,  1109,   351,   257,  1310,   286,\n",
      "           262,  2156,   286,   262,  1109,   286,   262,  1109,    11,   290,\n",
      "            13,   198,   198,   198,   198,   198,   198,   198]])\n",
      "tensor([[ 6109,  3626,  6100,   345,   760,    26,   290,   616, 13674,    11,\n",
      "           290,   339,   373,   407,   262,  1109,   351,   257,  1310,   286,\n",
      "           262,  2156,   286,   262,  1109,   286,   262,  1109,    11,   290,\n",
      "            13,   198,   198,   198,   198,   198,   198,   198,   198]])\n",
      "tensor([[ 6109,  3626,  6100,   345,   760,    26,   290,   616, 13674,    11,\n",
      "           290,   339,   373,   407,   262,  1109,   351,   257,  1310,   286,\n",
      "           262,  2156,   286,   262,  1109,   286,   262,  1109,    11,   290,\n",
      "            13,   198,   198,   198,   198,   198,   198,   198,   198,   198]])\n",
      "tensor([[ 6109,  3626,  6100,   345,   760,    26,   290,   616, 13674,    11,\n",
      "           290,   339,   373,   407,   262,  1109,   351,   257,  1310,   286,\n",
      "           262,  2156,   286,   262,  1109,   286,   262,  1109,    11,   290,\n",
      "            13,   198,   198,   198,   198,   198,   198,   198,   198,   198,\n",
      "           198]])\n",
      "tensor([[ 6109,  3626,  6100,   345,   760,    26,   290,   616, 13674,    11,\n",
      "           290,   339,   373,   407,   262,  1109,   351,   257,  1310,   286,\n",
      "           262,  2156,   286,   262,  1109,   286,   262,  1109,    11,   290,\n",
      "            13,   198,   198,   198,   198,   198,   198,   198,   198,   198,\n",
      "           198,   198]])\n",
      "tensor([[ 6109,  3626,  6100,   345,   760,    26,   290,   616, 13674,    11,\n",
      "           290,   339,   373,   407,   262,  1109,   351,   257,  1310,   286,\n",
      "           262,  2156,   286,   262,  1109,   286,   262,  1109,    11,   290,\n",
      "            13,   198,   198,   198,   198,   198,   198,   198,   198,   198,\n",
      "           198,   198,   198]])\n",
      "tensor([[ 6109,  3626,  6100,   345,   760,    26,   290,   616, 13674,    11,\n",
      "           290,   339,   373,   407,   262,  1109,   351,   257,  1310,   286,\n",
      "           262,  2156,   286,   262,  1109,   286,   262,  1109,    11,   290,\n",
      "            13,   198,   198,   198,   198,   198,   198,   198,   198,   198,\n",
      "           198,   198,   198,   198]])\n",
      "tensor([[ 6109,  3626,  6100,   345,   760,    26,   290,   616, 13674,    11,\n",
      "           290,   339,   373,   407,   262,  1109,   351,   257,  1310,   286,\n",
      "           262,  2156,   286,   262,  1109,   286,   262,  1109,    11,   290,\n",
      "            13,   198,   198,   198,   198,   198,   198,   198,   198,   198,\n",
      "           198,   198,   198,   198,   198]])\n",
      "tensor([[ 6109,  3626,  6100,   345,   760,    26,   290,   616, 13674,    11,\n",
      "           290,   339,   373,   407,   262,  1109,   351,   257,  1310,   286,\n",
      "           262,  2156,   286,   262,  1109,   286,   262,  1109,    11,   290,\n",
      "            13,   198,   198,   198,   198,   198,   198,   198,   198,   198,\n",
      "           198,   198,   198,   198,   198,   198]])\n",
      "tensor([[ 6109,  3626,  6100,   345,   760,    26,   290,   616, 13674,    11,\n",
      "           290,   339,   373,   407,   262,  1109,   351,   257,  1310,   286,\n",
      "           262,  2156,   286,   262,  1109,   286,   262,  1109,    11,   290,\n",
      "            13,   198,   198,   198,   198,   198,   198,   198,   198,   198,\n",
      "           198,   198,   198,   198,   198,   198,   198]])\n",
      "tensor([[ 6109,  3626,  6100,   345,   760,    26,   290,   616, 13674,    11,\n",
      "           290,   339,   373,   407,   262,  1109,   351,   257,  1310,   286,\n",
      "           262,  2156,   286,   262,  1109,   286,   262,  1109,    11,   290,\n",
      "            13,   198,   198,   198,   198,   198,   198,   198,   198,   198,\n",
      "           198,   198,   198,   198,   198,   198,   198,   198]])\n",
      "tensor([[ 6109,  3626,  6100,   345,   760,    26,   290,   616, 13674,    11,\n",
      "           290,   339,   373,   407,   262,  1109,   351,   257,  1310,   286,\n",
      "           262,  2156,   286,   262,  1109,   286,   262,  1109,    11,   290,\n",
      "            13,   198,   198,   198,   198,   198,   198,   198,   198,   198,\n",
      "           198,   198,   198,   198,   198,   198,   198,   198,   198]])\n",
      "tensor([[ 6109,  3626,  6100,   345,   760,    26,   290,   616, 13674,    11,\n",
      "           290,   339,   373,   407,   262,  1109,   351,   257,  1310,   286,\n",
      "           262,  2156,   286,   262,  1109,   286,   262,  1109,    11,   290,\n",
      "            13,   198,   198,   198,   198,   198,   198,   198,   198,   198,\n",
      "           198,   198,   198,   198,   198,   198,   198,   198,   198,   198]])\n",
      "tensor([[ 6109,  3626,  6100,   345,   760,    26,   290,   616, 13674,    11,\n",
      "           290,   339,   373,   407,   262,  1109,   351,   257,  1310,   286,\n",
      "           262,  2156,   286,   262,  1109,   286,   262,  1109,    11,   290,\n",
      "            13,   198,   198,   198,   198,   198,   198,   198,   198,   198,\n",
      "           198,   198,   198,   198,   198,   198,   198,   198,   198,   198,\n",
      "           198]])\n",
      "tensor([[ 6109,  3626,  6100,   345,   760,    26,   290,   616, 13674,    11,\n",
      "           290,   339,   373,   407,   262,  1109,   351,   257,  1310,   286,\n",
      "           262,  2156,   286,   262,  1109,   286,   262,  1109,    11,   290,\n",
      "            13,   198,   198,   198,   198,   198,   198,   198,   198,   198,\n",
      "           198,   198,   198,   198,   198,   198,   198,   198,   198,   198,\n",
      "           198,   198]])\n",
      "tensor([[ 6109,  3626,  6100,   345,   760,    26,   290,   616, 13674,    11,\n",
      "           290,   339,   373,   407,   262,  1109,   351,   257,  1310,   286,\n",
      "           262,  2156,   286,   262,  1109,   286,   262,  1109,    11,   290,\n",
      "            13,   198,   198,   198,   198,   198,   198,   198,   198,   198,\n",
      "           198,   198,   198,   198,   198,   198,   198,   198,   198,   198,\n",
      "           198,   198,   198]])\n",
      "Every effort moves you know; and my dear, and he was not the fact with a little of the house of the fact of the fact, and.                       \n",
      "Ep 7 (Step 000055): Train loss 0.467, Val loss 6.138\n",
      "Ep 7 (Step 000060): Train loss 0.539, Val loss 6.179\n",
      "tensor([[6109, 3626, 6100,  345]])\n",
      "tensor([[6109, 3626, 6100,  345,  760]])\n",
      "tensor([[6109, 3626, 6100,  345,  760,  553]])\n",
      "tensor([[6109, 3626, 6100,  345,  760,  553,  373]])\n",
      "tensor([[6109, 3626, 6100,  345,  760,  553,  373,  530]])\n",
      "tensor([[6109, 3626, 6100,  345,  760,  553,  373,  530,  286]])\n",
      "tensor([[6109, 3626, 6100,  345,  760,  553,  373,  530,  286,  262]])\n",
      "tensor([[6109, 3626, 6100,  345,  760,  553,  373,  530,  286,  262, 4286]])\n",
      "tensor([[6109, 3626, 6100,  345,  760,  553,  373,  530,  286,  262, 4286,  329]])\n",
      "tensor([[6109, 3626, 6100,  345,  760,  553,  373,  530,  286,  262, 4286,  329,\n",
      "         2147]])\n",
      "tensor([[6109, 3626, 6100,  345,  760,  553,  373,  530,  286,  262, 4286,  329,\n",
      "         2147,  438]])\n",
      "tensor([[6109, 3626, 6100,  345,  760,  553,  373,  530,  286,  262, 4286,  329,\n",
      "         2147,  438,   40]])\n",
      "tensor([[6109, 3626, 6100,  345,  760,  553,  373,  530,  286,  262, 4286,  329,\n",
      "         2147,  438,   40, 1297]])\n",
      "tensor([[6109, 3626, 6100,  345,  760,  553,  373,  530,  286,  262, 4286,  329,\n",
      "         2147,  438,   40, 1297, 9074]])\n",
      "tensor([[6109, 3626, 6100,  345,  760,  553,  373,  530,  286,  262, 4286,  329,\n",
      "         2147,  438,   40, 1297, 9074,   13]])\n",
      "tensor([[6109, 3626, 6100,  345,  760,  553,  373,  530,  286,  262, 4286,  329,\n",
      "         2147,  438,   40, 1297, 9074,   13,  198]])\n",
      "tensor([[6109, 3626, 6100,  345,  760,  553,  373,  530,  286,  262, 4286,  329,\n",
      "         2147,  438,   40, 1297, 9074,   13,  198,  198]])\n",
      "tensor([[6109, 3626, 6100,  345,  760,  553,  373,  530,  286,  262, 4286,  329,\n",
      "         2147,  438,   40, 1297, 9074,   13,  198,  198,    1]])\n",
      "tensor([[6109, 3626, 6100,  345,  760,  553,  373,  530,  286,  262, 4286,  329,\n",
      "         2147,  438,   40, 1297, 9074,   13,  198,  198,    1,   40]])\n",
      "tensor([[6109, 3626, 6100,  345,  760,  553,  373,  530,  286,  262, 4286,  329,\n",
      "         2147,  438,   40, 1297, 9074,   13,  198,  198,    1,   40, 3114]])\n",
      "tensor([[6109, 3626, 6100,  345,  760,  553,  373,  530,  286,  262, 4286,  329,\n",
      "         2147,  438,   40, 1297, 9074,   13,  198,  198,    1,   40, 3114,  438]])\n",
      "tensor([[6109, 3626, 6100,  345,  760,  553,  373,  530,  286,  262, 4286,  329,\n",
      "         2147,  438,   40, 1297, 9074,   13,  198,  198,    1,   40, 3114,  438,\n",
      "          292]])\n",
      "tensor([[6109, 3626, 6100,  345,  760,  553,  373,  530,  286,  262, 4286,  329,\n",
      "         2147,  438,   40, 1297, 9074,   13,  198,  198,    1,   40, 3114,  438,\n",
      "          292,  286]])\n",
      "tensor([[6109, 3626, 6100,  345,  760,  553,  373,  530,  286,  262, 4286,  329,\n",
      "         2147,  438,   40, 1297, 9074,   13,  198,  198,    1,   40, 3114,  438,\n",
      "          292,  286,  262]])\n",
      "tensor([[6109, 3626, 6100,  345,  760,  553,  373,  530,  286,  262, 4286,  329,\n",
      "         2147,  438,   40, 1297, 9074,   13,  198,  198,    1,   40, 3114,  438,\n",
      "          292,  286,  262, 1109]])\n",
      "tensor([[6109, 3626, 6100,  345,  760,  553,  373,  530,  286,  262, 4286,  329,\n",
      "         2147,  438,   40, 1297, 9074,   13,  198,  198,    1,   40, 3114,  438,\n",
      "          292,  286,  262, 1109,   11]])\n",
      "tensor([[6109, 3626, 6100,  345,  760,  553,  373,  530,  286,  262, 4286,  329,\n",
      "         2147,  438,   40, 1297, 9074,   13,  198,  198,    1,   40, 3114,  438,\n",
      "          292,  286,  262, 1109,   11,  290]])\n",
      "tensor([[6109, 3626, 6100,  345,  760,  553,  373,  530,  286,  262, 4286,  329,\n",
      "         2147,  438,   40, 1297, 9074,   13,  198,  198,    1,   40, 3114,  438,\n",
      "          292,  286,  262, 1109,   11,  290,  314]])\n",
      "tensor([[6109, 3626, 6100,  345,  760,  553,  373,  530,  286,  262, 4286,  329,\n",
      "         2147,  438,   40, 1297, 9074,   13,  198,  198,    1,   40, 3114,  438,\n",
      "          292,  286,  262, 1109,   11,  290,  314, 2936]])\n",
      "tensor([[6109, 3626, 6100,  345,  760,  553,  373,  530,  286,  262, 4286,  329,\n",
      "         2147,  438,   40, 1297, 9074,   13,  198,  198,    1,   40, 3114,  438,\n",
      "          292,  286,  262, 1109,   11,  290,  314, 2936,  683]])\n",
      "tensor([[6109, 3626, 6100,  345,  760,  553,  373,  530,  286,  262, 4286,  329,\n",
      "         2147,  438,   40, 1297, 9074,   13,  198,  198,    1,   40, 3114,  438,\n",
      "          292,  286,  262, 1109,   11,  290,  314, 2936,  683,  438]])\n",
      "tensor([[ 6109,  3626,  6100,   345,   760,   553,   373,   530,   286,   262,\n",
      "          4286,   329,  2147,   438,    40,  1297,  9074,    13,   198,   198,\n",
      "             1,    40,  3114,   438,   292,   286,   262,  1109,    11,   290,\n",
      "           314,  2936,   683,   438, 14363]])\n",
      "tensor([[ 6109,  3626,  6100,   345,   760,   553,   373,   530,   286,   262,\n",
      "          4286,   329,  2147,   438,    40,  1297,  9074,    13,   198,   198,\n",
      "             1,    40,  3114,   438,   292,   286,   262,  1109,    11,   290,\n",
      "           314,  2936,   683,   438, 14363,   736]])\n",
      "tensor([[ 6109,  3626,  6100,   345,   760,   553,   373,   530,   286,   262,\n",
      "          4286,   329,  2147,   438,    40,  1297,  9074,    13,   198,   198,\n",
      "             1,    40,  3114,   438,   292,   286,   262,  1109,    11,   290,\n",
      "           314,  2936,   683,   438, 14363,   736,   465]])\n",
      "tensor([[ 6109,  3626,  6100,   345,   760,   553,   373,   530,   286,   262,\n",
      "          4286,   329,  2147,   438,    40,  1297,  9074,    13,   198,   198,\n",
      "             1,    40,  3114,   438,   292,   286,   262,  1109,    11,   290,\n",
      "           314,  2936,   683,   438, 14363,   736,   465,  1182]])\n",
      "tensor([[ 6109,  3626,  6100,   345,   760,   553,   373,   530,   286,   262,\n",
      "          4286,   329,  2147,   438,    40,  1297,  9074,    13,   198,   198,\n",
      "             1,    40,  3114,   438,   292,   286,   262,  1109,    11,   290,\n",
      "           314,  2936,   683,   438, 14363,   736,   465,  1182,   284]])\n",
      "tensor([[ 6109,  3626,  6100,   345,   760,   553,   373,   530,   286,   262,\n",
      "          4286,   329,  2147,   438,    40,  1297,  9074,    13,   198,   198,\n",
      "             1,    40,  3114,   438,   292,   286,   262,  1109,    11,   290,\n",
      "           314,  2936,   683,   438, 14363,   736,   465,  1182,   284,   262]])\n",
      "tensor([[ 6109,  3626,  6100,   345,   760,   553,   373,   530,   286,   262,\n",
      "          4286,   329,  2147,   438,    40,  1297,  9074,    13,   198,   198,\n",
      "             1,    40,  3114,   438,   292,   286,   262,  1109,    11,   290,\n",
      "           314,  2936,   683,   438, 14363,   736,   465,  1182,   284,   262,\n",
      "         50085]])\n",
      "tensor([[ 6109,  3626,  6100,   345,   760,   553,   373,   530,   286,   262,\n",
      "          4286,   329,  2147,   438,    40,  1297,  9074,    13,   198,   198,\n",
      "             1,    40,  3114,   438,   292,   286,   262,  1109,    11,   290,\n",
      "           314,  2936,   683,   438, 14363,   736,   465,  1182,   284,   262,\n",
      "         50085,    13]])\n",
      "tensor([[ 6109,  3626,  6100,   345,   760,   553,   373,   530,   286,   262,\n",
      "          4286,   329,  2147,   438,    40,  1297,  9074,    13,   198,   198,\n",
      "             1,    40,  3114,   438,   292,   286,   262,  1109,    11,   290,\n",
      "           314,  2936,   683,   438, 14363,   736,   465,  1182,   284,   262,\n",
      "         50085,    13,   198]])\n",
      "tensor([[ 6109,  3626,  6100,   345,   760,   553,   373,   530,   286,   262,\n",
      "          4286,   329,  2147,   438,    40,  1297,  9074,    13,   198,   198,\n",
      "             1,    40,  3114,   438,   292,   286,   262,  1109,    11,   290,\n",
      "           314,  2936,   683,   438, 14363,   736,   465,  1182,   284,   262,\n",
      "         50085,    13,   198,     1]])\n",
      "tensor([[ 6109,  3626,  6100,   345,   760,   553,   373,   530,   286,   262,\n",
      "          4286,   329,  2147,   438,    40,  1297,  9074,    13,   198,   198,\n",
      "             1,    40,  3114,   438,   292,   286,   262,  1109,    11,   290,\n",
      "           314,  2936,   683,   438, 14363,   736,   465,  1182,   284,   262,\n",
      "         50085,    13,   198,     1,  5812]])\n",
      "tensor([[ 6109,  3626,  6100,   345,   760,   553,   373,   530,   286,   262,\n",
      "          4286,   329,  2147,   438,    40,  1297,  9074,    13,   198,   198,\n",
      "             1,    40,  3114,   438,   292,   286,   262,  1109,    11,   290,\n",
      "           314,  2936,   683,   438, 14363,   736,   465,  1182,   284,   262,\n",
      "         50085,    13,   198,     1,  5812,    11]])\n",
      "tensor([[ 6109,  3626,  6100,   345,   760,   553,   373,   530,   286,   262,\n",
      "          4286,   329,  2147,   438,    40,  1297,  9074,    13,   198,   198,\n",
      "             1,    40,  3114,   438,   292,   286,   262,  1109,    11,   290,\n",
      "           314,  2936,   683,   438, 14363,   736,   465,  1182,   284,   262,\n",
      "         50085,    13,   198,     1,  5812,    11,   290]])\n",
      "tensor([[ 6109,  3626,  6100,   345,   760,   553,   373,   530,   286,   262,\n",
      "          4286,   329,  2147,   438,    40,  1297,  9074,    13,   198,   198,\n",
      "             1,    40,  3114,   438,   292,   286,   262,  1109,    11,   290,\n",
      "           314,  2936,   683,   438, 14363,   736,   465,  1182,   284,   262,\n",
      "         50085,    13,   198,     1,  5812,    11,   290,    62]])\n",
      "tensor([[ 6109,  3626,  6100,   345,   760,   553,   373,   530,   286,   262,\n",
      "          4286,   329,  2147,   438,    40,  1297,  9074,    13,   198,   198,\n",
      "             1,    40,  3114,   438,   292,   286,   262,  1109,    11,   290,\n",
      "           314,  2936,   683,   438, 14363,   736,   465,  1182,   284,   262,\n",
      "         50085,    13,   198,     1,  5812,    11,   290,    62,   438]])\n",
      "tensor([[ 6109,  3626,  6100,   345,   760,   553,   373,   530,   286,   262,\n",
      "          4286,   329,  2147,   438,    40,  1297,  9074,    13,   198,   198,\n",
      "             1,    40,  3114,   438,   292,   286,   262,  1109,    11,   290,\n",
      "           314,  2936,   683,   438, 14363,   736,   465,  1182,   284,   262,\n",
      "         50085,    13,   198,     1,  5812,    11,   290,    62,   438, 13893]])\n",
      "tensor([[ 6109,  3626,  6100,   345,   760,   553,   373,   530,   286,   262,\n",
      "          4286,   329,  2147,   438,    40,  1297,  9074,    13,   198,   198,\n",
      "             1,    40,  3114,   438,   292,   286,   262,  1109,    11,   290,\n",
      "           314,  2936,   683,   438, 14363,   736,   465,  1182,   284,   262,\n",
      "         50085,    13,   198,     1,  5812,    11,   290,    62,   438, 13893,\n",
      "           339]])\n",
      "tensor([[ 6109,  3626,  6100,   345,   760,   553,   373,   530,   286,   262,\n",
      "          4286,   329,  2147,   438,    40,  1297,  9074,    13,   198,   198,\n",
      "             1,    40,  3114,   438,   292,   286,   262,  1109,    11,   290,\n",
      "           314,  2936,   683,   438, 14363,   736,   465,  1182,   284,   262,\n",
      "         50085,    13,   198,     1,  5812,    11,   290,    62,   438, 13893,\n",
      "           339,   550]])\n",
      "tensor([[ 6109,  3626,  6100,   345,   760,   553,   373,   530,   286,   262,\n",
      "          4286,   329,  2147,   438,    40,  1297,  9074,    13,   198,   198,\n",
      "             1,    40,  3114,   438,   292,   286,   262,  1109,    11,   290,\n",
      "           314,  2936,   683,   438, 14363,   736,   465,  1182,   284,   262,\n",
      "         50085,    13,   198,     1,  5812,    11,   290,    62,   438, 13893,\n",
      "           339,   550,  1464]])\n",
      "Every effort moves you know,\" was one of the picture for nothing--I told Mrs.  \"I looked--as of the fact, and I felt him--his back his head to the donkey. \"Oh, and_--because he had always _\n",
      "Ep 8 (Step 000065): Train loss 0.319, Val loss 6.176\n",
      "Ep 8 (Step 000070): Train loss 0.269, Val loss 6.178\n",
      "tensor([[6109, 3626, 6100,  345]])\n",
      "tensor([[6109, 3626, 6100,  345, 1701]])\n",
      "tensor([[6109, 3626, 6100,  345, 1701,  198]])\n",
      "tensor([[6109, 3626, 6100,  345, 1701,  198,    1]])\n",
      "tensor([[6109, 3626, 6100,  345, 1701,  198,    1,   40]])\n",
      "tensor([[6109, 3626, 6100,  345, 1701,  198,    1,   40, 1422]])\n",
      "tensor([[6109, 3626, 6100,  345, 1701,  198,    1,   40, 1422,  470]])\n",
      "tensor([[6109, 3626, 6100,  345, 1701,  198,    1,   40, 1422,  470, 6842]])\n",
      "tensor([[6109, 3626, 6100,  345, 1701,  198,    1,   40, 1422,  470, 6842,  262]])\n",
      "tensor([[6109, 3626, 6100,  345, 1701,  198,    1,   40, 1422,  470, 6842,  262,\n",
      "         4286]])\n",
      "tensor([[6109, 3626, 6100,  345, 1701,  198,    1,   40, 1422,  470, 6842,  262,\n",
      "         4286,  438]])\n",
      "tensor([[6109, 3626, 6100,  345, 1701,  198,    1,   40, 1422,  470, 6842,  262,\n",
      "         4286,  438,   40]])\n",
      "tensor([[6109, 3626, 6100,  345, 1701,  198,    1,   40, 1422,  470, 6842,  262,\n",
      "         4286,  438,   40, 1297]])\n",
      "tensor([[6109, 3626, 6100,  345, 1701,  198,    1,   40, 1422,  470, 6842,  262,\n",
      "         4286,  438,   40, 1297,  502]])\n",
      "tensor([[6109, 3626, 6100,  345, 1701,  198,    1,   40, 1422,  470, 6842,  262,\n",
      "         4286,  438,   40, 1297,  502,   13]])\n",
      "tensor([[6109, 3626, 6100,  345, 1701,  198,    1,   40, 1422,  470, 6842,  262,\n",
      "         4286,  438,   40, 1297,  502,   13,  198]])\n",
      "tensor([[6109, 3626, 6100,  345, 1701,  198,    1,   40, 1422,  470, 6842,  262,\n",
      "         4286,  438,   40, 1297,  502,   13,  198,  198]])\n",
      "tensor([[6109, 3626, 6100,  345, 1701,  198,    1,   40, 1422,  470, 6842,  262,\n",
      "         4286,  438,   40, 1297,  502,   13,  198,  198,    1]])\n",
      "tensor([[6109, 3626, 6100,  345, 1701,  198,    1,   40, 1422,  470, 6842,  262,\n",
      "         4286,  438,   40, 1297,  502,   13,  198,  198,    1,   40]])\n",
      "tensor([[6109, 3626, 6100,  345, 1701,  198,    1,   40, 1422,  470, 6842,  262,\n",
      "         4286,  438,   40, 1297,  502,   13,  198,  198,    1,   40, 3114]])\n",
      "tensor([[6109, 3626, 6100,  345, 1701,  198,    1,   40, 1422,  470, 6842,  262,\n",
      "         4286,  438,   40, 1297,  502,   13,  198,  198,    1,   40, 3114,  510]])\n",
      "tensor([[6109, 3626, 6100,  345, 1701,  198,    1,   40, 1422,  470, 6842,  262,\n",
      "         4286,  438,   40, 1297,  502,   13,  198,  198,    1,   40, 3114,  510,\n",
      "           11]])\n",
      "tensor([[6109, 3626, 6100,  345, 1701,  198,    1,   40, 1422,  470, 6842,  262,\n",
      "         4286,  438,   40, 1297,  502,   13,  198,  198,    1,   40, 3114,  510,\n",
      "           11,  290]])\n",
      "tensor([[6109, 3626, 6100,  345, 1701,  198,    1,   40, 1422,  470, 6842,  262,\n",
      "         4286,  438,   40, 1297,  502,   13,  198,  198,    1,   40, 3114,  510,\n",
      "           11,  290, 1816]])\n",
      "tensor([[6109, 3626, 6100,  345, 1701,  198,    1,   40, 1422,  470, 6842,  262,\n",
      "         4286,  438,   40, 1297,  502,   13,  198,  198,    1,   40, 3114,  510,\n",
      "           11,  290, 1816,  319]])\n",
      "tensor([[ 6109,  3626,  6100,   345,  1701,   198,     1,    40,  1422,   470,\n",
      "          6842,   262,  4286,   438,    40,  1297,   502,    13,   198,   198,\n",
      "             1,    40,  3114,   510,    11,   290,  1816,   319, 39136]])\n",
      "tensor([[ 6109,  3626,  6100,   345,  1701,   198,     1,    40,  1422,   470,\n",
      "          6842,   262,  4286,   438,    40,  1297,   502,    13,   198,   198,\n",
      "             1,    40,  3114,   510,    11,   290,  1816,   319, 39136,   278]])\n",
      "tensor([[ 6109,  3626,  6100,   345,  1701,   198,     1,    40,  1422,   470,\n",
      "          6842,   262,  4286,   438,    40,  1297,   502,    13,   198,   198,\n",
      "             1,    40,  3114,   510,    11,   290,  1816,   319, 39136,   278,\n",
      "           290]])\n",
      "tensor([[ 6109,  3626,  6100,   345,  1701,   198,     1,    40,  1422,   470,\n",
      "          6842,   262,  4286,   438,    40,  1297,   502,    13,   198,   198,\n",
      "             1,    40,  3114,   510,    11,   290,  1816,   319, 39136,   278,\n",
      "           290,  9074]])\n",
      "tensor([[ 6109,  3626,  6100,   345,  1701,   198,     1,    40,  1422,   470,\n",
      "          6842,   262,  4286,   438,    40,  1297,   502,    13,   198,   198,\n",
      "             1,    40,  3114,   510,    11,   290,  1816,   319, 39136,   278,\n",
      "           290,  9074,    13]])\n",
      "tensor([[ 6109,  3626,  6100,   345,  1701,   198,     1,    40,  1422,   470,\n",
      "          6842,   262,  4286,   438,    40,  1297,   502,    13,   198,   198,\n",
      "             1,    40,  3114,   510,    11,   290,  1816,   319, 39136,   278,\n",
      "           290,  9074,    13,   314]])\n",
      "tensor([[ 6109,  3626,  6100,   345,  1701,   198,     1,    40,  1422,   470,\n",
      "          6842,   262,  4286,   438,    40,  1297,   502,    13,   198,   198,\n",
      "             1,    40,  3114,   510,    11,   290,  1816,   319, 39136,   278,\n",
      "           290,  9074,    13,   314,   373]])\n",
      "tensor([[ 6109,  3626,  6100,   345,  1701,   198,     1,    40,  1422,   470,\n",
      "          6842,   262,  4286,   438,    40,  1297,   502,    13,   198,   198,\n",
      "             1,    40,  3114,   510,    11,   290,  1816,   319, 39136,   278,\n",
      "           290,  9074,    13,   314,   373,   736]])\n",
      "tensor([[ 6109,  3626,  6100,   345,  1701,   198,     1,    40,  1422,   470,\n",
      "          6842,   262,  4286,   438,    40,  1297,   502,    13,   198,   198,\n",
      "             1,    40,  3114,   510,    11,   290,  1816,   319, 39136,   278,\n",
      "           290,  9074,    13,   314,   373,   736,   262]])\n",
      "tensor([[ 6109,  3626,  6100,   345,  1701,   198,     1,    40,  1422,   470,\n",
      "          6842,   262,  4286,   438,    40,  1297,   502,    13,   198,   198,\n",
      "             1,    40,  3114,   510,    11,   290,  1816,   319, 39136,   278,\n",
      "           290,  9074,    13,   314,   373,   736,   262,  1182]])\n",
      "tensor([[ 6109,  3626,  6100,   345,  1701,   198,     1,    40,  1422,   470,\n",
      "          6842,   262,  4286,   438,    40,  1297,   502,    13,   198,   198,\n",
      "             1,    40,  3114,   510,    11,   290,  1816,   319, 39136,   278,\n",
      "           290,  9074,    13,   314,   373,   736,   262,  1182,   284]])\n",
      "tensor([[ 6109,  3626,  6100,   345,  1701,   198,     1,    40,  1422,   470,\n",
      "          6842,   262,  4286,   438,    40,  1297,   502,    13,   198,   198,\n",
      "             1,    40,  3114,   510,    11,   290,  1816,   319, 39136,   278,\n",
      "           290,  9074,    13,   314,   373,   736,   262,  1182,   284,   804]])\n",
      "tensor([[ 6109,  3626,  6100,   345,  1701,   198,     1,    40,  1422,   470,\n",
      "          6842,   262,  4286,   438,    40,  1297,   502,    13,   198,   198,\n",
      "             1,    40,  3114,   510,    11,   290,  1816,   319, 39136,   278,\n",
      "           290,  9074,    13,   314,   373,   736,   262,  1182,   284,   804,\n",
      "           510]])\n",
      "tensor([[ 6109,  3626,  6100,   345,  1701,   198,     1,    40,  1422,   470,\n",
      "          6842,   262,  4286,   438,    40,  1297,   502,    13,   198,   198,\n",
      "             1,    40,  3114,   510,    11,   290,  1816,   319, 39136,   278,\n",
      "           290,  9074,    13,   314,   373,   736,   262,  1182,   284,   804,\n",
      "           510,   379]])\n",
      "tensor([[ 6109,  3626,  6100,   345,  1701,   198,     1,    40,  1422,   470,\n",
      "          6842,   262,  4286,   438,    40,  1297,   502,    13,   198,   198,\n",
      "             1,    40,  3114,   510,    11,   290,  1816,   319, 39136,   278,\n",
      "           290,  9074,    13,   314,   373,   736,   262,  1182,   284,   804,\n",
      "           510,   379,   262]])\n",
      "tensor([[ 6109,  3626,  6100,   345,  1701,   198,     1,    40,  1422,   470,\n",
      "          6842,   262,  4286,   438,    40,  1297,   502,    13,   198,   198,\n",
      "             1,    40,  3114,   510,    11,   290,  1816,   319, 39136,   278,\n",
      "           290,  9074,    13,   314,   373,   736,   262,  1182,   284,   804,\n",
      "           510,   379,   262, 15393]])\n",
      "tensor([[ 6109,  3626,  6100,   345,  1701,   198,     1,    40,  1422,   470,\n",
      "          6842,   262,  4286,   438,    40,  1297,   502,    13,   198,   198,\n",
      "             1,    40,  3114,   510,    11,   290,  1816,   319, 39136,   278,\n",
      "           290,  9074,    13,   314,   373,   736,   262,  1182,   284,   804,\n",
      "           510,   379,   262, 15393,   852]])\n",
      "tensor([[ 6109,  3626,  6100,   345,  1701,   198,     1,    40,  1422,   470,\n",
      "          6842,   262,  4286,   438,    40,  1297,   502,    13,   198,   198,\n",
      "             1,    40,  3114,   510,    11,   290,  1816,   319, 39136,   278,\n",
      "           290,  9074,    13,   314,   373,   736,   262,  1182,   284,   804,\n",
      "           510,   379,   262, 15393,   852,  4808]])\n",
      "tensor([[ 6109,  3626,  6100,   345,  1701,   198,     1,    40,  1422,   470,\n",
      "          6842,   262,  4286,   438,    40,  1297,   502,    13,   198,   198,\n",
      "             1,    40,  3114,   510,    11,   290,  1816,   319, 39136,   278,\n",
      "           290,  9074,    13,   314,   373,   736,   262,  1182,   284,   804,\n",
      "           510,   379,   262, 15393,   852,  4808,  3810]])\n",
      "tensor([[ 6109,  3626,  6100,   345,  1701,   198,     1,    40,  1422,   470,\n",
      "          6842,   262,  4286,   438,    40,  1297,   502,    13,   198,   198,\n",
      "             1,    40,  3114,   510,    11,   290,  1816,   319, 39136,   278,\n",
      "           290,  9074,    13,   314,   373,   736,   262,  1182,   284,   804,\n",
      "           510,   379,   262, 15393,   852,  4808,  3810,    62]])\n",
      "tensor([[ 6109,  3626,  6100,   345,  1701,   198,     1,    40,  1422,   470,\n",
      "          6842,   262,  4286,   438,    40,  1297,   502,    13,   198,   198,\n",
      "             1,    40,  3114,   510,    11,   290,  1816,   319, 39136,   278,\n",
      "           290,  9074,    13,   314,   373,   736,   262,  1182,   284,   804,\n",
      "           510,   379,   262, 15393,   852,  4808,  3810,    62,   438]])\n",
      "tensor([[ 6109,  3626,  6100,   345,  1701,   198,     1,    40,  1422,   470,\n",
      "          6842,   262,  4286,   438,    40,  1297,   502,    13,   198,   198,\n",
      "             1,    40,  3114,   510,    11,   290,  1816,   319, 39136,   278,\n",
      "           290,  9074,    13,   314,   373,   736,   262,  1182,   284,   804,\n",
      "           510,   379,   262, 15393,   852,  4808,  3810,    62,   438, 13893]])\n",
      "tensor([[ 6109,  3626,  6100,   345,  1701,   198,     1,    40,  1422,   470,\n",
      "          6842,   262,  4286,   438,    40,  1297,   502,    13,   198,   198,\n",
      "             1,    40,  3114,   510,    11,   290,  1816,   319, 39136,   278,\n",
      "           290,  9074,    13,   314,   373,   736,   262,  1182,   284,   804,\n",
      "           510,   379,   262, 15393,   852,  4808,  3810,    62,   438, 13893,\n",
      "           339]])\n",
      "tensor([[ 6109,  3626,  6100,   345,  1701,   198,     1,    40,  1422,   470,\n",
      "          6842,   262,  4286,   438,    40,  1297,   502,    13,   198,   198,\n",
      "             1,    40,  3114,   510,    11,   290,  1816,   319, 39136,   278,\n",
      "           290,  9074,    13,   314,   373,   736,   262,  1182,   284,   804,\n",
      "           510,   379,   262, 15393,   852,  4808,  3810,    62,   438, 13893,\n",
      "           339,   373]])\n",
      "tensor([[ 6109,  3626,  6100,   345,  1701,   198,     1,    40,  1422,   470,\n",
      "          6842,   262,  4286,   438,    40,  1297,   502,    13,   198,   198,\n",
      "             1,    40,  3114,   510,    11,   290,  1816,   319, 39136,   278,\n",
      "           290,  9074,    13,   314,   373,   736,   262,  1182,   284,   804,\n",
      "           510,   379,   262, 15393,   852,  4808,  3810,    62,   438, 13893,\n",
      "           339,   373,   618]])\n",
      "Every effort moves you?\" \"I didn't bear the picture--I told me.  \"I looked up, and went on groping and Mrs. I was back the head to look up at the honour being _mine_--because he was when I\n",
      "Ep 9 (Step 000075): Train loss 0.220, Val loss 6.277\n",
      "Ep 9 (Step 000080): Train loss 0.134, Val loss 6.281\n",
      "tensor([[6109, 3626, 6100,  345]])\n",
      "tensor([[6109, 3626, 6100,  345, 1701]])\n",
      "tensor([[6109, 3626, 6100,  345, 1701,  198]])\n",
      "tensor([[6109, 3626, 6100,  345, 1701,  198,  198]])\n",
      "tensor([[6109, 3626, 6100,  345, 1701,  198,  198,    1]])\n",
      "tensor([[6109, 3626, 6100,  345, 1701,  198,  198,    1, 5297]])\n",
      "tensor([[6109, 3626, 6100,  345, 1701,  198,  198,    1, 5297,  438]])\n",
      "tensor([[ 6109,  3626,  6100,   345,  1701,   198,   198,     1,  5297,   438,\n",
      "         37121]])\n",
      "tensor([[ 6109,  3626,  6100,   345,  1701,   198,   198,     1,  5297,   438,\n",
      "         37121,  1035]])\n",
      "tensor([[ 6109,  3626,  6100,   345,  1701,   198,   198,     1,  5297,   438,\n",
      "         37121,  1035, 27339]])\n",
      "tensor([[ 6109,  3626,  6100,   345,  1701,   198,   198,     1,  5297,   438,\n",
      "         37121,  1035, 27339,   284]])\n",
      "tensor([[ 6109,  3626,  6100,   345,  1701,   198,   198,     1,  5297,   438,\n",
      "         37121,  1035, 27339,   284,   262]])\n",
      "tensor([[ 6109,  3626,  6100,   345,  1701,   198,   198,     1,  5297,   438,\n",
      "         37121,  1035, 27339,   284,   262, 21296]])\n",
      "tensor([[ 6109,  3626,  6100,   345,  1701,   198,   198,     1,  5297,   438,\n",
      "         37121,  1035, 27339,   284,   262, 21296,    13]])\n",
      "tensor([[ 6109,  3626,  6100,   345,  1701,   198,   198,     1,  5297,   438,\n",
      "         37121,  1035, 27339,   284,   262, 21296,    13,  1375]])\n",
      "tensor([[ 6109,  3626,  6100,   345,  1701,   198,   198,     1,  5297,   438,\n",
      "         37121,  1035, 27339,   284,   262, 21296,    13,  1375,  2227]])\n",
      "tensor([[ 6109,  3626,  6100,   345,  1701,   198,   198,     1,  5297,   438,\n",
      "         37121,  1035, 27339,   284,   262, 21296,    13,  1375,  2227,   683]])\n",
      "tensor([[ 6109,  3626,  6100,   345,  1701,   198,   198,     1,  5297,   438,\n",
      "         37121,  1035, 27339,   284,   262, 21296,    13,  1375,  2227,   683,\n",
      "         29178]])\n",
      "tensor([[ 6109,  3626,  6100,   345,  1701,   198,   198,     1,  5297,   438,\n",
      "         37121,  1035, 27339,   284,   262, 21296,    13,  1375,  2227,   683,\n",
      "         29178,  3474]])\n",
      "tensor([[ 6109,  3626,  6100,   345,  1701,   198,   198,     1,  5297,   438,\n",
      "         37121,  1035, 27339,   284,   262, 21296,    13,  1375,  2227,   683,\n",
      "         29178,  3474,   438]])\n",
      "tensor([[ 6109,  3626,  6100,   345,  1701,   198,   198,     1,  5297,   438,\n",
      "         37121,  1035, 27339,   284,   262, 21296,    13,  1375,  2227,   683,\n",
      "         29178,  3474,   438,   392]])\n",
      "tensor([[ 6109,  3626,  6100,   345,  1701,   198,   198,     1,  5297,   438,\n",
      "         37121,  1035, 27339,   284,   262, 21296,    13,  1375,  2227,   683,\n",
      "         29178,  3474,   438,   392,   416]])\n",
      "tensor([[ 6109,  3626,  6100,   345,  1701,   198,   198,     1,  5297,   438,\n",
      "         37121,  1035, 27339,   284,   262, 21296,    13,  1375,  2227,   683,\n",
      "         29178,  3474,   438,   392,   416,   502]])\n",
      "tensor([[ 6109,  3626,  6100,   345,  1701,   198,   198,     1,  5297,   438,\n",
      "         37121,  1035, 27339,   284,   262, 21296,    13,  1375,  2227,   683,\n",
      "         29178,  3474,   438,   392,   416,   502,  2474]])\n",
      "tensor([[ 6109,  3626,  6100,   345,  1701,   198,   198,     1,  5297,   438,\n",
      "         37121,  1035, 27339,   284,   262, 21296,    13,  1375,  2227,   683,\n",
      "         29178,  3474,   438,   392,   416,   502,  2474,   198]])\n",
      "tensor([[ 6109,  3626,  6100,   345,  1701,   198,   198,     1,  5297,   438,\n",
      "         37121,  1035, 27339,   284,   262, 21296,    13,  1375,  2227,   683,\n",
      "         29178,  3474,   438,   392,   416,   502,  2474,   198,   198]])\n",
      "tensor([[ 6109,  3626,  6100,   345,  1701,   198,   198,     1,  5297,   438,\n",
      "         37121,  1035, 27339,   284,   262, 21296,    13,  1375,  2227,   683,\n",
      "         29178,  3474,   438,   392,   416,   502,  2474,   198,   198,  1544]])\n",
      "tensor([[ 6109,  3626,  6100,   345,  1701,   198,   198,     1,  5297,   438,\n",
      "         37121,  1035, 27339,   284,   262, 21296,    13,  1375,  2227,   683,\n",
      "         29178,  3474,   438,   392,   416,   502,  2474,   198,   198,  1544,\n",
      "         13818]])\n",
      "tensor([[ 6109,  3626,  6100,   345,  1701,   198,   198,     1,  5297,   438,\n",
      "         37121,  1035, 27339,   284,   262, 21296,    13,  1375,  2227,   683,\n",
      "         29178,  3474,   438,   392,   416,   502,  2474,   198,   198,  1544,\n",
      "         13818,   757]])\n",
      "tensor([[ 6109,  3626,  6100,   345,  1701,   198,   198,     1,  5297,   438,\n",
      "         37121,  1035, 27339,   284,   262, 21296,    13,  1375,  2227,   683,\n",
      "         29178,  3474,   438,   392,   416,   502,  2474,   198,   198,  1544,\n",
      "         13818,   757,    11]])\n",
      "tensor([[ 6109,  3626,  6100,   345,  1701,   198,   198,     1,  5297,   438,\n",
      "         37121,  1035, 27339,   284,   262, 21296,    13,  1375,  2227,   683,\n",
      "         29178,  3474,   438,   392,   416,   502,  2474,   198,   198,  1544,\n",
      "         13818,   757,    11,   290]])\n",
      "tensor([[ 6109,  3626,  6100,   345,  1701,   198,   198,     1,  5297,   438,\n",
      "         37121,  1035, 27339,   284,   262, 21296,    13,  1375,  2227,   683,\n",
      "         29178,  3474,   438,   392,   416,   502,  2474,   198,   198,  1544,\n",
      "         13818,   757,    11,   290,  9617]])\n",
      "tensor([[ 6109,  3626,  6100,   345,  1701,   198,   198,     1,  5297,   438,\n",
      "         37121,  1035, 27339,   284,   262, 21296,    13,  1375,  2227,   683,\n",
      "         29178,  3474,   438,   392,   416,   502,  2474,   198,   198,  1544,\n",
      "         13818,   757,    11,   290,  9617,   736]])\n",
      "tensor([[ 6109,  3626,  6100,   345,  1701,   198,   198,     1,  5297,   438,\n",
      "         37121,  1035, 27339,   284,   262, 21296,    13,  1375,  2227,   683,\n",
      "         29178,  3474,   438,   392,   416,   502,  2474,   198,   198,  1544,\n",
      "         13818,   757,    11,   290,  9617,   736,   465]])\n",
      "tensor([[ 6109,  3626,  6100,   345,  1701,   198,   198,     1,  5297,   438,\n",
      "         37121,  1035, 27339,   284,   262, 21296,    13,  1375,  2227,   683,\n",
      "         29178,  3474,   438,   392,   416,   502,  2474,   198,   198,  1544,\n",
      "         13818,   757,    11,   290,  9617,   736,   465,  1182]])\n",
      "tensor([[ 6109,  3626,  6100,   345,  1701,   198,   198,     1,  5297,   438,\n",
      "         37121,  1035, 27339,   284,   262, 21296,    13,  1375,  2227,   683,\n",
      "         29178,  3474,   438,   392,   416,   502,  2474,   198,   198,  1544,\n",
      "         13818,   757,    11,   290,  9617,   736,   465,  1182,   284]])\n",
      "tensor([[ 6109,  3626,  6100,   345,  1701,   198,   198,     1,  5297,   438,\n",
      "         37121,  1035, 27339,   284,   262, 21296,    13,  1375,  2227,   683,\n",
      "         29178,  3474,   438,   392,   416,   502,  2474,   198,   198,  1544,\n",
      "         13818,   757,    11,   290,  9617,   736,   465,  1182,   284,   804]])\n",
      "tensor([[ 6109,  3626,  6100,   345,  1701,   198,   198,     1,  5297,   438,\n",
      "         37121,  1035, 27339,   284,   262, 21296,    13,  1375,  2227,   683,\n",
      "         29178,  3474,   438,   392,   416,   502,  2474,   198,   198,  1544,\n",
      "         13818,   757,    11,   290,  9617,   736,   465,  1182,   284,   804,\n",
      "           510]])\n",
      "tensor([[ 6109,  3626,  6100,   345,  1701,   198,   198,     1,  5297,   438,\n",
      "         37121,  1035, 27339,   284,   262, 21296,    13,  1375,  2227,   683,\n",
      "         29178,  3474,   438,   392,   416,   502,  2474,   198,   198,  1544,\n",
      "         13818,   757,    11,   290,  9617,   736,   465,  1182,   284,   804,\n",
      "           510,   379]])\n",
      "tensor([[ 6109,  3626,  6100,   345,  1701,   198,   198,     1,  5297,   438,\n",
      "         37121,  1035, 27339,   284,   262, 21296,    13,  1375,  2227,   683,\n",
      "         29178,  3474,   438,   392,   416,   502,  2474,   198,   198,  1544,\n",
      "         13818,   757,    11,   290,  9617,   736,   465,  1182,   284,   804,\n",
      "           510,   379,   262]])\n",
      "tensor([[ 6109,  3626,  6100,   345,  1701,   198,   198,     1,  5297,   438,\n",
      "         37121,  1035, 27339,   284,   262, 21296,    13,  1375,  2227,   683,\n",
      "         29178,  3474,   438,   392,   416,   502,  2474,   198,   198,  1544,\n",
      "         13818,   757,    11,   290,  9617,   736,   465,  1182,   284,   804,\n",
      "           510,   379,   262, 17548]])\n",
      "tensor([[ 6109,  3626,  6100,   345,  1701,   198,   198,     1,  5297,   438,\n",
      "         37121,  1035, 27339,   284,   262, 21296,    13,  1375,  2227,   683,\n",
      "         29178,  3474,   438,   392,   416,   502,  2474,   198,   198,  1544,\n",
      "         13818,   757,    11,   290,  9617,   736,   465,  1182,   284,   804,\n",
      "           510,   379,   262, 17548,   286]])\n",
      "tensor([[ 6109,  3626,  6100,   345,  1701,   198,   198,     1,  5297,   438,\n",
      "         37121,  1035, 27339,   284,   262, 21296,    13,  1375,  2227,   683,\n",
      "         29178,  3474,   438,   392,   416,   502,  2474,   198,   198,  1544,\n",
      "         13818,   757,    11,   290,  9617,   736,   465,  1182,   284,   804,\n",
      "           510,   379,   262, 17548,   286,   262]])\n",
      "tensor([[ 6109,  3626,  6100,   345,  1701,   198,   198,     1,  5297,   438,\n",
      "         37121,  1035, 27339,   284,   262, 21296,    13,  1375,  2227,   683,\n",
      "         29178,  3474,   438,   392,   416,   502,  2474,   198,   198,  1544,\n",
      "         13818,   757,    11,   290,  9617,   736,   465,  1182,   284,   804,\n",
      "           510,   379,   262, 17548,   286,   262, 50085]])\n",
      "tensor([[ 6109,  3626,  6100,   345,  1701,   198,   198,     1,  5297,   438,\n",
      "         37121,  1035, 27339,   284,   262, 21296,    13,  1375,  2227,   683,\n",
      "         29178,  3474,   438,   392,   416,   502,  2474,   198,   198,  1544,\n",
      "         13818,   757,    11,   290,  9617,   736,   465,  1182,   284,   804,\n",
      "           510,   379,   262, 17548,   286,   262, 50085,    13]])\n",
      "tensor([[ 6109,  3626,  6100,   345,  1701,   198,   198,     1,  5297,   438,\n",
      "         37121,  1035, 27339,   284,   262, 21296,    13,  1375,  2227,   683,\n",
      "         29178,  3474,   438,   392,   416,   502,  2474,   198,   198,  1544,\n",
      "         13818,   757,    11,   290,  9617,   736,   465,  1182,   284,   804,\n",
      "           510,   379,   262, 17548,   286,   262, 50085,    13,   366]])\n",
      "tensor([[ 6109,  3626,  6100,   345,  1701,   198,   198,     1,  5297,   438,\n",
      "         37121,  1035, 27339,   284,   262, 21296,    13,  1375,  2227,   683,\n",
      "         29178,  3474,   438,   392,   416,   502,  2474,   198,   198,  1544,\n",
      "         13818,   757,    11,   290,  9617,   736,   465,  1182,   284,   804,\n",
      "           510,   379,   262, 17548,   286,   262, 50085,    13,   366,  1858]])\n",
      "tensor([[ 6109,  3626,  6100,   345,  1701,   198,   198,     1,  5297,   438,\n",
      "         37121,  1035, 27339,   284,   262, 21296,    13,  1375,  2227,   683,\n",
      "         29178,  3474,   438,   392,   416,   502,  2474,   198,   198,  1544,\n",
      "         13818,   757,    11,   290,  9617,   736,   465,  1182,   284,   804,\n",
      "           510,   379,   262, 17548,   286,   262, 50085,    13,   366,  1858,\n",
      "           547]])\n",
      "tensor([[ 6109,  3626,  6100,   345,  1701,   198,   198,     1,  5297,   438,\n",
      "         37121,  1035, 27339,   284,   262, 21296,    13,  1375,  2227,   683,\n",
      "         29178,  3474,   438,   392,   416,   502,  2474,   198,   198,  1544,\n",
      "         13818,   757,    11,   290,  9617,   736,   465,  1182,   284,   804,\n",
      "           510,   379,   262, 17548,   286,   262, 50085,    13,   366,  1858,\n",
      "           547,  1528]])\n",
      "tensor([[ 6109,  3626,  6100,   345,  1701,   198,   198,     1,  5297,   438,\n",
      "         37121,  1035, 27339,   284,   262, 21296,    13,  1375,  2227,   683,\n",
      "         29178,  3474,   438,   392,   416,   502,  2474,   198,   198,  1544,\n",
      "         13818,   757,    11,   290,  9617,   736,   465,  1182,   284,   804,\n",
      "           510,   379,   262, 17548,   286,   262, 50085,    13,   366,  1858,\n",
      "           547,  1528,   618]])\n",
      "Every effort moves you?\"  \"Yes--quite insensible to the irony. She wanted him vindicated--and by me!\"  He laughed again, and threw back his head to look up at the sketch of the donkey. \"There were days when I\n",
      "Ep 10 (Step 000085): Train loss 0.106, Val loss 6.325\n",
      "tensor([[6109, 3626, 6100,  345]])\n",
      "tensor([[6109, 3626, 6100,  345, 1701]])\n",
      "tensor([[6109, 3626, 6100,  345, 1701,  198]])\n",
      "tensor([[6109, 3626, 6100,  345, 1701,  198,  198]])\n",
      "tensor([[6109, 3626, 6100,  345, 1701,  198,  198,    1]])\n",
      "tensor([[6109, 3626, 6100,  345, 1701,  198,  198,    1, 5297]])\n",
      "tensor([[6109, 3626, 6100,  345, 1701,  198,  198,    1, 5297,  438]])\n",
      "tensor([[ 6109,  3626,  6100,   345,  1701,   198,   198,     1,  5297,   438,\n",
      "         37121]])\n",
      "tensor([[ 6109,  3626,  6100,   345,  1701,   198,   198,     1,  5297,   438,\n",
      "         37121,  1035]])\n",
      "tensor([[ 6109,  3626,  6100,   345,  1701,   198,   198,     1,  5297,   438,\n",
      "         37121,  1035, 27339]])\n",
      "tensor([[ 6109,  3626,  6100,   345,  1701,   198,   198,     1,  5297,   438,\n",
      "         37121,  1035, 27339,   284]])\n",
      "tensor([[ 6109,  3626,  6100,   345,  1701,   198,   198,     1,  5297,   438,\n",
      "         37121,  1035, 27339,   284,   262]])\n",
      "tensor([[ 6109,  3626,  6100,   345,  1701,   198,   198,     1,  5297,   438,\n",
      "         37121,  1035, 27339,   284,   262, 21296]])\n",
      "tensor([[ 6109,  3626,  6100,   345,  1701,   198,   198,     1,  5297,   438,\n",
      "         37121,  1035, 27339,   284,   262, 21296,    13]])\n",
      "tensor([[ 6109,  3626,  6100,   345,  1701,   198,   198,     1,  5297,   438,\n",
      "         37121,  1035, 27339,   284,   262, 21296,    13,  1375]])\n",
      "tensor([[ 6109,  3626,  6100,   345,  1701,   198,   198,     1,  5297,   438,\n",
      "         37121,  1035, 27339,   284,   262, 21296,    13,  1375,  2227]])\n",
      "tensor([[ 6109,  3626,  6100,   345,  1701,   198,   198,     1,  5297,   438,\n",
      "         37121,  1035, 27339,   284,   262, 21296,    13,  1375,  2227,   683]])\n",
      "tensor([[ 6109,  3626,  6100,   345,  1701,   198,   198,     1,  5297,   438,\n",
      "         37121,  1035, 27339,   284,   262, 21296,    13,  1375,  2227,   683,\n",
      "         29178]])\n",
      "tensor([[ 6109,  3626,  6100,   345,  1701,   198,   198,     1,  5297,   438,\n",
      "         37121,  1035, 27339,   284,   262, 21296,    13,  1375,  2227,   683,\n",
      "         29178,  3474]])\n",
      "tensor([[ 6109,  3626,  6100,   345,  1701,   198,   198,     1,  5297,   438,\n",
      "         37121,  1035, 27339,   284,   262, 21296,    13,  1375,  2227,   683,\n",
      "         29178,  3474,   438]])\n",
      "tensor([[ 6109,  3626,  6100,   345,  1701,   198,   198,     1,  5297,   438,\n",
      "         37121,  1035, 27339,   284,   262, 21296,    13,  1375,  2227,   683,\n",
      "         29178,  3474,   438,   392]])\n",
      "tensor([[ 6109,  3626,  6100,   345,  1701,   198,   198,     1,  5297,   438,\n",
      "         37121,  1035, 27339,   284,   262, 21296,    13,  1375,  2227,   683,\n",
      "         29178,  3474,   438,   392,   416]])\n",
      "tensor([[ 6109,  3626,  6100,   345,  1701,   198,   198,     1,  5297,   438,\n",
      "         37121,  1035, 27339,   284,   262, 21296,    13,  1375,  2227,   683,\n",
      "         29178,  3474,   438,   392,   416,   502]])\n",
      "tensor([[ 6109,  3626,  6100,   345,  1701,   198,   198,     1,  5297,   438,\n",
      "         37121,  1035, 27339,   284,   262, 21296,    13,  1375,  2227,   683,\n",
      "         29178,  3474,   438,   392,   416,   502,  2474]])\n",
      "tensor([[ 6109,  3626,  6100,   345,  1701,   198,   198,     1,  5297,   438,\n",
      "         37121,  1035, 27339,   284,   262, 21296,    13,  1375,  2227,   683,\n",
      "         29178,  3474,   438,   392,   416,   502,  2474,   198]])\n",
      "tensor([[ 6109,  3626,  6100,   345,  1701,   198,   198,     1,  5297,   438,\n",
      "         37121,  1035, 27339,   284,   262, 21296,    13,  1375,  2227,   683,\n",
      "         29178,  3474,   438,   392,   416,   502,  2474,   198,   198]])\n",
      "tensor([[ 6109,  3626,  6100,   345,  1701,   198,   198,     1,  5297,   438,\n",
      "         37121,  1035, 27339,   284,   262, 21296,    13,  1375,  2227,   683,\n",
      "         29178,  3474,   438,   392,   416,   502,  2474,   198,   198,  1544]])\n",
      "tensor([[ 6109,  3626,  6100,   345,  1701,   198,   198,     1,  5297,   438,\n",
      "         37121,  1035, 27339,   284,   262, 21296,    13,  1375,  2227,   683,\n",
      "         29178,  3474,   438,   392,   416,   502,  2474,   198,   198,  1544,\n",
      "         13818]])\n",
      "tensor([[ 6109,  3626,  6100,   345,  1701,   198,   198,     1,  5297,   438,\n",
      "         37121,  1035, 27339,   284,   262, 21296,    13,  1375,  2227,   683,\n",
      "         29178,  3474,   438,   392,   416,   502,  2474,   198,   198,  1544,\n",
      "         13818,   757]])\n",
      "tensor([[ 6109,  3626,  6100,   345,  1701,   198,   198,     1,  5297,   438,\n",
      "         37121,  1035, 27339,   284,   262, 21296,    13,  1375,  2227,   683,\n",
      "         29178,  3474,   438,   392,   416,   502,  2474,   198,   198,  1544,\n",
      "         13818,   757,    11]])\n",
      "tensor([[ 6109,  3626,  6100,   345,  1701,   198,   198,     1,  5297,   438,\n",
      "         37121,  1035, 27339,   284,   262, 21296,    13,  1375,  2227,   683,\n",
      "         29178,  3474,   438,   392,   416,   502,  2474,   198,   198,  1544,\n",
      "         13818,   757,    11,   290]])\n",
      "tensor([[ 6109,  3626,  6100,   345,  1701,   198,   198,     1,  5297,   438,\n",
      "         37121,  1035, 27339,   284,   262, 21296,    13,  1375,  2227,   683,\n",
      "         29178,  3474,   438,   392,   416,   502,  2474,   198,   198,  1544,\n",
      "         13818,   757,    11,   290,  9617]])\n",
      "tensor([[ 6109,  3626,  6100,   345,  1701,   198,   198,     1,  5297,   438,\n",
      "         37121,  1035, 27339,   284,   262, 21296,    13,  1375,  2227,   683,\n",
      "         29178,  3474,   438,   392,   416,   502,  2474,   198,   198,  1544,\n",
      "         13818,   757,    11,   290,  9617,   736]])\n",
      "tensor([[ 6109,  3626,  6100,   345,  1701,   198,   198,     1,  5297,   438,\n",
      "         37121,  1035, 27339,   284,   262, 21296,    13,  1375,  2227,   683,\n",
      "         29178,  3474,   438,   392,   416,   502,  2474,   198,   198,  1544,\n",
      "         13818,   757,    11,   290,  9617,   736,   465]])\n",
      "tensor([[ 6109,  3626,  6100,   345,  1701,   198,   198,     1,  5297,   438,\n",
      "         37121,  1035, 27339,   284,   262, 21296,    13,  1375,  2227,   683,\n",
      "         29178,  3474,   438,   392,   416,   502,  2474,   198,   198,  1544,\n",
      "         13818,   757,    11,   290,  9617,   736,   465,  1182]])\n",
      "tensor([[ 6109,  3626,  6100,   345,  1701,   198,   198,     1,  5297,   438,\n",
      "         37121,  1035, 27339,   284,   262, 21296,    13,  1375,  2227,   683,\n",
      "         29178,  3474,   438,   392,   416,   502,  2474,   198,   198,  1544,\n",
      "         13818,   757,    11,   290,  9617,   736,   465,  1182,   284]])\n",
      "tensor([[ 6109,  3626,  6100,   345,  1701,   198,   198,     1,  5297,   438,\n",
      "         37121,  1035, 27339,   284,   262, 21296,    13,  1375,  2227,   683,\n",
      "         29178,  3474,   438,   392,   416,   502,  2474,   198,   198,  1544,\n",
      "         13818,   757,    11,   290,  9617,   736,   465,  1182,   284,   262]])\n",
      "tensor([[ 6109,  3626,  6100,   345,  1701,   198,   198,     1,  5297,   438,\n",
      "         37121,  1035, 27339,   284,   262, 21296,    13,  1375,  2227,   683,\n",
      "         29178,  3474,   438,   392,   416,   502,  2474,   198,   198,  1544,\n",
      "         13818,   757,    11,   290,  9617,   736,   465,  1182,   284,   262,\n",
      "         50085]])\n",
      "tensor([[ 6109,  3626,  6100,   345,  1701,   198,   198,     1,  5297,   438,\n",
      "         37121,  1035, 27339,   284,   262, 21296,    13,  1375,  2227,   683,\n",
      "         29178,  3474,   438,   392,   416,   502,  2474,   198,   198,  1544,\n",
      "         13818,   757,    11,   290,  9617,   736,   465,  1182,   284,   262,\n",
      "         50085,   757]])\n",
      "tensor([[ 6109,  3626,  6100,   345,  1701,   198,   198,     1,  5297,   438,\n",
      "         37121,  1035, 27339,   284,   262, 21296,    13,  1375,  2227,   683,\n",
      "         29178,  3474,   438,   392,   416,   502,  2474,   198,   198,  1544,\n",
      "         13818,   757,    11,   290,  9617,   736,   465,  1182,   284,   262,\n",
      "         50085,   757,    13]])\n",
      "tensor([[ 6109,  3626,  6100,   345,  1701,   198,   198,     1,  5297,   438,\n",
      "         37121,  1035, 27339,   284,   262, 21296,    13,  1375,  2227,   683,\n",
      "         29178,  3474,   438,   392,   416,   502,  2474,   198,   198,  1544,\n",
      "         13818,   757,    11,   290,  9617,   736,   465,  1182,   284,   262,\n",
      "         50085,   757,    13,   314]])\n",
      "tensor([[ 6109,  3626,  6100,   345,  1701,   198,   198,     1,  5297,   438,\n",
      "         37121,  1035, 27339,   284,   262, 21296,    13,  1375,  2227,   683,\n",
      "         29178,  3474,   438,   392,   416,   502,  2474,   198,   198,  1544,\n",
      "         13818,   757,    11,   290,  9617,   736,   465,  1182,   284,   262,\n",
      "         50085,   757,    13,   314,  2497]])\n",
      "tensor([[ 6109,  3626,  6100,   345,  1701,   198,   198,     1,  5297,   438,\n",
      "         37121,  1035, 27339,   284,   262, 21296,    13,  1375,  2227,   683,\n",
      "         29178,  3474,   438,   392,   416,   502,  2474,   198,   198,  1544,\n",
      "         13818,   757,    11,   290,  9617,   736,   465,  1182,   284,   262,\n",
      "         50085,   757,    13,   314,  2497,   326]])\n",
      "tensor([[ 6109,  3626,  6100,   345,  1701,   198,   198,     1,  5297,   438,\n",
      "         37121,  1035, 27339,   284,   262, 21296,    13,  1375,  2227,   683,\n",
      "         29178,  3474,   438,   392,   416,   502,  2474,   198,   198,  1544,\n",
      "         13818,   757,    11,   290,  9617,   736,   465,  1182,   284,   262,\n",
      "         50085,   757,    13,   314,  2497,   326,    11]])\n",
      "tensor([[ 6109,  3626,  6100,   345,  1701,   198,   198,     1,  5297,   438,\n",
      "         37121,  1035, 27339,   284,   262, 21296,    13,  1375,  2227,   683,\n",
      "         29178,  3474,   438,   392,   416,   502,  2474,   198,   198,  1544,\n",
      "         13818,   757,    11,   290,  9617,   736,   465,  1182,   284,   262,\n",
      "         50085,   757,    13,   314,  2497,   326,    11,   290]])\n",
      "tensor([[ 6109,  3626,  6100,   345,  1701,   198,   198,     1,  5297,   438,\n",
      "         37121,  1035, 27339,   284,   262, 21296,    13,  1375,  2227,   683,\n",
      "         29178,  3474,   438,   392,   416,   502,  2474,   198,   198,  1544,\n",
      "         13818,   757,    11,   290,  9617,   736,   465,  1182,   284,   262,\n",
      "         50085,   757,    13,   314,  2497,   326,    11,   290,   866]])\n",
      "tensor([[ 6109,  3626,  6100,   345,  1701,   198,   198,     1,  5297,   438,\n",
      "         37121,  1035, 27339,   284,   262, 21296,    13,  1375,  2227,   683,\n",
      "         29178,  3474,   438,   392,   416,   502,  2474,   198,   198,  1544,\n",
      "         13818,   757,    11,   290,  9617,   736,   465,  1182,   284,   262,\n",
      "         50085,   757,    13,   314,  2497,   326,    11,   290,   866,   262]])\n",
      "tensor([[ 6109,  3626,  6100,   345,  1701,   198,   198,     1,  5297,   438,\n",
      "         37121,  1035, 27339,   284,   262, 21296,    13,  1375,  2227,   683,\n",
      "         29178,  3474,   438,   392,   416,   502,  2474,   198,   198,  1544,\n",
      "         13818,   757,    11,   290,  9617,   736,   465,  1182,   284,   262,\n",
      "         50085,   757,    13,   314,  2497,   326,    11,   290,   866,   262,\n",
      "          2119]])\n",
      "tensor([[ 6109,  3626,  6100,   345,  1701,   198,   198,     1,  5297,   438,\n",
      "         37121,  1035, 27339,   284,   262, 21296,    13,  1375,  2227,   683,\n",
      "         29178,  3474,   438,   392,   416,   502,  2474,   198,   198,  1544,\n",
      "         13818,   757,    11,   290,  9617,   736,   465,  1182,   284,   262,\n",
      "         50085,   757,    13,   314,  2497,   326,    11,   290,   866,   262,\n",
      "          2119,    11]])\n",
      "tensor([[ 6109,  3626,  6100,   345,  1701,   198,   198,     1,  5297,   438,\n",
      "         37121,  1035, 27339,   284,   262, 21296,    13,  1375,  2227,   683,\n",
      "         29178,  3474,   438,   392,   416,   502,  2474,   198,   198,  1544,\n",
      "         13818,   757,    11,   290,  9617,   736,   465,  1182,   284,   262,\n",
      "         50085,   757,    13,   314,  2497,   326,    11,   290,   866,   262,\n",
      "          2119,    11,   618]])\n",
      "Every effort moves you?\"  \"Yes--quite insensible to the irony. She wanted him vindicated--and by me!\"  He laughed again, and threw back his head to the donkey again. I saw that, and down the room, when I\n"
     ]
    }
   ],
   "source": [
    "torch.manual_seed(123)\n",
    "model = GPTModel(GPT_CONFIG_124M)\n",
    "model.to(device)\n",
    "optimizer = torch.optim.AdamW(\n",
    "model.parameters(),\n",
    "lr=0.0004, weight_decay=0.1\n",
    ")\n",
    "num_epochs = 10\n",
    "train_losses, val_losses, tokens_seen = train_model_simple(\n",
    "model, train_loader, val_loader, optimizer, device,\n",
    "num_epochs=num_epochs, eval_freq=5, eval_iter=5,\n",
    "start_context=\"Every effort moves you\", tokenizer=tokenizer\n",
    ")"
   ]
  },
  {
   "cell_type": "code",
   "execution_count": 185,
   "id": "836d7008-31d5-4aa5-bee2-314889339430",
   "metadata": {},
   "outputs": [
    {
     "data": {
      "image/png": "[encoded data removed]",
      "text/plain": [
       "<Figure size 500x300 with 2 Axes>"
      ]
     },
     "metadata": {},
     "output_type": "display_data"
    }
   ],
   "source": [
    "import matplotlib.pyplot as plt\n",
    "from matplotlib.ticker import MaxNLocator\n",
    "def plot_losses(epochs_seen, tokens_seen, train_losses, val_losses):\n",
    "    fig, ax1 = plt.subplots(figsize=(5, 3))\n",
    "    ax1.plot(epochs_seen, train_losses, label=\"Training loss\")\n",
    "    ax1.plot(\n",
    "    epochs_seen, val_losses, linestyle=\"-.\", label=\"Validation loss\"\n",
    "    )\n",
    "    ax1.set_xlabel(\"Epochs\")\n",
    "    ax1.set_ylabel(\"Loss\")\n",
    "    ax1.legend(loc=\"upper right\")\n",
    "    ax2 = ax1.twiny()\n",
    "    ax2.plot(tokens_seen, train_losses, alpha=0)\n",
    "    ax2.set_xlabel(\"Tokens seen\")\n",
    "    fig.tight_layout()\n",
    "    plt.show()\n",
    "epochs_tensor = torch.linspace(0, num_epochs, len(train_losses))\n",
    "plot_losses(epochs_tensor, tokens_seen, train_losses, val_losses)"
   ]
  },
  {
   "cell_type": "code",
   "execution_count": 186,
   "id": "8f98ab0f-fd61-472d-a2a3-9e3c7d703ab3",
   "metadata": {},
   "outputs": [
    {
     "data": {
      "text/plain": [
       "GPTModel(\n",
       "  (tok_emb): Embedding(50257, 768)\n",
       "  (pos_emb): Embedding(256, 768)\n",
       "  (drop_emb): Dropout(p=0.1, inplace=False)\n",
       "  (trf_blocks): Sequential(\n",
       "    (0): TransformerBlock(\n",
       "      (att): MultiHeadAttention(\n",
       "        (W_query): Linear(in_features=768, out_features=768, bias=False)\n",
       "        (W_key): Linear(in_features=768, out_features=768, bias=False)\n",
       "        (W_value): Linear(in_features=768, out_features=768, bias=False)\n",
       "        (out_proj): Linear(in_features=768, out_features=768, bias=True)\n",
       "        (dropout): Dropout(p=0.1, inplace=False)\n",
       "      )\n",
       "      (ff): FeedForward(\n",
       "        (layers): Sequential(\n",
       "          (0): Linear(in_features=768, out_features=3072, bias=True)\n",
       "          (1): GELU()\n",
       "          (2): Linear(in_features=3072, out_features=768, bias=True)\n",
       "        )\n",
       "      )\n",
       "      (norm1): LayerNorm()\n",
       "      (norm2): LayerNorm()\n",
       "      (drop_shortcut): Dropout(p=0.1, inplace=False)\n",
       "    )\n",
       "    (1): TransformerBlock(\n",
       "      (att): MultiHeadAttention(\n",
       "        (W_query): Linear(in_features=768, out_features=768, bias=False)\n",
       "        (W_key): Linear(in_features=768, out_features=768, bias=False)\n",
       "        (W_value): Linear(in_features=768, out_features=768, bias=False)\n",
       "        (out_proj): Linear(in_features=768, out_features=768, bias=True)\n",
       "        (dropout): Dropout(p=0.1, inplace=False)\n",
       "      )\n",
       "      (ff): FeedForward(\n",
       "        (layers): Sequential(\n",
       "          (0): Linear(in_features=768, out_features=3072, bias=True)\n",
       "          (1): GELU()\n",
       "          (2): Linear(in_features=3072, out_features=768, bias=True)\n",
       "        )\n",
       "      )\n",
       "      (norm1): LayerNorm()\n",
       "      (norm2): LayerNorm()\n",
       "      (drop_shortcut): Dropout(p=0.1, inplace=False)\n",
       "    )\n",
       "    (2): TransformerBlock(\n",
       "      (att): MultiHeadAttention(\n",
       "        (W_query): Linear(in_features=768, out_features=768, bias=False)\n",
       "        (W_key): Linear(in_features=768, out_features=768, bias=False)\n",
       "        (W_value): Linear(in_features=768, out_features=768, bias=False)\n",
       "        (out_proj): Linear(in_features=768, out_features=768, bias=True)\n",
       "        (dropout): Dropout(p=0.1, inplace=False)\n",
       "      )\n",
       "      (ff): FeedForward(\n",
       "        (layers): Sequential(\n",
       "          (0): Linear(in_features=768, out_features=3072, bias=True)\n",
       "          (1): GELU()\n",
       "          (2): Linear(in_features=3072, out_features=768, bias=True)\n",
       "        )\n",
       "      )\n",
       "      (norm1): LayerNorm()\n",
       "      (norm2): LayerNorm()\n",
       "      (drop_shortcut): Dropout(p=0.1, inplace=False)\n",
       "    )\n",
       "    (3): TransformerBlock(\n",
       "      (att): MultiHeadAttention(\n",
       "        (W_query): Linear(in_features=768, out_features=768, bias=False)\n",
       "        (W_key): Linear(in_features=768, out_features=768, bias=False)\n",
       "        (W_value): Linear(in_features=768, out_features=768, bias=False)\n",
       "        (out_proj): Linear(in_features=768, out_features=768, bias=True)\n",
       "        (dropout): Dropout(p=0.1, inplace=False)\n",
       "      )\n",
       "      (ff): FeedForward(\n",
       "        (layers): Sequential(\n",
       "          (0): Linear(in_features=768, out_features=3072, bias=True)\n",
       "          (1): GELU()\n",
       "          (2): Linear(in_features=3072, out_features=768, bias=True)\n",
       "        )\n",
       "      )\n",
       "      (norm1): LayerNorm()\n",
       "      (norm2): LayerNorm()\n",
       "      (drop_shortcut): Dropout(p=0.1, inplace=False)\n",
       "    )\n",
       "    (4): TransformerBlock(\n",
       "      (att): MultiHeadAttention(\n",
       "        (W_query): Linear(in_features=768, out_features=768, bias=False)\n",
       "        (W_key): Linear(in_features=768, out_features=768, bias=False)\n",
       "        (W_value): Linear(in_features=768, out_features=768, bias=False)\n",
       "        (out_proj): Linear(in_features=768, out_features=768, bias=True)\n",
       "        (dropout): Dropout(p=0.1, inplace=False)\n",
       "      )\n",
       "      (ff): FeedForward(\n",
       "        (layers): Sequential(\n",
       "          (0): Linear(in_features=768, out_features=3072, bias=True)\n",
       "          (1): GELU()\n",
       "          (2): Linear(in_features=3072, out_features=768, bias=True)\n",
       "        )\n",
       "      )\n",
       "      (norm1): LayerNorm()\n",
       "      (norm2): LayerNorm()\n",
       "      (drop_shortcut): Dropout(p=0.1, inplace=False)\n",
       "    )\n",
       "    (5): TransformerBlock(\n",
       "      (att): MultiHeadAttention(\n",
       "        (W_query): Linear(in_features=768, out_features=768, bias=False)\n",
       "        (W_key): Linear(in_features=768, out_features=768, bias=False)\n",
       "        (W_value): Linear(in_features=768, out_features=768, bias=False)\n",
       "        (out_proj): Linear(in_features=768, out_features=768, bias=True)\n",
       "        (dropout): Dropout(p=0.1, inplace=False)\n",
       "      )\n",
       "      (ff): FeedForward(\n",
       "        (layers): Sequential(\n",
       "          (0): Linear(in_features=768, out_features=3072, bias=True)\n",
       "          (1): GELU()\n",
       "          (2): Linear(in_features=3072, out_features=768, bias=True)\n",
       "        )\n",
       "      )\n",
       "      (norm1): LayerNorm()\n",
       "      (norm2): LayerNorm()\n",
       "      (drop_shortcut): Dropout(p=0.1, inplace=False)\n",
       "    )\n",
       "    (6): TransformerBlock(\n",
       "      (att): MultiHeadAttention(\n",
       "        (W_query): Linear(in_features=768, out_features=768, bias=False)\n",
       "        (W_key): Linear(in_features=768, out_features=768, bias=False)\n",
       "        (W_value): Linear(in_features=768, out_features=768, bias=False)\n",
       "        (out_proj): Linear(in_features=768, out_features=768, bias=True)\n",
       "        (dropout): Dropout(p=0.1, inplace=False)\n",
       "      )\n",
       "      (ff): FeedForward(\n",
       "        (layers): Sequential(\n",
       "          (0): Linear(in_features=768, out_features=3072, bias=True)\n",
       "          (1): GELU()\n",
       "          (2): Linear(in_features=3072, out_features=768, bias=True)\n",
       "        )\n",
       "      )\n",
       "      (norm1): LayerNorm()\n",
       "      (norm2): LayerNorm()\n",
       "      (drop_shortcut): Dropout(p=0.1, inplace=False)\n",
       "    )\n",
       "    (7): TransformerBlock(\n",
       "      (att): MultiHeadAttention(\n",
       "        (W_query): Linear(in_features=768, out_features=768, bias=False)\n",
       "        (W_key): Linear(in_features=768, out_features=768, bias=False)\n",
       "        (W_value): Linear(in_features=768, out_features=768, bias=False)\n",
       "        (out_proj): Linear(in_features=768, out_features=768, bias=True)\n",
       "        (dropout): Dropout(p=0.1, inplace=False)\n",
       "      )\n",
       "      (ff): FeedForward(\n",
       "        (layers): Sequential(\n",
       "          (0): Linear(in_features=768, out_features=3072, bias=True)\n",
       "          (1): GELU()\n",
       "          (2): Linear(in_features=3072, out_features=768, bias=True)\n",
       "        )\n",
       "      )\n",
       "      (norm1): LayerNorm()\n",
       "      (norm2): LayerNorm()\n",
       "      (drop_shortcut): Dropout(p=0.1, inplace=False)\n",
       "    )\n",
       "    (8): TransformerBlock(\n",
       "      (att): MultiHeadAttention(\n",
       "        (W_query): Linear(in_features=768, out_features=768, bias=False)\n",
       "        (W_key): Linear(in_features=768, out_features=768, bias=False)\n",
       "        (W_value): Linear(in_features=768, out_features=768, bias=False)\n",
       "        (out_proj): Linear(in_features=768, out_features=768, bias=True)\n",
       "        (dropout): Dropout(p=0.1, inplace=False)\n",
       "      )\n",
       "      (ff): FeedForward(\n",
       "        (layers): Sequential(\n",
       "          (0): Linear(in_features=768, out_features=3072, bias=True)\n",
       "          (1): GELU()\n",
       "          (2): Linear(in_features=3072, out_features=768, bias=True)\n",
       "        )\n",
       "      )\n",
       "      (norm1): LayerNorm()\n",
       "      (norm2): LayerNorm()\n",
       "      (drop_shortcut): Dropout(p=0.1, inplace=False)\n",
       "    )\n",
       "    (9): TransformerBlock(\n",
       "      (att): MultiHeadAttention(\n",
       "        (W_query): Linear(in_features=768, out_features=768, bias=False)\n",
       "        (W_key): Linear(in_features=768, out_features=768, bias=False)\n",
       "        (W_value): Linear(in_features=768, out_features=768, bias=False)\n",
       "        (out_proj): Linear(in_features=768, out_features=768, bias=True)\n",
       "        (dropout): Dropout(p=0.1, inplace=False)\n",
       "      )\n",
       "      (ff): FeedForward(\n",
       "        (layers): Sequential(\n",
       "          (0): Linear(in_features=768, out_features=3072, bias=True)\n",
       "          (1): GELU()\n",
       "          (2): Linear(in_features=3072, out_features=768, bias=True)\n",
       "        )\n",
       "      )\n",
       "      (norm1): LayerNorm()\n",
       "      (norm2): LayerNorm()\n",
       "      (drop_shortcut): Dropout(p=0.1, inplace=False)\n",
       "    )\n",
       "    (10): TransformerBlock(\n",
       "      (att): MultiHeadAttention(\n",
       "        (W_query): Linear(in_features=768, out_features=768, bias=False)\n",
       "        (W_key): Linear(in_features=768, out_features=768, bias=False)\n",
       "        (W_value): Linear(in_features=768, out_features=768, bias=False)\n",
       "        (out_proj): Linear(in_features=768, out_features=768, bias=True)\n",
       "        (dropout): Dropout(p=0.1, inplace=False)\n",
       "      )\n",
       "      (ff): FeedForward(\n",
       "        (layers): Sequential(\n",
       "          (0): Linear(in_features=768, out_features=3072, bias=True)\n",
       "          (1): GELU()\n",
       "          (2): Linear(in_features=3072, out_features=768, bias=True)\n",
       "        )\n",
       "      )\n",
       "      (norm1): LayerNorm()\n",
       "      (norm2): LayerNorm()\n",
       "      (drop_shortcut): Dropout(p=0.1, inplace=False)\n",
       "    )\n",
       "    (11): TransformerBlock(\n",
       "      (att): MultiHeadAttention(\n",
       "        (W_query): Linear(in_features=768, out_features=768, bias=False)\n",
       "        (W_key): Linear(in_features=768, out_features=768, bias=False)\n",
       "        (W_value): Linear(in_features=768, out_features=768, bias=False)\n",
       "        (out_proj): Linear(in_features=768, out_features=768, bias=True)\n",
       "        (dropout): Dropout(p=0.1, inplace=False)\n",
       "      )\n",
       "      (ff): FeedForward(\n",
       "        (layers): Sequential(\n",
       "          (0): Linear(in_features=768, out_features=3072, bias=True)\n",
       "          (1): GELU()\n",
       "          (2): Linear(in_features=3072, out_features=768, bias=True)\n",
       "        )\n",
       "      )\n",
       "      (norm1): LayerNorm()\n",
       "      (norm2): LayerNorm()\n",
       "      (drop_shortcut): Dropout(p=0.1, inplace=False)\n",
       "    )\n",
       "  )\n",
       "  (final_norm): LayerNorm()\n",
       "  (out_head): Linear(in_features=768, out_features=50257, bias=False)\n",
       ")"
      ]
     },
     "execution_count": 186,
     "metadata": {},
     "output_type": "execute_result"
    }
   ],
   "source": [
    "model.to(\"cpu\")\n",
    "model.eval()"
   ]
  },
  {
   "cell_type": "code",
   "execution_count": 187,
   "id": "bd01b2c7-621a-4a8f-9b5c-79a0398dfd02",
   "metadata": {},
   "outputs": [
    {
     "name": "stdout",
     "output_type": "stream",
     "text": [
      "tensor([[6109, 3626, 6100,  345]])\n",
      "tensor([[6109, 3626, 6100,  345, 1701]])\n",
      "tensor([[6109, 3626, 6100,  345, 1701,  198]])\n",
      "tensor([[6109, 3626, 6100,  345, 1701,  198,  198]])\n",
      "tensor([[6109, 3626, 6100,  345, 1701,  198,  198,    1]])\n",
      "tensor([[6109, 3626, 6100,  345, 1701,  198,  198,    1, 5297]])\n",
      "tensor([[6109, 3626, 6100,  345, 1701,  198,  198,    1, 5297,  438]])\n",
      "tensor([[ 6109,  3626,  6100,   345,  1701,   198,   198,     1,  5297,   438,\n",
      "         37121]])\n",
      "tensor([[ 6109,  3626,  6100,   345,  1701,   198,   198,     1,  5297,   438,\n",
      "         37121,  1035]])\n",
      "tensor([[ 6109,  3626,  6100,   345,  1701,   198,   198,     1,  5297,   438,\n",
      "         37121,  1035, 27339]])\n",
      "tensor([[ 6109,  3626,  6100,   345,  1701,   198,   198,     1,  5297,   438,\n",
      "         37121,  1035, 27339,   284]])\n",
      "tensor([[ 6109,  3626,  6100,   345,  1701,   198,   198,     1,  5297,   438,\n",
      "         37121,  1035, 27339,   284,   262]])\n",
      "tensor([[ 6109,  3626,  6100,   345,  1701,   198,   198,     1,  5297,   438,\n",
      "         37121,  1035, 27339,   284,   262, 21296]])\n",
      "tensor([[ 6109,  3626,  6100,   345,  1701,   198,   198,     1,  5297,   438,\n",
      "         37121,  1035, 27339,   284,   262, 21296,    13]])\n",
      "tensor([[ 6109,  3626,  6100,   345,  1701,   198,   198,     1,  5297,   438,\n",
      "         37121,  1035, 27339,   284,   262, 21296,    13,  1375]])\n",
      "tensor([[ 6109,  3626,  6100,   345,  1701,   198,   198,     1,  5297,   438,\n",
      "         37121,  1035, 27339,   284,   262, 21296,    13,  1375,  2227]])\n",
      "tensor([[ 6109,  3626,  6100,   345,  1701,   198,   198,     1,  5297,   438,\n",
      "         37121,  1035, 27339,   284,   262, 21296,    13,  1375,  2227,   683]])\n",
      "tensor([[ 6109,  3626,  6100,   345,  1701,   198,   198,     1,  5297,   438,\n",
      "         37121,  1035, 27339,   284,   262, 21296,    13,  1375,  2227,   683,\n",
      "         29178]])\n",
      "tensor([[ 6109,  3626,  6100,   345,  1701,   198,   198,     1,  5297,   438,\n",
      "         37121,  1035, 27339,   284,   262, 21296,    13,  1375,  2227,   683,\n",
      "         29178,  3474]])\n",
      "tensor([[ 6109,  3626,  6100,   345,  1701,   198,   198,     1,  5297,   438,\n",
      "         37121,  1035, 27339,   284,   262, 21296,    13,  1375,  2227,   683,\n",
      "         29178,  3474,   438]])\n",
      "tensor([[ 6109,  3626,  6100,   345,  1701,   198,   198,     1,  5297,   438,\n",
      "         37121,  1035, 27339,   284,   262, 21296,    13,  1375,  2227,   683,\n",
      "         29178,  3474,   438,   392]])\n",
      "tensor([[ 6109,  3626,  6100,   345,  1701,   198,   198,     1,  5297,   438,\n",
      "         37121,  1035, 27339,   284,   262, 21296,    13,  1375,  2227,   683,\n",
      "         29178,  3474,   438,   392,   416]])\n",
      "tensor([[ 6109,  3626,  6100,   345,  1701,   198,   198,     1,  5297,   438,\n",
      "         37121,  1035, 27339,   284,   262, 21296,    13,  1375,  2227,   683,\n",
      "         29178,  3474,   438,   392,   416,   502]])\n",
      "tensor([[ 6109,  3626,  6100,   345,  1701,   198,   198,     1,  5297,   438,\n",
      "         37121,  1035, 27339,   284,   262, 21296,    13,  1375,  2227,   683,\n",
      "         29178,  3474,   438,   392,   416,   502,  2474]])\n",
      "tensor([[ 6109,  3626,  6100,   345,  1701,   198,   198,     1,  5297,   438,\n",
      "         37121,  1035, 27339,   284,   262, 21296,    13,  1375,  2227,   683,\n",
      "         29178,  3474,   438,   392,   416,   502,  2474,   198]])\n",
      "Output text:\n",
      " Every effort moves you?\"\n",
      "\n",
      "\"Yes--quite insensible to the irony. She wanted him vindicated--and by me!\"\n",
      "\n",
      "\n"
     ]
    }
   ],
   "source": [
    "tokenizer = tiktoken.get_encoding(\"gpt2\")\n",
    "token_ids = generate_text_simple(\n",
    "model=model,\n",
    "idx=text_to_token_ids(\"Every effort moves you\", tokenizer),\n",
    "max_new_tokens=25,\n",
    "context_size=GPT_CONFIG_124M[\"context_length\"]\n",
    ")\n",
    "print(\"Output text:\\n\", token_ids_to_text(token_ids, tokenizer))"
   ]
  },
  {
   "cell_type": "code",
   "execution_count": 188,
   "id": "236afe74-9562-4d3a-8f90-50a384e2fe45",
   "metadata": {},
   "outputs": [
    {
     "name": "stdout",
     "output_type": "stream",
     "text": [
      "tensor([[6109, 3626, 6100,  345]])\n",
      "tensor([[6109, 3626, 6100,  345, 1701]])\n",
      "tensor([[6109, 3626, 6100,  345, 1701,  198]])\n",
      "tensor([[6109, 3626, 6100,  345, 1701,  198,  198]])\n",
      "tensor([[6109, 3626, 6100,  345, 1701,  198,  198,    1]])\n",
      "tensor([[6109, 3626, 6100,  345, 1701,  198,  198,    1, 5297]])\n",
      "tensor([[6109, 3626, 6100,  345, 1701,  198,  198,    1, 5297,  438]])\n",
      "tensor([[ 6109,  3626,  6100,   345,  1701,   198,   198,     1,  5297,   438,\n",
      "         37121]])\n",
      "tensor([[ 6109,  3626,  6100,   345,  1701,   198,   198,     1,  5297,   438,\n",
      "         37121,  1035]])\n",
      "tensor([[ 6109,  3626,  6100,   345,  1701,   198,   198,     1,  5297,   438,\n",
      "         37121,  1035, 27339]])\n",
      "tensor([[ 6109,  3626,  6100,   345,  1701,   198,   198,     1,  5297,   438,\n",
      "         37121,  1035, 27339,   284]])\n",
      "tensor([[ 6109,  3626,  6100,   345,  1701,   198,   198,     1,  5297,   438,\n",
      "         37121,  1035, 27339,   284,   262]])\n",
      "tensor([[ 6109,  3626,  6100,   345,  1701,   198,   198,     1,  5297,   438,\n",
      "         37121,  1035, 27339,   284,   262, 21296]])\n",
      "tensor([[ 6109,  3626,  6100,   345,  1701,   198,   198,     1,  5297,   438,\n",
      "         37121,  1035, 27339,   284,   262, 21296,    13]])\n",
      "tensor([[ 6109,  3626,  6100,   345,  1701,   198,   198,     1,  5297,   438,\n",
      "         37121,  1035, 27339,   284,   262, 21296,    13,  1375]])\n",
      "tensor([[ 6109,  3626,  6100,   345,  1701,   198,   198,     1,  5297,   438,\n",
      "         37121,  1035, 27339,   284,   262, 21296,    13,  1375,  2227]])\n",
      "tensor([[ 6109,  3626,  6100,   345,  1701,   198,   198,     1,  5297,   438,\n",
      "         37121,  1035, 27339,   284,   262, 21296,    13,  1375,  2227,   683]])\n",
      "tensor([[ 6109,  3626,  6100,   345,  1701,   198,   198,     1,  5297,   438,\n",
      "         37121,  1035, 27339,   284,   262, 21296,    13,  1375,  2227,   683,\n",
      "         29178]])\n",
      "tensor([[ 6109,  3626,  6100,   345,  1701,   198,   198,     1,  5297,   438,\n",
      "         37121,  1035, 27339,   284,   262, 21296,    13,  1375,  2227,   683,\n",
      "         29178,  3474]])\n",
      "tensor([[ 6109,  3626,  6100,   345,  1701,   198,   198,     1,  5297,   438,\n",
      "         37121,  1035, 27339,   284,   262, 21296,    13,  1375,  2227,   683,\n",
      "         29178,  3474,   438]])\n",
      "tensor([[ 6109,  3626,  6100,   345,  1701,   198,   198,     1,  5297,   438,\n",
      "         37121,  1035, 27339,   284,   262, 21296,    13,  1375,  2227,   683,\n",
      "         29178,  3474,   438,   392]])\n",
      "tensor([[ 6109,  3626,  6100,   345,  1701,   198,   198,     1,  5297,   438,\n",
      "         37121,  1035, 27339,   284,   262, 21296,    13,  1375,  2227,   683,\n",
      "         29178,  3474,   438,   392,   416]])\n",
      "tensor([[ 6109,  3626,  6100,   345,  1701,   198,   198,     1,  5297,   438,\n",
      "         37121,  1035, 27339,   284,   262, 21296,    13,  1375,  2227,   683,\n",
      "         29178,  3474,   438,   392,   416,   502]])\n",
      "tensor([[ 6109,  3626,  6100,   345,  1701,   198,   198,     1,  5297,   438,\n",
      "         37121,  1035, 27339,   284,   262, 21296,    13,  1375,  2227,   683,\n",
      "         29178,  3474,   438,   392,   416,   502,  2474]])\n",
      "tensor([[ 6109,  3626,  6100,   345,  1701,   198,   198,     1,  5297,   438,\n",
      "         37121,  1035, 27339,   284,   262, 21296,    13,  1375,  2227,   683,\n",
      "         29178,  3474,   438,   392,   416,   502,  2474,   198]])\n",
      "Output text:\n",
      " Every effort moves you?\"\n",
      "\n",
      "\"Yes--quite insensible to the irony. She wanted him vindicated--and by me!\"\n",
      "\n",
      "\n"
     ]
    }
   ],
   "source": [
    "token_ids = generate_text_simple(\n",
    "model=model,\n",
    "idx=text_to_token_ids(\"Every effort moves you\", tokenizer),\n",
    "max_new_tokens=25,\n",
    "context_size=GPT_CONFIG_124M[\"context_length\"]\n",
    ")\n",
    "print(\"Output text:\\n\", token_ids_to_text(token_ids, tokenizer))"
   ]
  },
  {
   "cell_type": "code",
   "execution_count": 189,
   "id": "7c556d33-94c6-4c60-8c5e-68a1db88ccbe",
   "metadata": {},
   "outputs": [],
   "source": [
    "vocab = {\n",
    "\"closer\": 0,\n",
    "\"every\": 1,\n",
    "\"effort\": 2,\n",
    "\"forward\": 3,\n",
    "\"inches\": 4,\n",
    "\"moves\": 5,\n",
    "\"pizza\": 6,\n",
    "\"toward\": 7,\n",
    "\"you\": 8,\n",
    "}\n",
    "inverse_vocab = {v: k for k, v in vocab.items()}"
   ]
  },
  {
   "cell_type": "code",
   "execution_count": 190,
   "id": "3f812acc-aab0-4a93-8892-a9f0469566f9",
   "metadata": {},
   "outputs": [
    {
     "data": {
      "text/plain": [
       "{0: 'closer',\n",
       " 1: 'every',\n",
       " 2: 'effort',\n",
       " 3: 'forward',\n",
       " 4: 'inches',\n",
       " 5: 'moves',\n",
       " 6: 'pizza',\n",
       " 7: 'toward',\n",
       " 8: 'you'}"
      ]
     },
     "execution_count": 190,
     "metadata": {},
     "output_type": "execute_result"
    }
   ],
   "source": [
    "inverse_vocab"
   ]
  },
  {
   "cell_type": "code",
   "execution_count": 191,
   "id": "996fe3d9-06d5-4cf3-bf21-3382d81f1a07",
   "metadata": {},
   "outputs": [],
   "source": [
    "next_token_logits = torch.tensor(\n",
    "[4.51, 0.89, -1.90, 6.75, 1.63, -1.62, -1.89, 6.28, 1.79]\n",
    ")"
   ]
  },
  {
   "cell_type": "code",
   "execution_count": 192,
   "id": "d0e2d042-6f5d-4f23-a30e-83230043813b",
   "metadata": {},
   "outputs": [
    {
     "name": "stdout",
     "output_type": "stream",
     "text": [
      "forward\n"
     ]
    }
   ],
   "source": [
    "probas = torch.softmax(next_token_logits, dim=0)\n",
    "next_token_id = torch.argmax(probas).item()\n",
    "print(inverse_vocab[next_token_id])"
   ]
  },
  {
   "cell_type": "code",
   "execution_count": 193,
   "id": "c594ce0e-ca4c-4853-bb3a-b97a99c60266",
   "metadata": {},
   "outputs": [
    {
     "data": {
      "text/plain": [
       "tensor([    0.0609,     0.0016,     0.0001,     0.5721,     0.0034,     0.0001,\n",
       "            0.0001,     0.3576,     0.0040])"
      ]
     },
     "execution_count": 193,
     "metadata": {},
     "output_type": "execute_result"
    }
   ],
   "source": [
    "probas"
   ]
  },
  {
   "cell_type": "code",
   "execution_count": 194,
   "id": "2c31b9fa-8b12-4356-b4cf-c658b8142572",
   "metadata": {},
   "outputs": [
    {
     "name": "stdout",
     "output_type": "stream",
     "text": [
      "7\n",
      "toward\n"
     ]
    }
   ],
   "source": [
    "torch.manual_seed(123)\n",
    "next_token_id = torch.multinomial(probas, num_samples=1).item()\n",
    "print(next_token_id)\n",
    "print(inverse_vocab[next_token_id])"
   ]
  },
  {
   "cell_type": "code",
   "execution_count": 195,
   "id": "acd30f69-5ab8-4886-a100-8dec047ad6b2",
   "metadata": {},
   "outputs": [
    {
     "name": "stdout",
     "output_type": "stream",
     "text": [
      "71 x closer\n",
      "2 x every\n",
      "0 x effort\n",
      "544 x forward\n",
      "2 x inches\n",
      "1 x moves\n",
      "0 x pizza\n",
      "376 x toward\n",
      "4 x you\n"
     ]
    }
   ],
   "source": [
    "def print_sampled_tokens(probas):\n",
    "    torch.manual_seed(123)\n",
    "    sample = [torch.multinomial(probas, num_samples=1).item() for i in range(1_000)]\n",
    "    sampled_ids = torch.bincount(torch.tensor(sample))\n",
    "    for i, freq in enumerate(sampled_ids):\n",
    "        print(f\"{freq} x {inverse_vocab[i]}\")\n",
    "print_sampled_tokens(probas)"
   ]
  },
  {
   "cell_type": "code",
   "execution_count": 196,
   "id": "713c0bed-f36d-47fe-8ee7-f1eb63236818",
   "metadata": {},
   "outputs": [],
   "source": [
    "def softmax_with_temperature(logits, temperature):\n",
    "    scaled_logits = logits / temperature\n",
    "    return torch.softmax(scaled_logits, dim=0)"
   ]
  },
  {
   "cell_type": "code",
   "execution_count": 197,
   "id": "44ca8fc0-0b70-4cac-a0a6-8a4b9432fe2c",
   "metadata": {},
   "outputs": [
    {
     "data": {
      "image/png": "[encoded data removed]",
      "text/plain": [
       "<Figure size 500x300 with 1 Axes>"
      ]
     },
     "metadata": {},
     "output_type": "display_data"
    }
   ],
   "source": [
    "temperatures = [1, 0.1, 5]\n",
    "scaled_probas = [softmax_with_temperature(next_token_logits, T) for T in temperatures]\n",
    "x = torch.arange(len(vocab))\n",
    "bar_width = 0.15\n",
    "fig, ax = plt.subplots(figsize=(5, 3))\n",
    "for i, T in enumerate(temperatures):\n",
    "    rects = ax.bar(x + i * bar_width, scaled_probas[i],\n",
    "bar_width, label=f'Temperature = {T}')\n",
    "ax.set_ylabel('Probability')\n",
    "ax.set_xticks(x)\n",
    "ax.set_xticklabels(vocab.keys(), rotation=90)\n",
    "ax.legend()\n",
    "plt.tight_layout()\n",
    "plt.show()"
   ]
  },
  {
   "cell_type": "code",
   "execution_count": 198,
   "id": "1dca97af-417e-4b1a-a366-86c0fef03837",
   "metadata": {},
   "outputs": [
    {
     "name": "stdout",
     "output_type": "stream",
     "text": [
      "Top logits: tensor([6.7500, 6.2800, 4.5100])\n",
      "Top positions: tensor([3, 7, 0])\n"
     ]
    }
   ],
   "source": [
    "top_k = 3\n",
    "top_logits, top_pos = torch.topk(next_token_logits, top_k)\n",
    "print(\"Top logits:\", top_logits)\n",
    "print(\"Top positions:\", top_pos)"
   ]
  },
  {
   "cell_type": "code",
   "execution_count": 199,
   "id": "36cda552-4447-4e90-8a78-5d8565704afa",
   "metadata": {},
   "outputs": [
    {
     "data": {
      "text/plain": [
       "tensor([ 4.5100,  0.8900, -1.9000,  6.7500,  1.6300, -1.6200, -1.8900,  6.2800,\n",
       "         1.7900])"
      ]
     },
     "execution_count": 199,
     "metadata": {},
     "output_type": "execute_result"
    }
   ],
   "source": [
    "next_token_logits"
   ]
  },
  {
   "cell_type": "code",
   "execution_count": 202,
   "id": "3a3a172b-5d1d-4e24-951d-872dd8bf4e2c",
   "metadata": {},
   "outputs": [
    {
     "name": "stdout",
     "output_type": "stream",
     "text": [
      "tensor([4.5100,   -inf,   -inf, 6.7500,   -inf,   -inf,   -inf, 6.2800,   -inf])\n"
     ]
    }
   ],
   "source": [
    "new_logits = torch.where(\n",
    "condition=next_token_logits < top_logits[-1],\n",
    "input=torch.tensor(float('-inf')),\n",
    "other=next_token_logits\n",
    ")\n",
    "print(new_logits)\n",
    "# print(new_logits[:,-1])"
   ]
  },
  {
   "cell_type": "code",
   "execution_count": 203,
   "id": "8981d8f7-779d-4131-9fce-b2e4036bb973",
   "metadata": {},
   "outputs": [
    {
     "name": "stdout",
     "output_type": "stream",
     "text": [
      "tensor([0.0615, 0.0000, 0.0000, 0.5775, 0.0000, 0.0000, 0.0000, 0.3610, 0.0000])\n"
     ]
    }
   ],
   "source": [
    "topk_probas = torch.softmax(new_logits, dim=0)\n",
    "print(topk_probas)"
   ]
  },
  {
   "cell_type": "code",
   "execution_count": 204,
   "id": "3e5eb536-9ed9-4cb6-b8e0-1a78752571b9",
   "metadata": {},
   "outputs": [],
   "source": [
    "def generate(model, idx, max_new_tokens, context_size,\n",
    "             temperature=0.0, top_k=None, eos_id=None):\n",
    "    for _ in range(max_new_tokens):\n",
    "        idx_cond = idx[:, -context_size:]\n",
    "        with torch.no_grad():\n",
    "            logits = model(idx_cond)\n",
    "        logits = logits[:, -1, :]\n",
    "        \n",
    "        if top_k is not None:\n",
    "            top_logits, _ = torch.topk(logits, top_k)\n",
    "            min_val = top_logits[:, -1]\n",
    "            logits = torch.where(\n",
    "                logits < min_val,\n",
    "                torch.tensor(float('-inf')).to(logits.device), logits)\n",
    "        \n",
    "        if temperature > 0.0:\n",
    "            logits = logits / temperature\n",
    "            probs = torch.softmax(logits, dim=-1)\n",
    "            idx_next = torch.multinomial(probs, num_samples=1)\n",
    "        else:\n",
    "            idx_next = torch.argmax(logits, dim=-1, keepdim=True)\n",
    "            \n",
    "        if idx_next == eos_id:\n",
    "            break\n",
    "        idx = torch.cat((idx, idx_next), dim=1)\n",
    "    return idx"
   ]
  },
  {
   "cell_type": "code",
   "execution_count": 205,
   "id": "fc75cf61-3503-4350-af7d-e1cecc409633",
   "metadata": {},
   "outputs": [
    {
     "name": "stdout",
     "output_type": "stream",
     "text": [
      "256\n",
      "Output text:\n",
      " Every effort moves you know began to my surprise, a little it was the\n",
      "\"Ah enough\n"
     ]
    }
   ],
   "source": [
    "torch.manual_seed(123)\n",
    "token_ids = generate(\n",
    "model=model,\n",
    "idx=text_to_token_ids(\"Every effort moves you\", tokenizer),\n",
    "max_new_tokens=15,\n",
    "context_size=GPT_CONFIG_124M[\"context_length\"],\n",
    "top_k=25,\n",
    "temperature=1.4\n",
    ")\n",
    "print(GPT_CONFIG_124M['context_length'])\n",
    "print(\"Output text:\\n\", token_ids_to_text(token_ids, tokenizer))"
   ]
  },
  {
   "cell_type": "code",
   "execution_count": 206,
   "id": "84c03988-2851-45a6-856e-2451372bb2b7",
   "metadata": {},
   "outputs": [
    {
     "data": {
      "text/plain": [
       "torch.Size([1, 19])"
      ]
     },
     "execution_count": 206,
     "metadata": {},
     "output_type": "execute_result"
    }
   ],
   "source": [
    "text_to_token_ids(token_ids_to_text(token_ids, tokenizer), tokenizer).shape"
   ]
  },
  {
   "cell_type": "code",
   "execution_count": 207,
   "id": "946baef4-3c61-4417-8012-5591ce35bcd9",
   "metadata": {},
   "outputs": [],
   "source": [
    "torch.save(model.state_dict(), \"../model/model.pth\")"
   ]
  },
  {
   "cell_type": "code",
   "execution_count": 208,
   "id": "a66f72bd-7080-4311-81f5-2e22f999125c",
   "metadata": {},
   "outputs": [
    {
     "data": {
      "text/plain": [
       "GPTModel(\n",
       "  (tok_emb): Embedding(50257, 768)\n",
       "  (pos_emb): Embedding(256, 768)\n",
       "  (drop_emb): Dropout(p=0.1, inplace=False)\n",
       "  (trf_blocks): Sequential(\n",
       "    (0): TransformerBlock(\n",
       "      (att): MultiHeadAttention(\n",
       "        (W_query): Linear(in_features=768, out_features=768, bias=False)\n",
       "        (W_key): Linear(in_features=768, out_features=768, bias=False)\n",
       "        (W_value): Linear(in_features=768, out_features=768, bias=False)\n",
       "        (out_proj): Linear(in_features=768, out_features=768, bias=True)\n",
       "        (dropout): Dropout(p=0.1, inplace=False)\n",
       "      )\n",
       "      (ff): FeedForward(\n",
       "        (layers): Sequential(\n",
       "          (0): Linear(in_features=768, out_features=3072, bias=True)\n",
       "          (1): GELU()\n",
       "          (2): Linear(in_features=3072, out_features=768, bias=True)\n",
       "        )\n",
       "      )\n",
       "      (norm1): LayerNorm()\n",
       "      (norm2): LayerNorm()\n",
       "      (drop_shortcut): Dropout(p=0.1, inplace=False)\n",
       "    )\n",
       "    (1): TransformerBlock(\n",
       "      (att): MultiHeadAttention(\n",
       "        (W_query): Linear(in_features=768, out_features=768, bias=False)\n",
       "        (W_key): Linear(in_features=768, out_features=768, bias=False)\n",
       "        (W_value): Linear(in_features=768, out_features=768, bias=False)\n",
       "        (out_proj): Linear(in_features=768, out_features=768, bias=True)\n",
       "        (dropout): Dropout(p=0.1, inplace=False)\n",
       "      )\n",
       "      (ff): FeedForward(\n",
       "        (layers): Sequential(\n",
       "          (0): Linear(in_features=768, out_features=3072, bias=True)\n",
       "          (1): GELU()\n",
       "          (2): Linear(in_features=3072, out_features=768, bias=True)\n",
       "        )\n",
       "      )\n",
       "      (norm1): LayerNorm()\n",
       "      (norm2): LayerNorm()\n",
       "      (drop_shortcut): Dropout(p=0.1, inplace=False)\n",
       "    )\n",
       "    (2): TransformerBlock(\n",
       "      (att): MultiHeadAttention(\n",
       "        (W_query): Linear(in_features=768, out_features=768, bias=False)\n",
       "        (W_key): Linear(in_features=768, out_features=768, bias=False)\n",
       "        (W_value): Linear(in_features=768, out_features=768, bias=False)\n",
       "        (out_proj): Linear(in_features=768, out_features=768, bias=True)\n",
       "        (dropout): Dropout(p=0.1, inplace=False)\n",
       "      )\n",
       "      (ff): FeedForward(\n",
       "        (layers): Sequential(\n",
       "          (0): Linear(in_features=768, out_features=3072, bias=True)\n",
       "          (1): GELU()\n",
       "          (2): Linear(in_features=3072, out_features=768, bias=True)\n",
       "        )\n",
       "      )\n",
       "      (norm1): LayerNorm()\n",
       "      (norm2): LayerNorm()\n",
       "      (drop_shortcut): Dropout(p=0.1, inplace=False)\n",
       "    )\n",
       "    (3): TransformerBlock(\n",
       "      (att): MultiHeadAttention(\n",
       "        (W_query): Linear(in_features=768, out_features=768, bias=False)\n",
       "        (W_key): Linear(in_features=768, out_features=768, bias=False)\n",
       "        (W_value): Linear(in_features=768, out_features=768, bias=False)\n",
       "        (out_proj): Linear(in_features=768, out_features=768, bias=True)\n",
       "        (dropout): Dropout(p=0.1, inplace=False)\n",
       "      )\n",
       "      (ff): FeedForward(\n",
       "        (layers): Sequential(\n",
       "          (0): Linear(in_features=768, out_features=3072, bias=True)\n",
       "          (1): GELU()\n",
       "          (2): Linear(in_features=3072, out_features=768, bias=True)\n",
       "        )\n",
       "      )\n",
       "      (norm1): LayerNorm()\n",
       "      (norm2): LayerNorm()\n",
       "      (drop_shortcut): Dropout(p=0.1, inplace=False)\n",
       "    )\n",
       "    (4): TransformerBlock(\n",
       "      (att): MultiHeadAttention(\n",
       "        (W_query): Linear(in_features=768, out_features=768, bias=False)\n",
       "        (W_key): Linear(in_features=768, out_features=768, bias=False)\n",
       "        (W_value): Linear(in_features=768, out_features=768, bias=False)\n",
       "        (out_proj): Linear(in_features=768, out_features=768, bias=True)\n",
       "        (dropout): Dropout(p=0.1, inplace=False)\n",
       "      )\n",
       "      (ff): FeedForward(\n",
       "        (layers): Sequential(\n",
       "          (0): Linear(in_features=768, out_features=3072, bias=True)\n",
       "          (1): GELU()\n",
       "          (2): Linear(in_features=3072, out_features=768, bias=True)\n",
       "        )\n",
       "      )\n",
       "      (norm1): LayerNorm()\n",
       "      (norm2): LayerNorm()\n",
       "      (drop_shortcut): Dropout(p=0.1, inplace=False)\n",
       "    )\n",
       "    (5): TransformerBlock(\n",
       "      (att): MultiHeadAttention(\n",
       "        (W_query): Linear(in_features=768, out_features=768, bias=False)\n",
       "        (W_key): Linear(in_features=768, out_features=768, bias=False)\n",
       "        (W_value): Linear(in_features=768, out_features=768, bias=False)\n",
       "        (out_proj): Linear(in_features=768, out_features=768, bias=True)\n",
       "        (dropout): Dropout(p=0.1, inplace=False)\n",
       "      )\n",
       "      (ff): FeedForward(\n",
       "        (layers): Sequential(\n",
       "          (0): Linear(in_features=768, out_features=3072, bias=True)\n",
       "          (1): GELU()\n",
       "          (2): Linear(in_features=3072, out_features=768, bias=True)\n",
       "        )\n",
       "      )\n",
       "      (norm1): LayerNorm()\n",
       "      (norm2): LayerNorm()\n",
       "      (drop_shortcut): Dropout(p=0.1, inplace=False)\n",
       "    )\n",
       "    (6): TransformerBlock(\n",
       "      (att): MultiHeadAttention(\n",
       "        (W_query): Linear(in_features=768, out_features=768, bias=False)\n",
       "        (W_key): Linear(in_features=768, out_features=768, bias=False)\n",
       "        (W_value): Linear(in_features=768, out_features=768, bias=False)\n",
       "        (out_proj): Linear(in_features=768, out_features=768, bias=True)\n",
       "        (dropout): Dropout(p=0.1, inplace=False)\n",
       "      )\n",
       "      (ff): FeedForward(\n",
       "        (layers): Sequential(\n",
       "          (0): Linear(in_features=768, out_features=3072, bias=True)\n",
       "          (1): GELU()\n",
       "          (2): Linear(in_features=3072, out_features=768, bias=True)\n",
       "        )\n",
       "      )\n",
       "      (norm1): LayerNorm()\n",
       "      (norm2): LayerNorm()\n",
       "      (drop_shortcut): Dropout(p=0.1, inplace=False)\n",
       "    )\n",
       "    (7): TransformerBlock(\n",
       "      (att): MultiHeadAttention(\n",
       "        (W_query): Linear(in_features=768, out_features=768, bias=False)\n",
       "        (W_key): Linear(in_features=768, out_features=768, bias=False)\n",
       "        (W_value): Linear(in_features=768, out_features=768, bias=False)\n",
       "        (out_proj): Linear(in_features=768, out_features=768, bias=True)\n",
       "        (dropout): Dropout(p=0.1, inplace=False)\n",
       "      )\n",
       "      (ff): FeedForward(\n",
       "        (layers): Sequential(\n",
       "          (0): Linear(in_features=768, out_features=3072, bias=True)\n",
       "          (1): GELU()\n",
       "          (2): Linear(in_features=3072, out_features=768, bias=True)\n",
       "        )\n",
       "      )\n",
       "      (norm1): LayerNorm()\n",
       "      (norm2): LayerNorm()\n",
       "      (drop_shortcut): Dropout(p=0.1, inplace=False)\n",
       "    )\n",
       "    (8): TransformerBlock(\n",
       "      (att): MultiHeadAttention(\n",
       "        (W_query): Linear(in_features=768, out_features=768, bias=False)\n",
       "        (W_key): Linear(in_features=768, out_features=768, bias=False)\n",
       "        (W_value): Linear(in_features=768, out_features=768, bias=False)\n",
       "        (out_proj): Linear(in_features=768, out_features=768, bias=True)\n",
       "        (dropout): Dropout(p=0.1, inplace=False)\n",
       "      )\n",
       "      (ff): FeedForward(\n",
       "        (layers): Sequential(\n",
       "          (0): Linear(in_features=768, out_features=3072, bias=True)\n",
       "          (1): GELU()\n",
       "          (2): Linear(in_features=3072, out_features=768, bias=True)\n",
       "        )\n",
       "      )\n",
       "      (norm1): LayerNorm()\n",
       "      (norm2): LayerNorm()\n",
       "      (drop_shortcut): Dropout(p=0.1, inplace=False)\n",
       "    )\n",
       "    (9): TransformerBlock(\n",
       "      (att): MultiHeadAttention(\n",
       "        (W_query): Linear(in_features=768, out_features=768, bias=False)\n",
       "        (W_key): Linear(in_features=768, out_features=768, bias=False)\n",
       "        (W_value): Linear(in_features=768, out_features=768, bias=False)\n",
       "        (out_proj): Linear(in_features=768, out_features=768, bias=True)\n",
       "        (dropout): Dropout(p=0.1, inplace=False)\n",
       "      )\n",
       "      (ff): FeedForward(\n",
       "        (layers): Sequential(\n",
       "          (0): Linear(in_features=768, out_features=3072, bias=True)\n",
       "          (1): GELU()\n",
       "          (2): Linear(in_features=3072, out_features=768, bias=True)\n",
       "        )\n",
       "      )\n",
       "      (norm1): LayerNorm()\n",
       "      (norm2): LayerNorm()\n",
       "      (drop_shortcut): Dropout(p=0.1, inplace=False)\n",
       "    )\n",
       "    (10): TransformerBlock(\n",
       "      (att): MultiHeadAttention(\n",
       "        (W_query): Linear(in_features=768, out_features=768, bias=False)\n",
       "        (W_key): Linear(in_features=768, out_features=768, bias=False)\n",
       "        (W_value): Linear(in_features=768, out_features=768, bias=False)\n",
       "        (out_proj): Linear(in_features=768, out_features=768, bias=True)\n",
       "        (dropout): Dropout(p=0.1, inplace=False)\n",
       "      )\n",
       "      (ff): FeedForward(\n",
       "        (layers): Sequential(\n",
       "          (0): Linear(in_features=768, out_features=3072, bias=True)\n",
       "          (1): GELU()\n",
       "          (2): Linear(in_features=3072, out_features=768, bias=True)\n",
       "        )\n",
       "      )\n",
       "      (norm1): LayerNorm()\n",
       "      (norm2): LayerNorm()\n",
       "      (drop_shortcut): Dropout(p=0.1, inplace=False)\n",
       "    )\n",
       "    (11): TransformerBlock(\n",
       "      (att): MultiHeadAttention(\n",
       "        (W_query): Linear(in_features=768, out_features=768, bias=False)\n",
       "        (W_key): Linear(in_features=768, out_features=768, bias=False)\n",
       "        (W_value): Linear(in_features=768, out_features=768, bias=False)\n",
       "        (out_proj): Linear(in_features=768, out_features=768, bias=True)\n",
       "        (dropout): Dropout(p=0.1, inplace=False)\n",
       "      )\n",
       "      (ff): FeedForward(\n",
       "        (layers): Sequential(\n",
       "          (0): Linear(in_features=768, out_features=3072, bias=True)\n",
       "          (1): GELU()\n",
       "          (2): Linear(in_features=3072, out_features=768, bias=True)\n",
       "        )\n",
       "      )\n",
       "      (norm1): LayerNorm()\n",
       "      (norm2): LayerNorm()\n",
       "      (drop_shortcut): Dropout(p=0.1, inplace=False)\n",
       "    )\n",
       "  )\n",
       "  (final_norm): LayerNorm()\n",
       "  (out_head): Linear(in_features=768, out_features=50257, bias=False)\n",
       ")"
      ]
     },
     "execution_count": 208,
     "metadata": {},
     "output_type": "execute_result"
    }
   ],
   "source": [
    "model = GPTModel(GPT_CONFIG_124M)\n",
    "model.load_state_dict(torch.load(\"../model/model.pth\", map_location=device))\n",
    "model.eval()"
   ]
  },
  {
   "cell_type": "code",
   "execution_count": 209,
   "id": "226f156e-d999-47be-88dd-5a8895f95d5d",
   "metadata": {},
   "outputs": [],
   "source": [
    "torch.save({\n",
    "\"model_state_dict\": model.state_dict(),\n",
    "\"optimizer_state_dict\": optimizer.state_dict(),\n",
    "},\n",
    "\"model_and_optimizer.pth\"\n",
    ")"
   ]
  },
  {
   "cell_type": "code",
   "execution_count": 210,
   "id": "b713ac8f-df20-4f32-902e-bf31c623c969",
   "metadata": {},
   "outputs": [],
   "source": [
    "checkpoint = torch.load(\"model_and_optimizer.pth\", map_location=device)\n",
    "model = GPTModel(GPT_CONFIG_124M)\n",
    "model.load_state_dict(checkpoint[\"model_state_dict\"])\n",
    "optimizer = torch.optim.AdamW(model.parameters(), lr=5e-4, weight_decay=0.1)\n",
    "optimizer.load_state_dict(checkpoint[\"optimizer_state_dict\"])\n",
    "model.train();"
   ]
  },
  {
   "cell_type": "code",
   "execution_count": null,
   "id": "0e9825cc-f659-4e74-98c4-9236cd0c5a9a",
   "metadata": {},
   "outputs": [],
   "source": [
    "!pip install tensorflow>=2.15.0"
   ]
  },
  {
   "cell_type": "code",
   "execution_count": 212,
   "id": "c3478dc8-fb97-469c-9bc6-d4e5fb350505",
   "metadata": {},
   "outputs": [],
   "source": [
    "# import urllib.request\n",
    "# url = (\n",
    "# \"https://raw.githubusercontent.com/rasbt/LLMs-from-scratch/refs/heads/main/ch05/01_main-chapter-code/gpt_download.py\"\n",
    "# )\n",
    "# filename = url.split('/')[-1]\n",
    "# urllib.request.urlretrieve(url, filename)"
   ]
  },
  {
   "cell_type": "code",
   "execution_count": 213,
   "id": "7e8bfd49-945e-4b04-9ede-d7aea120d9a8",
   "metadata": {},
   "outputs": [],
   "source": [
    "# import os \n",
    "# file_name = \"gpt2-small-124M.pth\"\n",
    "# # file_name = \"gpt2-medium-355M.pth\"\n",
    "# # file_name = \"gpt2-large-774M.pth\"\n",
    "# # file_name = \"gpt2-xl-1558M.pth\"\n",
    "\n",
    "# url = f\"https://huggingface.co/rasbt/gpt2-from-scratch-pytorch/resolve/main/{file_name}\"\n",
    "\n",
    "# if not os.path.exists(file_name):\n",
    "#     urllib.request.urlretrieve(url, file_name)\n",
    "#     print(f\"Downloaded to {file_name}\")\n",
    "\n",
    "# gpt = GPTModel(BASE_CONFIG)\n",
    "# gpt.load_state_dict(torch.load(file_name, weights_only=True))\n",
    "# gpt.eval()\n",
    "\n",
    "# device = torch.device(\"cuda\" if torch.cuda.is_available() else \"cpu\")\n",
    "# gpt.to(device);\n",
    "\n",
    "\n",
    "# torch.manual_seed(123)\n",
    "\n",
    "# token_ids = generate(\n",
    "#     model=gpt,\n",
    "#     idx=text_to_token_ids(\"Every effort moves you\", tokenizer).to(device),\n",
    "#     max_new_tokens=25,\n",
    "#     context_size=NEW_CONFIG[\"context_length\"],\n",
    "#     top_k=50,\n",
    "#     temperature=1.5\n",
    "# )\n",
    "\n",
    "# print(\"Output text:\\n\", token_ids_to_text(token_ids, tokenizer))\n"
   ]
  },
  {
   "cell_type": "code",
   "execution_count": 214,
   "id": "7c016fa2-791b-43fa-a42c-27f91cc778d7",
   "metadata": {},
   "outputs": [],
   "source": [
    "# print(\"Settings:\", settings)\n",
    "# print(\"Parameter dictionary keys:\", params.keys())"
   ]
  },
  {
   "cell_type": "code",
   "execution_count": null,
   "id": "d12fab65-0df9-467f-92e0-2e575f518710",
   "metadata": {},
   "outputs": [],
   "source": [
    "from gpt_download import download_and_load_gpt2\n",
    "settings, params = download_and_load_gpt2(\n",
    "model_size=\"124M\", models_dir=\"gpt2\"\n",
    ")"
   ]
  },
  {
   "cell_type": "code",
   "execution_count": null,
   "id": "aee3c956-58f7-4c08-af54-95c044369378",
   "metadata": {},
   "outputs": [],
   "source": [
    "print(\"Settings:\", settings)\n",
    "print(\"Parameter dictionary keys:\", params.keys())"
   ]
  },
  {
   "cell_type": "code",
   "execution_count": null,
   "id": "fa5047cd-3c53-4474-b70a-56496866e871",
   "metadata": {},
   "outputs": [],
   "source": [
    "print(params[\"wte\"])\n",
    "print(\"Token embedding weight tensor dimensions:\", params[\"wte\"].shape)"
   ]
  },
  {
   "cell_type": "code",
   "execution_count": null,
   "id": "e9ca89e5-f8fe-46b6-acb1-3714066072e8",
   "metadata": {},
   "outputs": [],
   "source": [
    "params['wpe'].shape"
   ]
  },
  {
   "cell_type": "code",
   "execution_count": null,
   "id": "da78b62c-78e9-49fb-b79b-2696a2ccd61a",
   "metadata": {},
   "outputs": [],
   "source": [
    "len(params['blocks'])"
   ]
  },
  {
   "cell_type": "code",
   "execution_count": null,
   "id": "4af60d37-d512-41af-9b30-e17d64bc750a",
   "metadata": {},
   "outputs": [],
   "source": [
    "params['b'].shape"
   ]
  },
  {
   "cell_type": "code",
   "execution_count": null,
   "id": "1d4f0b64-9f1e-436e-b9bb-1f1278f92afb",
   "metadata": {},
   "outputs": [],
   "source": [
    "params['g'].shape"
   ]
  },
  {
   "cell_type": "code",
   "execution_count": null,
   "id": "58da9dc6-2d76-4492-b80b-772dcd96a650",
   "metadata": {},
   "outputs": [],
   "source": [
    "model_configs = {\n",
    "\"gpt2-small (124M)\": {\"emb_dim\": 768, \"n_layers\": 12, \"n_heads\": 12},\n",
    "\"gpt2-medium (355M)\": {\"emb_dim\": 1024, \"n_layers\": 24, \"n_heads\": 16},\n",
    "\"gpt2-large (774M)\": {\"emb_dim\": 1280, \"n_layers\": 36, \"n_heads\": 20},\n",
    "\"gpt2-xl (1558M)\": {\"emb_dim\": 1600, \"n_layers\": 48, \"n_heads\": 25},\n",
    "}"
   ]
  },
  {
   "cell_type": "code",
   "execution_count": null,
   "id": "ae2ba793-7876-45f0-8c48-717183e1d348",
   "metadata": {},
   "outputs": [],
   "source": [
    "model_name = \"gpt2-small (124M)\"\n",
    "NEW_CONFIG = GPT_CONFIG_124M.copy()\n",
    "NEW_CONFIG.update(model_configs[model_name])"
   ]
  },
  {
   "cell_type": "code",
   "execution_count": null,
   "id": "b9657c94-7a3d-400e-b895-9e30d052bf8b",
   "metadata": {},
   "outputs": [],
   "source": [
    "print(GPT_CONFIG_124M)"
   ]
  },
  {
   "cell_type": "code",
   "execution_count": null,
   "id": "23f9a026-5135-4c76-be02-edb3538de847",
   "metadata": {},
   "outputs": [],
   "source": [
    "print(NEW_CONFIG)"
   ]
  },
  {
   "cell_type": "code",
   "execution_count": null,
   "id": "2c146f04-b953-46c4-83ab-2d2753390a4c",
   "metadata": {},
   "outputs": [],
   "source": [
    "NEW_CONFIG.update({\"context_length\": 1024})"
   ]
  },
  {
   "cell_type": "code",
   "execution_count": null,
   "id": "77df22cc-3a5a-42c3-8256-f1e57d25becb",
   "metadata": {},
   "outputs": [],
   "source": [
    "NEW_CONFIG.update({\"qkv_bias\": True})"
   ]
  },
  {
   "cell_type": "code",
   "execution_count": null,
   "id": "ff849d82-848d-477f-9f59-a80084a5bf30",
   "metadata": {},
   "outputs": [],
   "source": [
    "gpt = GPTModel(NEW_CONFIG)\n",
    "gpt.eval()"
   ]
  },
  {
   "cell_type": "code",
   "execution_count": null,
   "id": "9d6fe20c-7631-49bc-9b4b-2e9f5bd0fb9d",
   "metadata": {},
   "outputs": [],
   "source": [
    "def assign(left, right):\n",
    "    if left.shape != right.shape:\n",
    "        raise ValueError(f\"Shape mismatch. Left: {left.shape}, \"\n",
    "        \"Right: {right.shape}\"\n",
    "        )\n",
    "    return torch.nn.Parameter(torch.tensor(right))"
   ]
  },
  {
   "cell_type": "code",
   "execution_count": null,
   "id": "ef271a00-82bc-41bc-b1c3-7b6cb7a0c0dc",
   "metadata": {},
   "outputs": [],
   "source": [
    "# Load pretrained weights\n",
    "\n",
    "import numpy as np\n",
    "def load_weights_into_gpt(gpt, params):\n",
    "    gpt.pos_emb.weight = assign(gpt.pos_emb.weight, params['wpe'])\n",
    "    gpt.tok_emb.weight = assign(gpt.tok_emb.weight, params['wte'])\n",
    "    for b in range(len(params[\"blocks\"])):\n",
    "        q_w, k_w, v_w = np.split(\n",
    "        (params[\"blocks\"][b][\"attn\"][\"c_attn\"])[\"w\"], 3, axis=-1)\n",
    "        gpt.trf_blocks[b].att.W_query.weight = assign(\n",
    "        gpt.trf_blocks[b].att.W_query.weight, q_w.T)\n",
    "        gpt.trf_blocks[b].att.W_key.weight = assign(\n",
    "        gpt.trf_blocks[b].att.W_key.weight, k_w.T)\n",
    "        gpt.trf_blocks[b].att.W_value.weight = assign(\n",
    "        gpt.trf_blocks[b].att.W_value.weight, v_w.T)\n",
    "        q_b, k_b, v_b = np.split(\n",
    "        (params[\"blocks\"][b][\"attn\"][\"c_attn\"])[\"b\"], 3, axis=-1)\n",
    "        gpt.trf_blocks[b].att.W_query.bias = assign(\n",
    "        gpt.trf_blocks[b].att.W_query.bias, q_b)\n",
    "        gpt.trf_blocks[b].att.W_key.bias = assign(\n",
    "        gpt.trf_blocks[b].att.W_key.bias, k_b)\n",
    "        gpt.trf_blocks[b].att.W_value.bias = assign(\n",
    "        gpt.trf_blocks[b].att.W_value.bias, v_b)\n",
    "        gpt.trf_blocks[b].att.out_proj.weight = assign(\n",
    "        gpt.trf_blocks[b].att.out_proj.weight,\n",
    "        params[\"blocks\"][b][\"attn\"][\"c_proj\"][\"w\"].T)\n",
    "        gpt.trf_blocks[b].att.out_proj.bias = assign(\n",
    "        gpt.trf_blocks[b].att.out_proj.bias,\n",
    "        params[\"blocks\"][b][\"attn\"][\"c_proj\"][\"b\"])\n",
    "        gpt.trf_blocks[b].ff.layers[0].weight = assign(\n",
    "        gpt.trf_blocks[b].ff.layers[0].weight,\n",
    "        params[\"blocks\"][b][\"mlp\"][\"c_fc\"][\"w\"].T)\n",
    "        gpt.trf_blocks[b].ff.layers[0].bias = assign(\n",
    "        gpt.trf_blocks[b].ff.layers[0].bias,\n",
    "        params[\"blocks\"][b][\"mlp\"][\"c_fc\"][\"b\"])\n",
    "        gpt.trf_blocks[b].ff.layers[2].weight = assign(\n",
    "        gpt.trf_blocks[b].ff.layers[2].weight,\n",
    "        params[\"blocks\"][b][\"mlp\"][\"c_proj\"][\"w\"].T)\n",
    "        gpt.trf_blocks[b].ff.layers[2].bias = assign(\n",
    "        gpt.trf_blocks[b].ff.layers[2].bias,\n",
    "        params[\"blocks\"][b][\"mlp\"][\"c_proj\"][\"b\"])\n",
    "        gpt.trf_blocks[b].norm1.scale = assign(\n",
    "        gpt.trf_blocks[b].norm1.scale,\n",
    "        params[\"blocks\"][b][\"ln_1\"][\"g\"])\n",
    "        gpt.trf_blocks[b].norm1.shift = assign(\n",
    "        gpt.trf_blocks[b].norm1.shift,\n",
    "        params[\"blocks\"][b][\"ln_1\"][\"b\"])\n",
    "        gpt.trf_blocks[b].norm2.scale = assign(\n",
    "        gpt.trf_blocks[b].norm2.scale,\n",
    "        params[\"blocks\"][b][\"ln_2\"][\"g\"])\n",
    "        gpt.trf_blocks[b].norm2.shift = assign(\n",
    "        gpt.trf_blocks[b].norm2.shift,\n",
    "        params[\"blocks\"][b][\"ln_2\"][\"b\"])\n",
    "    gpt.final_norm.scale = assign(gpt.final_norm.scale, params[\"g\"])\n",
    "    gpt.final_norm.shift = assign(gpt.final_norm.shift, params[\"b\"])\n",
    "    gpt.out_head.weight = assign(gpt.out_head.weight, params[\"wte\"])"
   ]
  },
  {
   "cell_type": "code",
   "execution_count": null,
   "id": "439f3e71-cf7d-4d17-829f-9e1ab5836f91",
   "metadata": {},
   "outputs": [],
   "source": [
    "load_weights_into_gpt(gpt, params)\n",
    "gpt.to(device)"
   ]
  },
  {
   "cell_type": "code",
   "execution_count": null,
   "id": "925ec649-7ab9-4210-9069-5053d7b4a5c3",
   "metadata": {},
   "outputs": [],
   "source": [
    "torch.manual_seed(123)\n",
    "token_ids = generate(\n",
    "model=gpt,\n",
    "idx=text_to_token_ids(\"every thing is moving perfect\", tokenizer).to(device),\n",
    "max_new_tokens=25,\n",
    "context_size=NEW_CONFIG[\"context_length\"],\n",
    "top_k=50,\n",
    "temperature=1.5\n",
    ")\n",
    "print(\"Output text:\\n\", token_ids_to_text(token_ids, tokenizer))"
   ]
  },
  {
   "cell_type": "code",
   "execution_count": null,
   "id": "81bebd62-7eaa-4282-95a3-e01e94bca223",
   "metadata": {},
   "outputs": [],
   "source": []
  }
 ],
 "metadata": {
  "kernelspec": {
   "display_name": "Python 3 (ipykernel)",
   "language": "python",
   "name": "python3"
  },
  "language_info": {
   "codemirror_mode": {
    "name": "ipython",
    "version": 3
   },
   "file_extension": ".py",
   "mimetype": "text/x-python",
   "name": "python",
   "nbconvert_exporter": "python",
   "pygments_lexer": "ipython3",
   "version": "3.9.21"
  }
 },
 "nbformat": 4,
 "nbformat_minor": 5
}
